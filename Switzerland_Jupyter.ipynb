{
 "cells": [
  {
   "cell_type": "markdown",
   "metadata": {},
   "source": [
    "# COVID-19 SMALL PROJECT\n",
    "\n",
    "Using data updated daily from ECDC's website, we take a look at the number of cases and deaths for countries within the dataset. We then focus on Switzerland's data. Note that the data is updated daily.\n",
    "\n",
    "Link for the  data:\n",
    "https://www.ecdc.europa.eu/en/publications-data/download-todays-data-geographic-distribution-covid-19-cases-worldwide\n",
    "\n",
    "### What this Notebook shows:\n",
    "1. General review and use of Pandas, Numpy, Matplotlib and Styling\n",
    "2. Use of Markdown on Jupyter Notebook\n",
    "3. Analyzing COVID-19's spreading rate in Switzerland\n",
    "4. Possible ideas for future related projects (Forecasting, etc...)\n"
   ]
  },
  {
   "cell_type": "markdown",
   "metadata": {},
   "source": [
    "## Importing World's COVID-19 Data\n",
    "\n",
    "We start off by importing the data as a csv file, which is updated daily."
   ]
  },
  {
   "cell_type": "code",
   "execution_count": 1,
   "metadata": {},
   "outputs": [],
   "source": [
    "import pandas as pd\n",
    "import numpy as np\n",
    "import scipy.stats as sp\n",
    "from matplotlib import pyplot as plt\n",
    "\n",
    "# Project updated 7th of April 2020\n",
    "\n",
    "# load the csv file\n",
    "df = pd.read_csv('/Users/dankendirli/Documents/Projects/AnalyzeData COVID/Covid-19.csv')"
   ]
  },
  {
   "cell_type": "code",
   "execution_count": 2,
   "metadata": {},
   "outputs": [],
   "source": [
    "# Set the width of the number of characters for the rows and columns\n",
    "pd.set_option('display.width', 320)\n",
    "pd.set_option('display.max_columns', None)\n",
    "pd.set_option('display.max_rows', None)"
   ]
  },
  {
   "cell_type": "code",
   "execution_count": 3,
   "metadata": {},
   "outputs": [
    {
     "name": "stdout",
     "output_type": "stream",
     "text": [
      "      dateRep  day  month  year  cases  deaths countriesAndTerritories geoId countryterritoryCode  popData2018\n",
      "0  07/04/2020    7      4  2020     38       0             Afghanistan    AF                  AFG   37172386.0\n",
      "1  06/04/2020    6      4  2020     29       2             Afghanistan    AF                  AFG   37172386.0\n",
      "2  05/04/2020    5      4  2020     35       1             Afghanistan    AF                  AFG   37172386.0\n",
      "3  04/04/2020    4      4  2020      0       0             Afghanistan    AF                  AFG   37172386.0\n",
      "4  03/04/2020    3      4  2020     43       0             Afghanistan    AF                  AFG   37172386.0\n"
     ]
    }
   ],
   "source": [
    "# check first five rows to see how data and headers look\n",
    "print(df.head())"
   ]
  },
  {
   "cell_type": "code",
   "execution_count": 4,
   "metadata": {},
   "outputs": [
    {
     "name": "stdout",
     "output_type": "stream",
     "text": [
      "         dateRep  day  month  year  cases  deaths countriesAndTerritories geoId countryterritoryCode  popData2018\n",
      "9305  25/03/2020   25      3  2020      0       0                Zimbabwe    ZW                  ZWE   14439018.0\n",
      "9306  24/03/2020   24      3  2020      0       1                Zimbabwe    ZW                  ZWE   14439018.0\n",
      "9307  23/03/2020   23      3  2020      0       0                Zimbabwe    ZW                  ZWE   14439018.0\n",
      "9308  22/03/2020   22      3  2020      1       0                Zimbabwe    ZW                  ZWE   14439018.0\n",
      "9309  21/03/2020   21      3  2020      1       0                Zimbabwe    ZW                  ZWE   14439018.0\n"
     ]
    }
   ],
   "source": [
    "# check last five rows to see how many total rows\n",
    "print(df.tail())"
   ]
  },
  {
   "cell_type": "code",
   "execution_count": 5,
   "metadata": {},
   "outputs": [
    {
     "name": "stdout",
     "output_type": "stream",
     "text": [
      "dateRep                    9310\n",
      "day                        9310\n",
      "month                      9310\n",
      "year                       9310\n",
      "cases                      9310\n",
      "deaths                     9310\n",
      "countriesAndTerritories    9310\n",
      "geoId                      9286\n",
      "countryterritoryCode       9125\n",
      "popData2018                9172\n",
      "dtype: int64\n"
     ]
    }
   ],
   "source": [
    "# Count how much data in each column\n",
    "print(df.count())"
   ]
  },
  {
   "cell_type": "code",
   "execution_count": 6,
   "metadata": {},
   "outputs": [
    {
     "name": "stdout",
     "output_type": "stream",
     "text": [
      "               day        month         year         cases       deaths   popData2018\n",
      "count  9310.000000  9310.000000  9310.000000   9310.000000  9310.000000  9.172000e+03\n",
      "mean     15.713426     2.561117  2019.992803    141.459506     7.955532  6.488272e+07\n",
      "std       9.462419     1.281713     0.084531   1104.270540    66.660811  2.026134e+08\n",
      "min       1.000000     1.000000  2019.000000     -9.000000     0.000000  1.000000e+03\n",
      "25%       6.000000     2.000000  2020.000000      0.000000     0.000000  3.731000e+06\n",
      "50%      16.000000     3.000000  2020.000000      0.000000     0.000000  1.062716e+07\n",
      "75%      24.000000     3.000000  2020.000000     12.000000     0.000000  4.449450e+07\n",
      "max      31.000000    12.000000  2020.000000  34272.000000  2004.000000  1.392730e+09\n"
     ]
    }
   ],
   "source": [
    "# Statistical measures of all columns\n",
    "print(df.describe())"
   ]
  },
  {
   "cell_type": "markdown",
   "metadata": {},
   "source": [
    "__Note__: Notice a __*-9 cases*__ for the minimum for \"cases\", that's interesting (definitely a mistake)"
   ]
  },
  {
   "cell_type": "code",
   "execution_count": 7,
   "metadata": {},
   "outputs": [
    {
     "name": "stdout",
     "output_type": "stream",
     "text": [
      "                  day     month      year     cases    deaths  popData2018\n",
      "day          1.000000 -0.062515 -0.137551 -0.006747 -0.020805    -0.014747\n",
      "month       -0.062515  1.000000 -0.627024  0.077603  0.083191    -0.064556\n",
      "year        -0.137551 -0.627024  1.000000  0.010876  0.010161    -0.009061\n",
      "cases       -0.006747  0.077603  0.010876  1.000000  0.764639     0.099339\n",
      "deaths      -0.020805  0.083191  0.010161  0.764639  1.000000     0.056359\n",
      "popData2018 -0.014747 -0.064556 -0.009061  0.099339  0.056359     1.000000\n"
     ]
    }
   ],
   "source": [
    "# See correlation within data\n",
    "print(df.corr())"
   ]
  },
  {
   "cell_type": "code",
   "execution_count": 8,
   "metadata": {},
   "outputs": [
    {
     "name": "stdout",
     "output_type": "stream",
     "text": [
      "204\n"
     ]
    }
   ],
   "source": [
    "# How many countries are listed in the dataset\n",
    "print(df.countriesAndTerritories.nunique())\n",
    "# Comment by Dan: 202 on April 1st 2020"
   ]
  },
  {
   "cell_type": "markdown",
   "metadata": {},
   "source": [
    "#### Find which country has the highest cases and how many:"
   ]
  },
  {
   "cell_type": "code",
   "execution_count": 9,
   "metadata": {},
   "outputs": [
    {
     "name": "stdout",
     "output_type": "stream",
     "text": [
      "34272\n"
     ]
    }
   ],
   "source": [
    "\n",
    "# first find highest case number\n",
    "max_value = df.cases.max()\n",
    "print(max_value)"
   ]
  },
  {
   "cell_type": "code",
   "execution_count": 10,
   "metadata": {},
   "outputs": [
    {
     "name": "stdout",
     "output_type": "stream",
     "text": [
      "[8995]\n"
     ]
    }
   ],
   "source": [
    "# Then find its index to match country\n",
    "country_index = df[df['cases'] == df.cases.max()].index.values\n",
    "print(country_index)"
   ]
  },
  {
   "cell_type": "code",
   "execution_count": 11,
   "metadata": {},
   "outputs": [
    {
     "name": "stdout",
     "output_type": "stream",
     "text": [
      "8995    United_States_of_America\n",
      "Name: countriesAndTerritories, dtype: object\n"
     ]
    }
   ],
   "source": [
    "# max country based on index:\n",
    "max_country = df.iloc[country_index, 6]\n",
    "print(max_country)"
   ]
  },
  {
   "cell_type": "markdown",
   "metadata": {},
   "source": [
    "#### Find which country has the lowest cases and how many:"
   ]
  },
  {
   "cell_type": "code",
   "execution_count": 12,
   "metadata": {},
   "outputs": [
    {
     "name": "stdout",
     "output_type": "stream",
     "text": [
      "-9\n"
     ]
    }
   ],
   "source": [
    "# first find lowest case number\n",
    "min_value = df.cases.min()\n",
    "print(min_value)"
   ]
  },
  {
   "cell_type": "code",
   "execution_count": 13,
   "metadata": {},
   "outputs": [
    {
     "name": "stdout",
     "output_type": "stream",
     "text": [
      "[1645]\n"
     ]
    }
   ],
   "source": [
    "# Then find its index to match country\n",
    "country_index2 = df[df['cases'] == df.cases.min()].index.values\n",
    "print(country_index2)"
   ]
  },
  {
   "cell_type": "code",
   "execution_count": 14,
   "metadata": {},
   "outputs": [
    {
     "name": "stdout",
     "output_type": "stream",
     "text": [
      "1645    Cases_on_an_international_conveyance_Japan\n",
      "Name: countriesAndTerritories, dtype: object\n"
     ]
    }
   ],
   "source": [
    "# min country based on index:\n",
    "min_country = df.iloc[country_index2, 6]\n",
    "print(min_country)"
   ]
  },
  {
   "cell_type": "code",
   "execution_count": 15,
   "metadata": {},
   "outputs": [
    {
     "name": "stdout",
     "output_type": "stream",
     "text": [
      "dateRep                    2507\n",
      "day                        2507\n",
      "month                      2507\n",
      "year                       2507\n",
      "cases                      2507\n",
      "deaths                     2507\n",
      "countriesAndTerritories    2507\n",
      "geoId                      2507\n",
      "countryterritoryCode       2466\n",
      "popData2018                2479\n",
      "dtype: int64\n"
     ]
    }
   ],
   "source": [
    "# How many instances where at least 10 cases FOR EVERY COUNTRY were reported in a single day\n",
    "df2 = df[df['cases']>= 10]\n",
    "print(df2.count())\n",
    "# Comment by Dan: 1904 instances"
   ]
  },
  {
   "cell_type": "code",
   "execution_count": 16,
   "metadata": {},
   "outputs": [
    {
     "name": "stdout",
     "output_type": "stream",
     "text": [
      "The total number of reported cases is 1316988.\n",
      "The total number of reported deaths is 74066.\n"
     ]
    }
   ],
   "source": [
    "# Total number of cases and deaths worldwide\n",
    "world_sum_cases = df['cases'].sum()\n",
    "world_sum_deaths = df['deaths'].sum()\n",
    "print('The total number of reported cases is ' + str(world_sum_cases) + '.')\n",
    "print('The total number of reported deaths is ' + str(world_sum_deaths) + '.')"
   ]
  },
  {
   "cell_type": "markdown",
   "metadata": {},
   "source": [
    "##### Population could be used to insert a new column (Total Cases per Population) and compare the ratios between countries.\n"
   ]
  },
  {
   "cell_type": "markdown",
   "metadata": {},
   "source": [
    "# Case Study on Switzerland\n",
    "\n",
    "Here we focus on Switzerland and have some fun with the data. Explore some styling and visualization. First we start by making a new dataframe."
   ]
  },
  {
   "cell_type": "code",
   "execution_count": 17,
   "metadata": {},
   "outputs": [],
   "source": [
    "# This shows all 2020 cases of Switzerland\n",
    "df4 = df[df['countriesAndTerritories']=='Switzerland']"
   ]
  },
  {
   "cell_type": "code",
   "execution_count": 18,
   "metadata": {},
   "outputs": [
    {
     "name": "stdout",
     "output_type": "stream",
     "text": [
      "dateRep                    33\n",
      "day                        33\n",
      "month                      33\n",
      "year                       33\n",
      "cases                      33\n",
      "deaths                     33\n",
      "countriesAndTerritories    33\n",
      "geoId                      33\n",
      "countryterritoryCode       33\n",
      "popData2018                33\n",
      "dtype: int64\n"
     ]
    }
   ],
   "source": [
    "# How many instances where at least 10 cases were reported in a single day\n",
    "df3 = df2[df2['countriesAndTerritories'] == 'Switzerland']\n",
    "Swiss_cases = df3.count()\n",
    "print(Swiss_cases)\n",
    "# Comment by Dan: 27 on April 1st 2020, Note that the first case was on 25/02/2020"
   ]
  },
  {
   "cell_type": "code",
   "execution_count": 19,
   "metadata": {},
   "outputs": [],
   "source": [
    "# rename all columns\n",
    "df4.columns = ['Date', 'D', 'M', 'Y', 'Cases', 'Deaths', 'Countries', 'Geolocal', 'Country Code' , 'Population']"
   ]
  },
  {
   "cell_type": "markdown",
   "metadata": {},
   "source": [
    "Check data type of each column, notice \"Date\" is not in __datetime__ format. We can use the command print(df4.info()) to check the data type of each column. Date formatting also seems to be wrong since download (months and days format sometimes inversed). We will fix that."
   ]
  },
  {
   "cell_type": "code",
   "execution_count": 20,
   "metadata": {},
   "outputs": [],
   "source": [
    "# delete unrequired columns: Date, Countries, Geolocal, Country Code, Population\n",
    "df4 = df4.drop(columns= ['Date','Countries','Geolocal', 'Country Code', 'Population'])"
   ]
  },
  {
   "cell_type": "code",
   "execution_count": 21,
   "metadata": {},
   "outputs": [],
   "source": [
    "# Create a New Date column based on the Day, Month and Year columns and delete the D, M and Y columns\n",
    "# Automatic data type change as well\n",
    "Date = pd.to_datetime((df4.Y*10000+df4.M*100+df4.D).apply(str), format='%Y%m%d')\n",
    "df4.insert(0,\"Date\", Date)\n",
    "df4 = df4.drop(columns= ['D','M','Y'])\n",
    "# print(df4.info())"
   ]
  },
  {
   "cell_type": "code",
   "execution_count": 22,
   "metadata": {},
   "outputs": [],
   "source": [
    "# Delete unrequired days of data (days where there were 0 cases and 0 deaths)\n",
    "\n",
    "unrequired_days = df4[(df4['Deaths'] == 0) & (df4['Cases'] == 0)].index\n",
    "df4.drop(unrequired_days, inplace = True)\n"
   ]
  },
  {
   "cell_type": "markdown",
   "metadata": {},
   "source": [
    "__Note:__ between 26-28/02/2020: one case disappeared within those 2 days. Also no cases between 16-18/03/2020."
   ]
  },
  {
   "cell_type": "code",
   "execution_count": 23,
   "metadata": {},
   "outputs": [],
   "source": [
    "# Reset the indexes\n",
    "df4 = df4.reset_index(drop=True)"
   ]
  },
  {
   "cell_type": "code",
   "execution_count": 24,
   "metadata": {},
   "outputs": [
    {
     "data": {
      "text/html": [
       "<div>\n",
       "<style scoped>\n",
       "    .dataframe tbody tr th:only-of-type {\n",
       "        vertical-align: middle;\n",
       "    }\n",
       "\n",
       "    .dataframe tbody tr th {\n",
       "        vertical-align: top;\n",
       "    }\n",
       "\n",
       "    .dataframe thead th {\n",
       "        text-align: right;\n",
       "    }\n",
       "</style>\n",
       "<table border=\"1\" class=\"dataframe\">\n",
       "  <thead>\n",
       "    <tr style=\"text-align: right;\">\n",
       "      <th></th>\n",
       "      <th>Date</th>\n",
       "      <th>Cases</th>\n",
       "      <th>Deaths</th>\n",
       "    </tr>\n",
       "  </thead>\n",
       "  <tbody>\n",
       "    <tr>\n",
       "      <th>0</th>\n",
       "      <td>2020-04-07</td>\n",
       "      <td>552</td>\n",
       "      <td>25</td>\n",
       "    </tr>\n",
       "    <tr>\n",
       "      <th>1</th>\n",
       "      <td>2020-04-06</td>\n",
       "      <td>821</td>\n",
       "      <td>19</td>\n",
       "    </tr>\n",
       "    <tr>\n",
       "      <th>2</th>\n",
       "      <td>2020-04-05</td>\n",
       "      <td>974</td>\n",
       "      <td>56</td>\n",
       "    </tr>\n",
       "    <tr>\n",
       "      <th>3</th>\n",
       "      <td>2020-04-04</td>\n",
       "      <td>1033</td>\n",
       "      <td>52</td>\n",
       "    </tr>\n",
       "    <tr>\n",
       "      <th>4</th>\n",
       "      <td>2020-04-03</td>\n",
       "      <td>1124</td>\n",
       "      <td>54</td>\n",
       "    </tr>\n",
       "    <tr>\n",
       "      <th>5</th>\n",
       "      <td>2020-04-02</td>\n",
       "      <td>962</td>\n",
       "      <td>5</td>\n",
       "    </tr>\n",
       "    <tr>\n",
       "      <th>6</th>\n",
       "      <td>2020-04-01</td>\n",
       "      <td>696</td>\n",
       "      <td>78</td>\n",
       "    </tr>\n",
       "    <tr>\n",
       "      <th>7</th>\n",
       "      <td>2020-03-31</td>\n",
       "      <td>1138</td>\n",
       "      <td>38</td>\n",
       "    </tr>\n",
       "    <tr>\n",
       "      <th>8</th>\n",
       "      <td>2020-03-30</td>\n",
       "      <td>1122</td>\n",
       "      <td>22</td>\n",
       "    </tr>\n",
       "    <tr>\n",
       "      <th>9</th>\n",
       "      <td>2020-03-29</td>\n",
       "      <td>1048</td>\n",
       "      <td>38</td>\n",
       "    </tr>\n",
       "    <tr>\n",
       "      <th>10</th>\n",
       "      <td>2020-03-28</td>\n",
       "      <td>1390</td>\n",
       "      <td>36</td>\n",
       "    </tr>\n",
       "    <tr>\n",
       "      <th>11</th>\n",
       "      <td>2020-03-27</td>\n",
       "      <td>1000</td>\n",
       "      <td>58</td>\n",
       "    </tr>\n",
       "    <tr>\n",
       "      <th>12</th>\n",
       "      <td>2020-03-26</td>\n",
       "      <td>925</td>\n",
       "      <td>17</td>\n",
       "    </tr>\n",
       "    <tr>\n",
       "      <th>13</th>\n",
       "      <td>2020-03-25</td>\n",
       "      <td>774</td>\n",
       "      <td>20</td>\n",
       "    </tr>\n",
       "    <tr>\n",
       "      <th>14</th>\n",
       "      <td>2020-03-24</td>\n",
       "      <td>1044</td>\n",
       "      <td>6</td>\n",
       "    </tr>\n",
       "    <tr>\n",
       "      <th>15</th>\n",
       "      <td>2020-03-23</td>\n",
       "      <td>894</td>\n",
       "      <td>4</td>\n",
       "    </tr>\n",
       "    <tr>\n",
       "      <th>16</th>\n",
       "      <td>2020-03-22</td>\n",
       "      <td>1237</td>\n",
       "      <td>13</td>\n",
       "    </tr>\n",
       "    <tr>\n",
       "      <th>17</th>\n",
       "      <td>2020-03-21</td>\n",
       "      <td>952</td>\n",
       "      <td>10</td>\n",
       "    </tr>\n",
       "    <tr>\n",
       "      <th>18</th>\n",
       "      <td>2020-03-20</td>\n",
       "      <td>878</td>\n",
       "      <td>12</td>\n",
       "    </tr>\n",
       "    <tr>\n",
       "      <th>19</th>\n",
       "      <td>2020-03-19</td>\n",
       "      <td>360</td>\n",
       "      <td>2</td>\n",
       "    </tr>\n",
       "    <tr>\n",
       "      <th>20</th>\n",
       "      <td>2020-03-18</td>\n",
       "      <td>450</td>\n",
       "      <td>5</td>\n",
       "    </tr>\n",
       "    <tr>\n",
       "      <th>21</th>\n",
       "      <td>2020-03-17</td>\n",
       "      <td>0</td>\n",
       "      <td>1</td>\n",
       "    </tr>\n",
       "    <tr>\n",
       "      <th>22</th>\n",
       "      <td>2020-03-16</td>\n",
       "      <td>841</td>\n",
       "      <td>2</td>\n",
       "    </tr>\n",
       "    <tr>\n",
       "      <th>23</th>\n",
       "      <td>2020-03-15</td>\n",
       "      <td>238</td>\n",
       "      <td>4</td>\n",
       "    </tr>\n",
       "    <tr>\n",
       "      <th>24</th>\n",
       "      <td>2020-03-14</td>\n",
       "      <td>267</td>\n",
       "      <td>3</td>\n",
       "    </tr>\n",
       "    <tr>\n",
       "      <th>25</th>\n",
       "      <td>2020-03-13</td>\n",
       "      <td>212</td>\n",
       "      <td>0</td>\n",
       "    </tr>\n",
       "    <tr>\n",
       "      <th>26</th>\n",
       "      <td>2020-03-12</td>\n",
       "      <td>152</td>\n",
       "      <td>1</td>\n",
       "    </tr>\n",
       "    <tr>\n",
       "      <th>27</th>\n",
       "      <td>2020-03-11</td>\n",
       "      <td>116</td>\n",
       "      <td>1</td>\n",
       "    </tr>\n",
       "    <tr>\n",
       "      <th>28</th>\n",
       "      <td>2020-03-10</td>\n",
       "      <td>42</td>\n",
       "      <td>0</td>\n",
       "    </tr>\n",
       "    <tr>\n",
       "      <th>29</th>\n",
       "      <td>2020-03-09</td>\n",
       "      <td>68</td>\n",
       "      <td>1</td>\n",
       "    </tr>\n",
       "    <tr>\n",
       "      <th>30</th>\n",
       "      <td>2020-03-08</td>\n",
       "      <td>55</td>\n",
       "      <td>0</td>\n",
       "    </tr>\n",
       "    <tr>\n",
       "      <th>31</th>\n",
       "      <td>2020-03-07</td>\n",
       "      <td>122</td>\n",
       "      <td>0</td>\n",
       "    </tr>\n",
       "    <tr>\n",
       "      <th>32</th>\n",
       "      <td>2020-03-06</td>\n",
       "      <td>30</td>\n",
       "      <td>1</td>\n",
       "    </tr>\n",
       "    <tr>\n",
       "      <th>33</th>\n",
       "      <td>2020-03-05</td>\n",
       "      <td>20</td>\n",
       "      <td>0</td>\n",
       "    </tr>\n",
       "    <tr>\n",
       "      <th>34</th>\n",
       "      <td>2020-03-04</td>\n",
       "      <td>7</td>\n",
       "      <td>0</td>\n",
       "    </tr>\n",
       "    <tr>\n",
       "      <th>35</th>\n",
       "      <td>2020-03-03</td>\n",
       "      <td>6</td>\n",
       "      <td>0</td>\n",
       "    </tr>\n",
       "    <tr>\n",
       "      <th>36</th>\n",
       "      <td>2020-03-02</td>\n",
       "      <td>6</td>\n",
       "      <td>0</td>\n",
       "    </tr>\n",
       "    <tr>\n",
       "      <th>37</th>\n",
       "      <td>2020-03-01</td>\n",
       "      <td>6</td>\n",
       "      <td>0</td>\n",
       "    </tr>\n",
       "    <tr>\n",
       "      <th>38</th>\n",
       "      <td>2020-02-29</td>\n",
       "      <td>4</td>\n",
       "      <td>0</td>\n",
       "    </tr>\n",
       "    <tr>\n",
       "      <th>39</th>\n",
       "      <td>2020-02-28</td>\n",
       "      <td>7</td>\n",
       "      <td>0</td>\n",
       "    </tr>\n",
       "    <tr>\n",
       "      <th>40</th>\n",
       "      <td>2020-02-26</td>\n",
       "      <td>1</td>\n",
       "      <td>0</td>\n",
       "    </tr>\n",
       "  </tbody>\n",
       "</table>\n",
       "</div>"
      ],
      "text/plain": [
       "         Date  Cases  Deaths\n",
       "0  2020-04-07    552      25\n",
       "1  2020-04-06    821      19\n",
       "2  2020-04-05    974      56\n",
       "3  2020-04-04   1033      52\n",
       "4  2020-04-03   1124      54\n",
       "5  2020-04-02    962       5\n",
       "6  2020-04-01    696      78\n",
       "7  2020-03-31   1138      38\n",
       "8  2020-03-30   1122      22\n",
       "9  2020-03-29   1048      38\n",
       "10 2020-03-28   1390      36\n",
       "11 2020-03-27   1000      58\n",
       "12 2020-03-26    925      17\n",
       "13 2020-03-25    774      20\n",
       "14 2020-03-24   1044       6\n",
       "15 2020-03-23    894       4\n",
       "16 2020-03-22   1237      13\n",
       "17 2020-03-21    952      10\n",
       "18 2020-03-20    878      12\n",
       "19 2020-03-19    360       2\n",
       "20 2020-03-18    450       5\n",
       "21 2020-03-17      0       1\n",
       "22 2020-03-16    841       2\n",
       "23 2020-03-15    238       4\n",
       "24 2020-03-14    267       3\n",
       "25 2020-03-13    212       0\n",
       "26 2020-03-12    152       1\n",
       "27 2020-03-11    116       1\n",
       "28 2020-03-10     42       0\n",
       "29 2020-03-09     68       1\n",
       "30 2020-03-08     55       0\n",
       "31 2020-03-07    122       0\n",
       "32 2020-03-06     30       1\n",
       "33 2020-03-05     20       0\n",
       "34 2020-03-04      7       0\n",
       "35 2020-03-03      6       0\n",
       "36 2020-03-02      6       0\n",
       "37 2020-03-01      6       0\n",
       "38 2020-02-29      4       0\n",
       "39 2020-02-28      7       0\n",
       "40 2020-02-26      1       0"
      ]
     },
     "execution_count": 24,
     "metadata": {},
     "output_type": "execute_result"
    }
   ],
   "source": [
    "# save data to new csv\n",
    "# df4.to_csv('Covid_19_Switzerland_Data.csv')\n",
    "# check df4\n",
    "df4"
   ]
  },
  {
   "cell_type": "markdown",
   "metadata": {},
   "source": [
    "We could also apply some styling into the dataframe with __highlights__. I put some code below commented."
   ]
  },
  {
   "cell_type": "code",
   "execution_count": 25,
   "metadata": {},
   "outputs": [],
   "source": [
    "# Styling ideas for the dataframe\n",
    "\n",
    "# highlight max values in table in red\n",
    "# def highlight_max(s):\n",
    "#     '''\n",
    "#     highlight the maximum in a Series yellow.\n",
    "#     '''\n",
    "#     is_max = s == s.max()\n",
    "#     return ['background-color: red' if v else '' for v in is_max]\n",
    "\n",
    "# df4.style.apply(highlight_max)\n",
    "\n",
    "# Or for minimum:\n",
    "\n",
    "# def highlight_min(s):\n",
    "#     '''\n",
    "#     highlight the minimum in a Series blue.\n",
    "#     '''\n",
    "#     is_min = s == s.min()\n",
    "#     return ['background-color: blue' if v else '' for v in is_min]\n",
    "\n",
    "# df4.style.apply(highlight_min)"
   ]
  },
  {
   "cell_type": "code",
   "execution_count": 26,
   "metadata": {},
   "outputs": [
    {
     "data": {
      "text/html": [
       "<style  type=\"text/css\" >\n",
       "    #T_66e5cd98_78ca_11ea_8929_f45c89c033c9row0_col1 {\n",
       "            width:  10em;\n",
       "             height:  80%;\n",
       "            background:  linear-gradient(90deg,#d65f5f 39.7%, transparent 39.7%);\n",
       "        }    #T_66e5cd98_78ca_11ea_8929_f45c89c033c9row0_col2 {\n",
       "            width:  10em;\n",
       "             height:  80%;\n",
       "            background:  linear-gradient(90deg,#d65f5f 32.1%, transparent 32.1%);\n",
       "        }    #T_66e5cd98_78ca_11ea_8929_f45c89c033c9row1_col1 {\n",
       "            width:  10em;\n",
       "             height:  80%;\n",
       "            background:  linear-gradient(90deg,#d65f5f 59.1%, transparent 59.1%);\n",
       "        }    #T_66e5cd98_78ca_11ea_8929_f45c89c033c9row1_col2 {\n",
       "            width:  10em;\n",
       "             height:  80%;\n",
       "            background:  linear-gradient(90deg,#d65f5f 24.4%, transparent 24.4%);\n",
       "        }    #T_66e5cd98_78ca_11ea_8929_f45c89c033c9row2_col1 {\n",
       "            width:  10em;\n",
       "             height:  80%;\n",
       "            background:  linear-gradient(90deg,#d65f5f 70.1%, transparent 70.1%);\n",
       "        }    #T_66e5cd98_78ca_11ea_8929_f45c89c033c9row2_col2 {\n",
       "            width:  10em;\n",
       "             height:  80%;\n",
       "            background:  linear-gradient(90deg,#d65f5f 71.8%, transparent 71.8%);\n",
       "        }    #T_66e5cd98_78ca_11ea_8929_f45c89c033c9row3_col1 {\n",
       "            width:  10em;\n",
       "             height:  80%;\n",
       "            background:  linear-gradient(90deg,#d65f5f 74.3%, transparent 74.3%);\n",
       "        }    #T_66e5cd98_78ca_11ea_8929_f45c89c033c9row3_col2 {\n",
       "            width:  10em;\n",
       "             height:  80%;\n",
       "            background:  linear-gradient(90deg,#d65f5f 66.7%, transparent 66.7%);\n",
       "        }    #T_66e5cd98_78ca_11ea_8929_f45c89c033c9row4_col1 {\n",
       "            width:  10em;\n",
       "             height:  80%;\n",
       "            background:  linear-gradient(90deg,#d65f5f 80.9%, transparent 80.9%);\n",
       "        }    #T_66e5cd98_78ca_11ea_8929_f45c89c033c9row4_col2 {\n",
       "            width:  10em;\n",
       "             height:  80%;\n",
       "            background:  linear-gradient(90deg,#d65f5f 69.2%, transparent 69.2%);\n",
       "        }    #T_66e5cd98_78ca_11ea_8929_f45c89c033c9row5_col1 {\n",
       "            width:  10em;\n",
       "             height:  80%;\n",
       "            background:  linear-gradient(90deg,#d65f5f 69.2%, transparent 69.2%);\n",
       "        }    #T_66e5cd98_78ca_11ea_8929_f45c89c033c9row5_col2 {\n",
       "            width:  10em;\n",
       "             height:  80%;\n",
       "            background:  linear-gradient(90deg,#d65f5f 6.4%, transparent 6.4%);\n",
       "        }    #T_66e5cd98_78ca_11ea_8929_f45c89c033c9row6_col1 {\n",
       "            width:  10em;\n",
       "             height:  80%;\n",
       "            background:  linear-gradient(90deg,#d65f5f 50.1%, transparent 50.1%);\n",
       "        }    #T_66e5cd98_78ca_11ea_8929_f45c89c033c9row6_col2 {\n",
       "            width:  10em;\n",
       "             height:  80%;\n",
       "            background:  linear-gradient(90deg,#d65f5f 100.0%, transparent 100.0%);\n",
       "        }    #T_66e5cd98_78ca_11ea_8929_f45c89c033c9row7_col1 {\n",
       "            width:  10em;\n",
       "             height:  80%;\n",
       "            background:  linear-gradient(90deg,#d65f5f 81.9%, transparent 81.9%);\n",
       "        }    #T_66e5cd98_78ca_11ea_8929_f45c89c033c9row7_col2 {\n",
       "            width:  10em;\n",
       "             height:  80%;\n",
       "            background:  linear-gradient(90deg,#d65f5f 48.7%, transparent 48.7%);\n",
       "        }    #T_66e5cd98_78ca_11ea_8929_f45c89c033c9row8_col1 {\n",
       "            width:  10em;\n",
       "             height:  80%;\n",
       "            background:  linear-gradient(90deg,#d65f5f 80.7%, transparent 80.7%);\n",
       "        }    #T_66e5cd98_78ca_11ea_8929_f45c89c033c9row8_col2 {\n",
       "            width:  10em;\n",
       "             height:  80%;\n",
       "            background:  linear-gradient(90deg,#d65f5f 28.2%, transparent 28.2%);\n",
       "        }    #T_66e5cd98_78ca_11ea_8929_f45c89c033c9row9_col1 {\n",
       "            width:  10em;\n",
       "             height:  80%;\n",
       "            background:  linear-gradient(90deg,#d65f5f 75.4%, transparent 75.4%);\n",
       "        }    #T_66e5cd98_78ca_11ea_8929_f45c89c033c9row9_col2 {\n",
       "            width:  10em;\n",
       "             height:  80%;\n",
       "            background:  linear-gradient(90deg,#d65f5f 48.7%, transparent 48.7%);\n",
       "        }    #T_66e5cd98_78ca_11ea_8929_f45c89c033c9row10_col1 {\n",
       "            width:  10em;\n",
       "             height:  80%;\n",
       "            background:  linear-gradient(90deg,#d65f5f 100.0%, transparent 100.0%);\n",
       "        }    #T_66e5cd98_78ca_11ea_8929_f45c89c033c9row10_col2 {\n",
       "            width:  10em;\n",
       "             height:  80%;\n",
       "            background:  linear-gradient(90deg,#d65f5f 46.2%, transparent 46.2%);\n",
       "        }    #T_66e5cd98_78ca_11ea_8929_f45c89c033c9row11_col1 {\n",
       "            width:  10em;\n",
       "             height:  80%;\n",
       "            background:  linear-gradient(90deg,#d65f5f 71.9%, transparent 71.9%);\n",
       "        }    #T_66e5cd98_78ca_11ea_8929_f45c89c033c9row11_col2 {\n",
       "            width:  10em;\n",
       "             height:  80%;\n",
       "            background:  linear-gradient(90deg,#d65f5f 74.4%, transparent 74.4%);\n",
       "        }    #T_66e5cd98_78ca_11ea_8929_f45c89c033c9row12_col1 {\n",
       "            width:  10em;\n",
       "             height:  80%;\n",
       "            background:  linear-gradient(90deg,#d65f5f 66.5%, transparent 66.5%);\n",
       "        }    #T_66e5cd98_78ca_11ea_8929_f45c89c033c9row12_col2 {\n",
       "            width:  10em;\n",
       "             height:  80%;\n",
       "            background:  linear-gradient(90deg,#d65f5f 21.8%, transparent 21.8%);\n",
       "        }    #T_66e5cd98_78ca_11ea_8929_f45c89c033c9row13_col1 {\n",
       "            width:  10em;\n",
       "             height:  80%;\n",
       "            background:  linear-gradient(90deg,#d65f5f 55.7%, transparent 55.7%);\n",
       "        }    #T_66e5cd98_78ca_11ea_8929_f45c89c033c9row13_col2 {\n",
       "            width:  10em;\n",
       "             height:  80%;\n",
       "            background:  linear-gradient(90deg,#d65f5f 25.6%, transparent 25.6%);\n",
       "        }    #T_66e5cd98_78ca_11ea_8929_f45c89c033c9row14_col1 {\n",
       "            width:  10em;\n",
       "             height:  80%;\n",
       "            background:  linear-gradient(90deg,#d65f5f 75.1%, transparent 75.1%);\n",
       "        }    #T_66e5cd98_78ca_11ea_8929_f45c89c033c9row14_col2 {\n",
       "            width:  10em;\n",
       "             height:  80%;\n",
       "            background:  linear-gradient(90deg,#d65f5f 7.7%, transparent 7.7%);\n",
       "        }    #T_66e5cd98_78ca_11ea_8929_f45c89c033c9row15_col1 {\n",
       "            width:  10em;\n",
       "             height:  80%;\n",
       "            background:  linear-gradient(90deg,#d65f5f 64.3%, transparent 64.3%);\n",
       "        }    #T_66e5cd98_78ca_11ea_8929_f45c89c033c9row15_col2 {\n",
       "            width:  10em;\n",
       "             height:  80%;\n",
       "            background:  linear-gradient(90deg,#d65f5f 5.1%, transparent 5.1%);\n",
       "        }    #T_66e5cd98_78ca_11ea_8929_f45c89c033c9row16_col1 {\n",
       "            width:  10em;\n",
       "             height:  80%;\n",
       "            background:  linear-gradient(90deg,#d65f5f 89.0%, transparent 89.0%);\n",
       "        }    #T_66e5cd98_78ca_11ea_8929_f45c89c033c9row16_col2 {\n",
       "            width:  10em;\n",
       "             height:  80%;\n",
       "            background:  linear-gradient(90deg,#d65f5f 16.7%, transparent 16.7%);\n",
       "        }    #T_66e5cd98_78ca_11ea_8929_f45c89c033c9row17_col1 {\n",
       "            width:  10em;\n",
       "             height:  80%;\n",
       "            background:  linear-gradient(90deg,#d65f5f 68.5%, transparent 68.5%);\n",
       "        }    #T_66e5cd98_78ca_11ea_8929_f45c89c033c9row17_col2 {\n",
       "            width:  10em;\n",
       "             height:  80%;\n",
       "            background:  linear-gradient(90deg,#d65f5f 12.8%, transparent 12.8%);\n",
       "        }    #T_66e5cd98_78ca_11ea_8929_f45c89c033c9row18_col1 {\n",
       "            width:  10em;\n",
       "             height:  80%;\n",
       "            background:  linear-gradient(90deg,#d65f5f 63.2%, transparent 63.2%);\n",
       "        }    #T_66e5cd98_78ca_11ea_8929_f45c89c033c9row18_col2 {\n",
       "            width:  10em;\n",
       "             height:  80%;\n",
       "            background:  linear-gradient(90deg,#d65f5f 15.4%, transparent 15.4%);\n",
       "        }    #T_66e5cd98_78ca_11ea_8929_f45c89c033c9row19_col1 {\n",
       "            width:  10em;\n",
       "             height:  80%;\n",
       "            background:  linear-gradient(90deg,#d65f5f 25.9%, transparent 25.9%);\n",
       "        }    #T_66e5cd98_78ca_11ea_8929_f45c89c033c9row19_col2 {\n",
       "            width:  10em;\n",
       "             height:  80%;\n",
       "            background:  linear-gradient(90deg,#d65f5f 2.6%, transparent 2.6%);\n",
       "        }    #T_66e5cd98_78ca_11ea_8929_f45c89c033c9row20_col1 {\n",
       "            width:  10em;\n",
       "             height:  80%;\n",
       "            background:  linear-gradient(90deg,#d65f5f 32.4%, transparent 32.4%);\n",
       "        }    #T_66e5cd98_78ca_11ea_8929_f45c89c033c9row20_col2 {\n",
       "            width:  10em;\n",
       "             height:  80%;\n",
       "            background:  linear-gradient(90deg,#d65f5f 6.4%, transparent 6.4%);\n",
       "        }    #T_66e5cd98_78ca_11ea_8929_f45c89c033c9row21_col1 {\n",
       "            width:  10em;\n",
       "             height:  80%;\n",
       "        }    #T_66e5cd98_78ca_11ea_8929_f45c89c033c9row21_col2 {\n",
       "            width:  10em;\n",
       "             height:  80%;\n",
       "            background:  linear-gradient(90deg,#d65f5f 1.3%, transparent 1.3%);\n",
       "        }    #T_66e5cd98_78ca_11ea_8929_f45c89c033c9row22_col1 {\n",
       "            width:  10em;\n",
       "             height:  80%;\n",
       "            background:  linear-gradient(90deg,#d65f5f 60.5%, transparent 60.5%);\n",
       "        }    #T_66e5cd98_78ca_11ea_8929_f45c89c033c9row22_col2 {\n",
       "            width:  10em;\n",
       "             height:  80%;\n",
       "            background:  linear-gradient(90deg,#d65f5f 2.6%, transparent 2.6%);\n",
       "        }    #T_66e5cd98_78ca_11ea_8929_f45c89c033c9row23_col1 {\n",
       "            width:  10em;\n",
       "             height:  80%;\n",
       "            background:  linear-gradient(90deg,#d65f5f 17.1%, transparent 17.1%);\n",
       "        }    #T_66e5cd98_78ca_11ea_8929_f45c89c033c9row23_col2 {\n",
       "            width:  10em;\n",
       "             height:  80%;\n",
       "            background:  linear-gradient(90deg,#d65f5f 5.1%, transparent 5.1%);\n",
       "        }    #T_66e5cd98_78ca_11ea_8929_f45c89c033c9row24_col1 {\n",
       "            width:  10em;\n",
       "             height:  80%;\n",
       "            background:  linear-gradient(90deg,#d65f5f 19.2%, transparent 19.2%);\n",
       "        }    #T_66e5cd98_78ca_11ea_8929_f45c89c033c9row24_col2 {\n",
       "            width:  10em;\n",
       "             height:  80%;\n",
       "            background:  linear-gradient(90deg,#d65f5f 3.8%, transparent 3.8%);\n",
       "        }    #T_66e5cd98_78ca_11ea_8929_f45c89c033c9row25_col1 {\n",
       "            width:  10em;\n",
       "             height:  80%;\n",
       "            background:  linear-gradient(90deg,#d65f5f 15.3%, transparent 15.3%);\n",
       "        }    #T_66e5cd98_78ca_11ea_8929_f45c89c033c9row25_col2 {\n",
       "            width:  10em;\n",
       "             height:  80%;\n",
       "        }    #T_66e5cd98_78ca_11ea_8929_f45c89c033c9row26_col1 {\n",
       "            width:  10em;\n",
       "             height:  80%;\n",
       "            background:  linear-gradient(90deg,#d65f5f 10.9%, transparent 10.9%);\n",
       "        }    #T_66e5cd98_78ca_11ea_8929_f45c89c033c9row26_col2 {\n",
       "            width:  10em;\n",
       "             height:  80%;\n",
       "            background:  linear-gradient(90deg,#d65f5f 1.3%, transparent 1.3%);\n",
       "        }    #T_66e5cd98_78ca_11ea_8929_f45c89c033c9row27_col1 {\n",
       "            width:  10em;\n",
       "             height:  80%;\n",
       "            background:  linear-gradient(90deg,#d65f5f 8.3%, transparent 8.3%);\n",
       "        }    #T_66e5cd98_78ca_11ea_8929_f45c89c033c9row27_col2 {\n",
       "            width:  10em;\n",
       "             height:  80%;\n",
       "            background:  linear-gradient(90deg,#d65f5f 1.3%, transparent 1.3%);\n",
       "        }    #T_66e5cd98_78ca_11ea_8929_f45c89c033c9row28_col1 {\n",
       "            width:  10em;\n",
       "             height:  80%;\n",
       "            background:  linear-gradient(90deg,#d65f5f 3.0%, transparent 3.0%);\n",
       "        }    #T_66e5cd98_78ca_11ea_8929_f45c89c033c9row28_col2 {\n",
       "            width:  10em;\n",
       "             height:  80%;\n",
       "        }    #T_66e5cd98_78ca_11ea_8929_f45c89c033c9row29_col1 {\n",
       "            width:  10em;\n",
       "             height:  80%;\n",
       "            background:  linear-gradient(90deg,#d65f5f 4.9%, transparent 4.9%);\n",
       "        }    #T_66e5cd98_78ca_11ea_8929_f45c89c033c9row29_col2 {\n",
       "            width:  10em;\n",
       "             height:  80%;\n",
       "            background:  linear-gradient(90deg,#d65f5f 1.3%, transparent 1.3%);\n",
       "        }    #T_66e5cd98_78ca_11ea_8929_f45c89c033c9row30_col1 {\n",
       "            width:  10em;\n",
       "             height:  80%;\n",
       "            background:  linear-gradient(90deg,#d65f5f 4.0%, transparent 4.0%);\n",
       "        }    #T_66e5cd98_78ca_11ea_8929_f45c89c033c9row30_col2 {\n",
       "            width:  10em;\n",
       "             height:  80%;\n",
       "        }    #T_66e5cd98_78ca_11ea_8929_f45c89c033c9row31_col1 {\n",
       "            width:  10em;\n",
       "             height:  80%;\n",
       "            background:  linear-gradient(90deg,#d65f5f 8.8%, transparent 8.8%);\n",
       "        }    #T_66e5cd98_78ca_11ea_8929_f45c89c033c9row31_col2 {\n",
       "            width:  10em;\n",
       "             height:  80%;\n",
       "        }    #T_66e5cd98_78ca_11ea_8929_f45c89c033c9row32_col1 {\n",
       "            width:  10em;\n",
       "             height:  80%;\n",
       "            background:  linear-gradient(90deg,#d65f5f 2.2%, transparent 2.2%);\n",
       "        }    #T_66e5cd98_78ca_11ea_8929_f45c89c033c9row32_col2 {\n",
       "            width:  10em;\n",
       "             height:  80%;\n",
       "            background:  linear-gradient(90deg,#d65f5f 1.3%, transparent 1.3%);\n",
       "        }    #T_66e5cd98_78ca_11ea_8929_f45c89c033c9row33_col1 {\n",
       "            width:  10em;\n",
       "             height:  80%;\n",
       "            background:  linear-gradient(90deg,#d65f5f 1.4%, transparent 1.4%);\n",
       "        }    #T_66e5cd98_78ca_11ea_8929_f45c89c033c9row33_col2 {\n",
       "            width:  10em;\n",
       "             height:  80%;\n",
       "        }    #T_66e5cd98_78ca_11ea_8929_f45c89c033c9row34_col1 {\n",
       "            width:  10em;\n",
       "             height:  80%;\n",
       "            background:  linear-gradient(90deg,#d65f5f 0.5%, transparent 0.5%);\n",
       "        }    #T_66e5cd98_78ca_11ea_8929_f45c89c033c9row34_col2 {\n",
       "            width:  10em;\n",
       "             height:  80%;\n",
       "        }    #T_66e5cd98_78ca_11ea_8929_f45c89c033c9row35_col1 {\n",
       "            width:  10em;\n",
       "             height:  80%;\n",
       "            background:  linear-gradient(90deg,#d65f5f 0.4%, transparent 0.4%);\n",
       "        }    #T_66e5cd98_78ca_11ea_8929_f45c89c033c9row35_col2 {\n",
       "            width:  10em;\n",
       "             height:  80%;\n",
       "        }    #T_66e5cd98_78ca_11ea_8929_f45c89c033c9row36_col1 {\n",
       "            width:  10em;\n",
       "             height:  80%;\n",
       "            background:  linear-gradient(90deg,#d65f5f 0.4%, transparent 0.4%);\n",
       "        }    #T_66e5cd98_78ca_11ea_8929_f45c89c033c9row36_col2 {\n",
       "            width:  10em;\n",
       "             height:  80%;\n",
       "        }    #T_66e5cd98_78ca_11ea_8929_f45c89c033c9row37_col1 {\n",
       "            width:  10em;\n",
       "             height:  80%;\n",
       "            background:  linear-gradient(90deg,#d65f5f 0.4%, transparent 0.4%);\n",
       "        }    #T_66e5cd98_78ca_11ea_8929_f45c89c033c9row37_col2 {\n",
       "            width:  10em;\n",
       "             height:  80%;\n",
       "        }    #T_66e5cd98_78ca_11ea_8929_f45c89c033c9row38_col1 {\n",
       "            width:  10em;\n",
       "             height:  80%;\n",
       "            background:  linear-gradient(90deg,#d65f5f 0.3%, transparent 0.3%);\n",
       "        }    #T_66e5cd98_78ca_11ea_8929_f45c89c033c9row38_col2 {\n",
       "            width:  10em;\n",
       "             height:  80%;\n",
       "        }    #T_66e5cd98_78ca_11ea_8929_f45c89c033c9row39_col1 {\n",
       "            width:  10em;\n",
       "             height:  80%;\n",
       "            background:  linear-gradient(90deg,#d65f5f 0.5%, transparent 0.5%);\n",
       "        }    #T_66e5cd98_78ca_11ea_8929_f45c89c033c9row39_col2 {\n",
       "            width:  10em;\n",
       "             height:  80%;\n",
       "        }    #T_66e5cd98_78ca_11ea_8929_f45c89c033c9row40_col1 {\n",
       "            width:  10em;\n",
       "             height:  80%;\n",
       "            background:  linear-gradient(90deg,#d65f5f 0.1%, transparent 0.1%);\n",
       "        }    #T_66e5cd98_78ca_11ea_8929_f45c89c033c9row40_col2 {\n",
       "            width:  10em;\n",
       "             height:  80%;\n",
       "        }</style><table id=\"T_66e5cd98_78ca_11ea_8929_f45c89c033c9\" ><thead>    <tr>        <th class=\"blank level0\" ></th>        <th class=\"col_heading level0 col0\" >Date</th>        <th class=\"col_heading level0 col1\" >Cases</th>        <th class=\"col_heading level0 col2\" >Deaths</th>    </tr></thead><tbody>\n",
       "                <tr>\n",
       "                        <th id=\"T_66e5cd98_78ca_11ea_8929_f45c89c033c9level0_row0\" class=\"row_heading level0 row0\" >0</th>\n",
       "                        <td id=\"T_66e5cd98_78ca_11ea_8929_f45c89c033c9row0_col0\" class=\"data row0 col0\" >2020-04-07 00:00:00</td>\n",
       "                        <td id=\"T_66e5cd98_78ca_11ea_8929_f45c89c033c9row0_col1\" class=\"data row0 col1\" >552</td>\n",
       "                        <td id=\"T_66e5cd98_78ca_11ea_8929_f45c89c033c9row0_col2\" class=\"data row0 col2\" >25</td>\n",
       "            </tr>\n",
       "            <tr>\n",
       "                        <th id=\"T_66e5cd98_78ca_11ea_8929_f45c89c033c9level0_row1\" class=\"row_heading level0 row1\" >1</th>\n",
       "                        <td id=\"T_66e5cd98_78ca_11ea_8929_f45c89c033c9row1_col0\" class=\"data row1 col0\" >2020-04-06 00:00:00</td>\n",
       "                        <td id=\"T_66e5cd98_78ca_11ea_8929_f45c89c033c9row1_col1\" class=\"data row1 col1\" >821</td>\n",
       "                        <td id=\"T_66e5cd98_78ca_11ea_8929_f45c89c033c9row1_col2\" class=\"data row1 col2\" >19</td>\n",
       "            </tr>\n",
       "            <tr>\n",
       "                        <th id=\"T_66e5cd98_78ca_11ea_8929_f45c89c033c9level0_row2\" class=\"row_heading level0 row2\" >2</th>\n",
       "                        <td id=\"T_66e5cd98_78ca_11ea_8929_f45c89c033c9row2_col0\" class=\"data row2 col0\" >2020-04-05 00:00:00</td>\n",
       "                        <td id=\"T_66e5cd98_78ca_11ea_8929_f45c89c033c9row2_col1\" class=\"data row2 col1\" >974</td>\n",
       "                        <td id=\"T_66e5cd98_78ca_11ea_8929_f45c89c033c9row2_col2\" class=\"data row2 col2\" >56</td>\n",
       "            </tr>\n",
       "            <tr>\n",
       "                        <th id=\"T_66e5cd98_78ca_11ea_8929_f45c89c033c9level0_row3\" class=\"row_heading level0 row3\" >3</th>\n",
       "                        <td id=\"T_66e5cd98_78ca_11ea_8929_f45c89c033c9row3_col0\" class=\"data row3 col0\" >2020-04-04 00:00:00</td>\n",
       "                        <td id=\"T_66e5cd98_78ca_11ea_8929_f45c89c033c9row3_col1\" class=\"data row3 col1\" >1033</td>\n",
       "                        <td id=\"T_66e5cd98_78ca_11ea_8929_f45c89c033c9row3_col2\" class=\"data row3 col2\" >52</td>\n",
       "            </tr>\n",
       "            <tr>\n",
       "                        <th id=\"T_66e5cd98_78ca_11ea_8929_f45c89c033c9level0_row4\" class=\"row_heading level0 row4\" >4</th>\n",
       "                        <td id=\"T_66e5cd98_78ca_11ea_8929_f45c89c033c9row4_col0\" class=\"data row4 col0\" >2020-04-03 00:00:00</td>\n",
       "                        <td id=\"T_66e5cd98_78ca_11ea_8929_f45c89c033c9row4_col1\" class=\"data row4 col1\" >1124</td>\n",
       "                        <td id=\"T_66e5cd98_78ca_11ea_8929_f45c89c033c9row4_col2\" class=\"data row4 col2\" >54</td>\n",
       "            </tr>\n",
       "            <tr>\n",
       "                        <th id=\"T_66e5cd98_78ca_11ea_8929_f45c89c033c9level0_row5\" class=\"row_heading level0 row5\" >5</th>\n",
       "                        <td id=\"T_66e5cd98_78ca_11ea_8929_f45c89c033c9row5_col0\" class=\"data row5 col0\" >2020-04-02 00:00:00</td>\n",
       "                        <td id=\"T_66e5cd98_78ca_11ea_8929_f45c89c033c9row5_col1\" class=\"data row5 col1\" >962</td>\n",
       "                        <td id=\"T_66e5cd98_78ca_11ea_8929_f45c89c033c9row5_col2\" class=\"data row5 col2\" >5</td>\n",
       "            </tr>\n",
       "            <tr>\n",
       "                        <th id=\"T_66e5cd98_78ca_11ea_8929_f45c89c033c9level0_row6\" class=\"row_heading level0 row6\" >6</th>\n",
       "                        <td id=\"T_66e5cd98_78ca_11ea_8929_f45c89c033c9row6_col0\" class=\"data row6 col0\" >2020-04-01 00:00:00</td>\n",
       "                        <td id=\"T_66e5cd98_78ca_11ea_8929_f45c89c033c9row6_col1\" class=\"data row6 col1\" >696</td>\n",
       "                        <td id=\"T_66e5cd98_78ca_11ea_8929_f45c89c033c9row6_col2\" class=\"data row6 col2\" >78</td>\n",
       "            </tr>\n",
       "            <tr>\n",
       "                        <th id=\"T_66e5cd98_78ca_11ea_8929_f45c89c033c9level0_row7\" class=\"row_heading level0 row7\" >7</th>\n",
       "                        <td id=\"T_66e5cd98_78ca_11ea_8929_f45c89c033c9row7_col0\" class=\"data row7 col0\" >2020-03-31 00:00:00</td>\n",
       "                        <td id=\"T_66e5cd98_78ca_11ea_8929_f45c89c033c9row7_col1\" class=\"data row7 col1\" >1138</td>\n",
       "                        <td id=\"T_66e5cd98_78ca_11ea_8929_f45c89c033c9row7_col2\" class=\"data row7 col2\" >38</td>\n",
       "            </tr>\n",
       "            <tr>\n",
       "                        <th id=\"T_66e5cd98_78ca_11ea_8929_f45c89c033c9level0_row8\" class=\"row_heading level0 row8\" >8</th>\n",
       "                        <td id=\"T_66e5cd98_78ca_11ea_8929_f45c89c033c9row8_col0\" class=\"data row8 col0\" >2020-03-30 00:00:00</td>\n",
       "                        <td id=\"T_66e5cd98_78ca_11ea_8929_f45c89c033c9row8_col1\" class=\"data row8 col1\" >1122</td>\n",
       "                        <td id=\"T_66e5cd98_78ca_11ea_8929_f45c89c033c9row8_col2\" class=\"data row8 col2\" >22</td>\n",
       "            </tr>\n",
       "            <tr>\n",
       "                        <th id=\"T_66e5cd98_78ca_11ea_8929_f45c89c033c9level0_row9\" class=\"row_heading level0 row9\" >9</th>\n",
       "                        <td id=\"T_66e5cd98_78ca_11ea_8929_f45c89c033c9row9_col0\" class=\"data row9 col0\" >2020-03-29 00:00:00</td>\n",
       "                        <td id=\"T_66e5cd98_78ca_11ea_8929_f45c89c033c9row9_col1\" class=\"data row9 col1\" >1048</td>\n",
       "                        <td id=\"T_66e5cd98_78ca_11ea_8929_f45c89c033c9row9_col2\" class=\"data row9 col2\" >38</td>\n",
       "            </tr>\n",
       "            <tr>\n",
       "                        <th id=\"T_66e5cd98_78ca_11ea_8929_f45c89c033c9level0_row10\" class=\"row_heading level0 row10\" >10</th>\n",
       "                        <td id=\"T_66e5cd98_78ca_11ea_8929_f45c89c033c9row10_col0\" class=\"data row10 col0\" >2020-03-28 00:00:00</td>\n",
       "                        <td id=\"T_66e5cd98_78ca_11ea_8929_f45c89c033c9row10_col1\" class=\"data row10 col1\" >1390</td>\n",
       "                        <td id=\"T_66e5cd98_78ca_11ea_8929_f45c89c033c9row10_col2\" class=\"data row10 col2\" >36</td>\n",
       "            </tr>\n",
       "            <tr>\n",
       "                        <th id=\"T_66e5cd98_78ca_11ea_8929_f45c89c033c9level0_row11\" class=\"row_heading level0 row11\" >11</th>\n",
       "                        <td id=\"T_66e5cd98_78ca_11ea_8929_f45c89c033c9row11_col0\" class=\"data row11 col0\" >2020-03-27 00:00:00</td>\n",
       "                        <td id=\"T_66e5cd98_78ca_11ea_8929_f45c89c033c9row11_col1\" class=\"data row11 col1\" >1000</td>\n",
       "                        <td id=\"T_66e5cd98_78ca_11ea_8929_f45c89c033c9row11_col2\" class=\"data row11 col2\" >58</td>\n",
       "            </tr>\n",
       "            <tr>\n",
       "                        <th id=\"T_66e5cd98_78ca_11ea_8929_f45c89c033c9level0_row12\" class=\"row_heading level0 row12\" >12</th>\n",
       "                        <td id=\"T_66e5cd98_78ca_11ea_8929_f45c89c033c9row12_col0\" class=\"data row12 col0\" >2020-03-26 00:00:00</td>\n",
       "                        <td id=\"T_66e5cd98_78ca_11ea_8929_f45c89c033c9row12_col1\" class=\"data row12 col1\" >925</td>\n",
       "                        <td id=\"T_66e5cd98_78ca_11ea_8929_f45c89c033c9row12_col2\" class=\"data row12 col2\" >17</td>\n",
       "            </tr>\n",
       "            <tr>\n",
       "                        <th id=\"T_66e5cd98_78ca_11ea_8929_f45c89c033c9level0_row13\" class=\"row_heading level0 row13\" >13</th>\n",
       "                        <td id=\"T_66e5cd98_78ca_11ea_8929_f45c89c033c9row13_col0\" class=\"data row13 col0\" >2020-03-25 00:00:00</td>\n",
       "                        <td id=\"T_66e5cd98_78ca_11ea_8929_f45c89c033c9row13_col1\" class=\"data row13 col1\" >774</td>\n",
       "                        <td id=\"T_66e5cd98_78ca_11ea_8929_f45c89c033c9row13_col2\" class=\"data row13 col2\" >20</td>\n",
       "            </tr>\n",
       "            <tr>\n",
       "                        <th id=\"T_66e5cd98_78ca_11ea_8929_f45c89c033c9level0_row14\" class=\"row_heading level0 row14\" >14</th>\n",
       "                        <td id=\"T_66e5cd98_78ca_11ea_8929_f45c89c033c9row14_col0\" class=\"data row14 col0\" >2020-03-24 00:00:00</td>\n",
       "                        <td id=\"T_66e5cd98_78ca_11ea_8929_f45c89c033c9row14_col1\" class=\"data row14 col1\" >1044</td>\n",
       "                        <td id=\"T_66e5cd98_78ca_11ea_8929_f45c89c033c9row14_col2\" class=\"data row14 col2\" >6</td>\n",
       "            </tr>\n",
       "            <tr>\n",
       "                        <th id=\"T_66e5cd98_78ca_11ea_8929_f45c89c033c9level0_row15\" class=\"row_heading level0 row15\" >15</th>\n",
       "                        <td id=\"T_66e5cd98_78ca_11ea_8929_f45c89c033c9row15_col0\" class=\"data row15 col0\" >2020-03-23 00:00:00</td>\n",
       "                        <td id=\"T_66e5cd98_78ca_11ea_8929_f45c89c033c9row15_col1\" class=\"data row15 col1\" >894</td>\n",
       "                        <td id=\"T_66e5cd98_78ca_11ea_8929_f45c89c033c9row15_col2\" class=\"data row15 col2\" >4</td>\n",
       "            </tr>\n",
       "            <tr>\n",
       "                        <th id=\"T_66e5cd98_78ca_11ea_8929_f45c89c033c9level0_row16\" class=\"row_heading level0 row16\" >16</th>\n",
       "                        <td id=\"T_66e5cd98_78ca_11ea_8929_f45c89c033c9row16_col0\" class=\"data row16 col0\" >2020-03-22 00:00:00</td>\n",
       "                        <td id=\"T_66e5cd98_78ca_11ea_8929_f45c89c033c9row16_col1\" class=\"data row16 col1\" >1237</td>\n",
       "                        <td id=\"T_66e5cd98_78ca_11ea_8929_f45c89c033c9row16_col2\" class=\"data row16 col2\" >13</td>\n",
       "            </tr>\n",
       "            <tr>\n",
       "                        <th id=\"T_66e5cd98_78ca_11ea_8929_f45c89c033c9level0_row17\" class=\"row_heading level0 row17\" >17</th>\n",
       "                        <td id=\"T_66e5cd98_78ca_11ea_8929_f45c89c033c9row17_col0\" class=\"data row17 col0\" >2020-03-21 00:00:00</td>\n",
       "                        <td id=\"T_66e5cd98_78ca_11ea_8929_f45c89c033c9row17_col1\" class=\"data row17 col1\" >952</td>\n",
       "                        <td id=\"T_66e5cd98_78ca_11ea_8929_f45c89c033c9row17_col2\" class=\"data row17 col2\" >10</td>\n",
       "            </tr>\n",
       "            <tr>\n",
       "                        <th id=\"T_66e5cd98_78ca_11ea_8929_f45c89c033c9level0_row18\" class=\"row_heading level0 row18\" >18</th>\n",
       "                        <td id=\"T_66e5cd98_78ca_11ea_8929_f45c89c033c9row18_col0\" class=\"data row18 col0\" >2020-03-20 00:00:00</td>\n",
       "                        <td id=\"T_66e5cd98_78ca_11ea_8929_f45c89c033c9row18_col1\" class=\"data row18 col1\" >878</td>\n",
       "                        <td id=\"T_66e5cd98_78ca_11ea_8929_f45c89c033c9row18_col2\" class=\"data row18 col2\" >12</td>\n",
       "            </tr>\n",
       "            <tr>\n",
       "                        <th id=\"T_66e5cd98_78ca_11ea_8929_f45c89c033c9level0_row19\" class=\"row_heading level0 row19\" >19</th>\n",
       "                        <td id=\"T_66e5cd98_78ca_11ea_8929_f45c89c033c9row19_col0\" class=\"data row19 col0\" >2020-03-19 00:00:00</td>\n",
       "                        <td id=\"T_66e5cd98_78ca_11ea_8929_f45c89c033c9row19_col1\" class=\"data row19 col1\" >360</td>\n",
       "                        <td id=\"T_66e5cd98_78ca_11ea_8929_f45c89c033c9row19_col2\" class=\"data row19 col2\" >2</td>\n",
       "            </tr>\n",
       "            <tr>\n",
       "                        <th id=\"T_66e5cd98_78ca_11ea_8929_f45c89c033c9level0_row20\" class=\"row_heading level0 row20\" >20</th>\n",
       "                        <td id=\"T_66e5cd98_78ca_11ea_8929_f45c89c033c9row20_col0\" class=\"data row20 col0\" >2020-03-18 00:00:00</td>\n",
       "                        <td id=\"T_66e5cd98_78ca_11ea_8929_f45c89c033c9row20_col1\" class=\"data row20 col1\" >450</td>\n",
       "                        <td id=\"T_66e5cd98_78ca_11ea_8929_f45c89c033c9row20_col2\" class=\"data row20 col2\" >5</td>\n",
       "            </tr>\n",
       "            <tr>\n",
       "                        <th id=\"T_66e5cd98_78ca_11ea_8929_f45c89c033c9level0_row21\" class=\"row_heading level0 row21\" >21</th>\n",
       "                        <td id=\"T_66e5cd98_78ca_11ea_8929_f45c89c033c9row21_col0\" class=\"data row21 col0\" >2020-03-17 00:00:00</td>\n",
       "                        <td id=\"T_66e5cd98_78ca_11ea_8929_f45c89c033c9row21_col1\" class=\"data row21 col1\" >0</td>\n",
       "                        <td id=\"T_66e5cd98_78ca_11ea_8929_f45c89c033c9row21_col2\" class=\"data row21 col2\" >1</td>\n",
       "            </tr>\n",
       "            <tr>\n",
       "                        <th id=\"T_66e5cd98_78ca_11ea_8929_f45c89c033c9level0_row22\" class=\"row_heading level0 row22\" >22</th>\n",
       "                        <td id=\"T_66e5cd98_78ca_11ea_8929_f45c89c033c9row22_col0\" class=\"data row22 col0\" >2020-03-16 00:00:00</td>\n",
       "                        <td id=\"T_66e5cd98_78ca_11ea_8929_f45c89c033c9row22_col1\" class=\"data row22 col1\" >841</td>\n",
       "                        <td id=\"T_66e5cd98_78ca_11ea_8929_f45c89c033c9row22_col2\" class=\"data row22 col2\" >2</td>\n",
       "            </tr>\n",
       "            <tr>\n",
       "                        <th id=\"T_66e5cd98_78ca_11ea_8929_f45c89c033c9level0_row23\" class=\"row_heading level0 row23\" >23</th>\n",
       "                        <td id=\"T_66e5cd98_78ca_11ea_8929_f45c89c033c9row23_col0\" class=\"data row23 col0\" >2020-03-15 00:00:00</td>\n",
       "                        <td id=\"T_66e5cd98_78ca_11ea_8929_f45c89c033c9row23_col1\" class=\"data row23 col1\" >238</td>\n",
       "                        <td id=\"T_66e5cd98_78ca_11ea_8929_f45c89c033c9row23_col2\" class=\"data row23 col2\" >4</td>\n",
       "            </tr>\n",
       "            <tr>\n",
       "                        <th id=\"T_66e5cd98_78ca_11ea_8929_f45c89c033c9level0_row24\" class=\"row_heading level0 row24\" >24</th>\n",
       "                        <td id=\"T_66e5cd98_78ca_11ea_8929_f45c89c033c9row24_col0\" class=\"data row24 col0\" >2020-03-14 00:00:00</td>\n",
       "                        <td id=\"T_66e5cd98_78ca_11ea_8929_f45c89c033c9row24_col1\" class=\"data row24 col1\" >267</td>\n",
       "                        <td id=\"T_66e5cd98_78ca_11ea_8929_f45c89c033c9row24_col2\" class=\"data row24 col2\" >3</td>\n",
       "            </tr>\n",
       "            <tr>\n",
       "                        <th id=\"T_66e5cd98_78ca_11ea_8929_f45c89c033c9level0_row25\" class=\"row_heading level0 row25\" >25</th>\n",
       "                        <td id=\"T_66e5cd98_78ca_11ea_8929_f45c89c033c9row25_col0\" class=\"data row25 col0\" >2020-03-13 00:00:00</td>\n",
       "                        <td id=\"T_66e5cd98_78ca_11ea_8929_f45c89c033c9row25_col1\" class=\"data row25 col1\" >212</td>\n",
       "                        <td id=\"T_66e5cd98_78ca_11ea_8929_f45c89c033c9row25_col2\" class=\"data row25 col2\" >0</td>\n",
       "            </tr>\n",
       "            <tr>\n",
       "                        <th id=\"T_66e5cd98_78ca_11ea_8929_f45c89c033c9level0_row26\" class=\"row_heading level0 row26\" >26</th>\n",
       "                        <td id=\"T_66e5cd98_78ca_11ea_8929_f45c89c033c9row26_col0\" class=\"data row26 col0\" >2020-03-12 00:00:00</td>\n",
       "                        <td id=\"T_66e5cd98_78ca_11ea_8929_f45c89c033c9row26_col1\" class=\"data row26 col1\" >152</td>\n",
       "                        <td id=\"T_66e5cd98_78ca_11ea_8929_f45c89c033c9row26_col2\" class=\"data row26 col2\" >1</td>\n",
       "            </tr>\n",
       "            <tr>\n",
       "                        <th id=\"T_66e5cd98_78ca_11ea_8929_f45c89c033c9level0_row27\" class=\"row_heading level0 row27\" >27</th>\n",
       "                        <td id=\"T_66e5cd98_78ca_11ea_8929_f45c89c033c9row27_col0\" class=\"data row27 col0\" >2020-03-11 00:00:00</td>\n",
       "                        <td id=\"T_66e5cd98_78ca_11ea_8929_f45c89c033c9row27_col1\" class=\"data row27 col1\" >116</td>\n",
       "                        <td id=\"T_66e5cd98_78ca_11ea_8929_f45c89c033c9row27_col2\" class=\"data row27 col2\" >1</td>\n",
       "            </tr>\n",
       "            <tr>\n",
       "                        <th id=\"T_66e5cd98_78ca_11ea_8929_f45c89c033c9level0_row28\" class=\"row_heading level0 row28\" >28</th>\n",
       "                        <td id=\"T_66e5cd98_78ca_11ea_8929_f45c89c033c9row28_col0\" class=\"data row28 col0\" >2020-03-10 00:00:00</td>\n",
       "                        <td id=\"T_66e5cd98_78ca_11ea_8929_f45c89c033c9row28_col1\" class=\"data row28 col1\" >42</td>\n",
       "                        <td id=\"T_66e5cd98_78ca_11ea_8929_f45c89c033c9row28_col2\" class=\"data row28 col2\" >0</td>\n",
       "            </tr>\n",
       "            <tr>\n",
       "                        <th id=\"T_66e5cd98_78ca_11ea_8929_f45c89c033c9level0_row29\" class=\"row_heading level0 row29\" >29</th>\n",
       "                        <td id=\"T_66e5cd98_78ca_11ea_8929_f45c89c033c9row29_col0\" class=\"data row29 col0\" >2020-03-09 00:00:00</td>\n",
       "                        <td id=\"T_66e5cd98_78ca_11ea_8929_f45c89c033c9row29_col1\" class=\"data row29 col1\" >68</td>\n",
       "                        <td id=\"T_66e5cd98_78ca_11ea_8929_f45c89c033c9row29_col2\" class=\"data row29 col2\" >1</td>\n",
       "            </tr>\n",
       "            <tr>\n",
       "                        <th id=\"T_66e5cd98_78ca_11ea_8929_f45c89c033c9level0_row30\" class=\"row_heading level0 row30\" >30</th>\n",
       "                        <td id=\"T_66e5cd98_78ca_11ea_8929_f45c89c033c9row30_col0\" class=\"data row30 col0\" >2020-03-08 00:00:00</td>\n",
       "                        <td id=\"T_66e5cd98_78ca_11ea_8929_f45c89c033c9row30_col1\" class=\"data row30 col1\" >55</td>\n",
       "                        <td id=\"T_66e5cd98_78ca_11ea_8929_f45c89c033c9row30_col2\" class=\"data row30 col2\" >0</td>\n",
       "            </tr>\n",
       "            <tr>\n",
       "                        <th id=\"T_66e5cd98_78ca_11ea_8929_f45c89c033c9level0_row31\" class=\"row_heading level0 row31\" >31</th>\n",
       "                        <td id=\"T_66e5cd98_78ca_11ea_8929_f45c89c033c9row31_col0\" class=\"data row31 col0\" >2020-03-07 00:00:00</td>\n",
       "                        <td id=\"T_66e5cd98_78ca_11ea_8929_f45c89c033c9row31_col1\" class=\"data row31 col1\" >122</td>\n",
       "                        <td id=\"T_66e5cd98_78ca_11ea_8929_f45c89c033c9row31_col2\" class=\"data row31 col2\" >0</td>\n",
       "            </tr>\n",
       "            <tr>\n",
       "                        <th id=\"T_66e5cd98_78ca_11ea_8929_f45c89c033c9level0_row32\" class=\"row_heading level0 row32\" >32</th>\n",
       "                        <td id=\"T_66e5cd98_78ca_11ea_8929_f45c89c033c9row32_col0\" class=\"data row32 col0\" >2020-03-06 00:00:00</td>\n",
       "                        <td id=\"T_66e5cd98_78ca_11ea_8929_f45c89c033c9row32_col1\" class=\"data row32 col1\" >30</td>\n",
       "                        <td id=\"T_66e5cd98_78ca_11ea_8929_f45c89c033c9row32_col2\" class=\"data row32 col2\" >1</td>\n",
       "            </tr>\n",
       "            <tr>\n",
       "                        <th id=\"T_66e5cd98_78ca_11ea_8929_f45c89c033c9level0_row33\" class=\"row_heading level0 row33\" >33</th>\n",
       "                        <td id=\"T_66e5cd98_78ca_11ea_8929_f45c89c033c9row33_col0\" class=\"data row33 col0\" >2020-03-05 00:00:00</td>\n",
       "                        <td id=\"T_66e5cd98_78ca_11ea_8929_f45c89c033c9row33_col1\" class=\"data row33 col1\" >20</td>\n",
       "                        <td id=\"T_66e5cd98_78ca_11ea_8929_f45c89c033c9row33_col2\" class=\"data row33 col2\" >0</td>\n",
       "            </tr>\n",
       "            <tr>\n",
       "                        <th id=\"T_66e5cd98_78ca_11ea_8929_f45c89c033c9level0_row34\" class=\"row_heading level0 row34\" >34</th>\n",
       "                        <td id=\"T_66e5cd98_78ca_11ea_8929_f45c89c033c9row34_col0\" class=\"data row34 col0\" >2020-03-04 00:00:00</td>\n",
       "                        <td id=\"T_66e5cd98_78ca_11ea_8929_f45c89c033c9row34_col1\" class=\"data row34 col1\" >7</td>\n",
       "                        <td id=\"T_66e5cd98_78ca_11ea_8929_f45c89c033c9row34_col2\" class=\"data row34 col2\" >0</td>\n",
       "            </tr>\n",
       "            <tr>\n",
       "                        <th id=\"T_66e5cd98_78ca_11ea_8929_f45c89c033c9level0_row35\" class=\"row_heading level0 row35\" >35</th>\n",
       "                        <td id=\"T_66e5cd98_78ca_11ea_8929_f45c89c033c9row35_col0\" class=\"data row35 col0\" >2020-03-03 00:00:00</td>\n",
       "                        <td id=\"T_66e5cd98_78ca_11ea_8929_f45c89c033c9row35_col1\" class=\"data row35 col1\" >6</td>\n",
       "                        <td id=\"T_66e5cd98_78ca_11ea_8929_f45c89c033c9row35_col2\" class=\"data row35 col2\" >0</td>\n",
       "            </tr>\n",
       "            <tr>\n",
       "                        <th id=\"T_66e5cd98_78ca_11ea_8929_f45c89c033c9level0_row36\" class=\"row_heading level0 row36\" >36</th>\n",
       "                        <td id=\"T_66e5cd98_78ca_11ea_8929_f45c89c033c9row36_col0\" class=\"data row36 col0\" >2020-03-02 00:00:00</td>\n",
       "                        <td id=\"T_66e5cd98_78ca_11ea_8929_f45c89c033c9row36_col1\" class=\"data row36 col1\" >6</td>\n",
       "                        <td id=\"T_66e5cd98_78ca_11ea_8929_f45c89c033c9row36_col2\" class=\"data row36 col2\" >0</td>\n",
       "            </tr>\n",
       "            <tr>\n",
       "                        <th id=\"T_66e5cd98_78ca_11ea_8929_f45c89c033c9level0_row37\" class=\"row_heading level0 row37\" >37</th>\n",
       "                        <td id=\"T_66e5cd98_78ca_11ea_8929_f45c89c033c9row37_col0\" class=\"data row37 col0\" >2020-03-01 00:00:00</td>\n",
       "                        <td id=\"T_66e5cd98_78ca_11ea_8929_f45c89c033c9row37_col1\" class=\"data row37 col1\" >6</td>\n",
       "                        <td id=\"T_66e5cd98_78ca_11ea_8929_f45c89c033c9row37_col2\" class=\"data row37 col2\" >0</td>\n",
       "            </tr>\n",
       "            <tr>\n",
       "                        <th id=\"T_66e5cd98_78ca_11ea_8929_f45c89c033c9level0_row38\" class=\"row_heading level0 row38\" >38</th>\n",
       "                        <td id=\"T_66e5cd98_78ca_11ea_8929_f45c89c033c9row38_col0\" class=\"data row38 col0\" >2020-02-29 00:00:00</td>\n",
       "                        <td id=\"T_66e5cd98_78ca_11ea_8929_f45c89c033c9row38_col1\" class=\"data row38 col1\" >4</td>\n",
       "                        <td id=\"T_66e5cd98_78ca_11ea_8929_f45c89c033c9row38_col2\" class=\"data row38 col2\" >0</td>\n",
       "            </tr>\n",
       "            <tr>\n",
       "                        <th id=\"T_66e5cd98_78ca_11ea_8929_f45c89c033c9level0_row39\" class=\"row_heading level0 row39\" >39</th>\n",
       "                        <td id=\"T_66e5cd98_78ca_11ea_8929_f45c89c033c9row39_col0\" class=\"data row39 col0\" >2020-02-28 00:00:00</td>\n",
       "                        <td id=\"T_66e5cd98_78ca_11ea_8929_f45c89c033c9row39_col1\" class=\"data row39 col1\" >7</td>\n",
       "                        <td id=\"T_66e5cd98_78ca_11ea_8929_f45c89c033c9row39_col2\" class=\"data row39 col2\" >0</td>\n",
       "            </tr>\n",
       "            <tr>\n",
       "                        <th id=\"T_66e5cd98_78ca_11ea_8929_f45c89c033c9level0_row40\" class=\"row_heading level0 row40\" >40</th>\n",
       "                        <td id=\"T_66e5cd98_78ca_11ea_8929_f45c89c033c9row40_col0\" class=\"data row40 col0\" >2020-02-26 00:00:00</td>\n",
       "                        <td id=\"T_66e5cd98_78ca_11ea_8929_f45c89c033c9row40_col1\" class=\"data row40 col1\" >1</td>\n",
       "                        <td id=\"T_66e5cd98_78ca_11ea_8929_f45c89c033c9row40_col2\" class=\"data row40 col2\" >0</td>\n",
       "            </tr>\n",
       "    </tbody></table>"
      ],
      "text/plain": [
       "<pandas.io.formats.style.Styler at 0x10ee7b048>"
      ]
     },
     "execution_count": 26,
     "metadata": {},
     "output_type": "execute_result"
    }
   ],
   "source": [
    "# Highlight Deaths and Cases values with bars\n",
    "df4.style.bar(subset=['Cases', 'Deaths'], color='#d65f5f')"
   ]
  },
  {
   "cell_type": "markdown",
   "metadata": {},
   "source": [
    "Let's get down to the statistics and plotting:"
   ]
  },
  {
   "cell_type": "code",
   "execution_count": 27,
   "metadata": {},
   "outputs": [
    {
     "name": "stdout",
     "output_type": "stream",
     "text": [
      "Date      41\n",
      "Cases     41\n",
      "Deaths    41\n",
      "dtype: int64\n"
     ]
    }
   ],
   "source": [
    "# Count how much data in each column\n",
    "print(df4.count())"
   ]
  },
  {
   "cell_type": "code",
   "execution_count": 28,
   "metadata": {},
   "outputs": [
    {
     "name": "stdout",
     "output_type": "stream",
     "text": [
      "             Cases     Deaths\n",
      "count    41.000000  41.000000\n",
      "mean    526.195122  14.243902\n",
      "std     467.060286  20.482652\n",
      "min       0.000000   0.000000\n",
      "25%      42.000000   0.000000\n",
      "50%     450.000000   4.000000\n",
      "75%     962.000000  20.000000\n",
      "max    1390.000000  78.000000\n"
     ]
    }
   ],
   "source": [
    "# Statistical measures of all columns\n",
    "print(df4.describe())"
   ]
  },
  {
   "cell_type": "code",
   "execution_count": 29,
   "metadata": {},
   "outputs": [
    {
     "name": "stdout",
     "output_type": "stream",
     "text": [
      "The total number of reported cases is 21574.\n",
      "The total number of reported deaths is 584.\n"
     ]
    }
   ],
   "source": [
    "# Total number of cases and deaths\n",
    "sum_cases = df4['Cases'].sum()\n",
    "sum_deaths = df4['Deaths'].sum()\n",
    "print('The total number of reported cases is ' + str(sum_cases) + '.')\n",
    "print('The total number of reported deaths is ' + str(sum_deaths) + '.')"
   ]
  },
  {
   "cell_type": "code",
   "execution_count": 30,
   "metadata": {},
   "outputs": [
    {
     "name": "stdout",
     "output_type": "stream",
     "text": [
      "The average number of reported cases daily is 526.1951219512196.\n",
      "The average number of reported deaths daily is 14.24390243902439.\n"
     ]
    }
   ],
   "source": [
    "# Average number of cases and deaths\n",
    "ave_cases = df4['Cases'].mean()\n",
    "ave_deaths = df4['Deaths'].mean()\n",
    "print('The average number of reported cases daily is ' + str(ave_cases) + '.')\n",
    "print('The average number of reported deaths daily is ' + str(ave_deaths) + '.')"
   ]
  },
  {
   "cell_type": "code",
   "execution_count": 31,
   "metadata": {},
   "outputs": [
    {
     "name": "stdout",
     "output_type": "stream",
     "text": [
      "The max number of reported cases in a day is 1390.\n",
      "The max number of reported deaths in a day is 78.\n"
     ]
    }
   ],
   "source": [
    "# Highest reported days for cases and deaths\n",
    "max_cases = df4['Cases'].max()\n",
    "max_deaths = df4['Deaths'].max()\n",
    "print('The max number of reported cases in a day is ' + str(max_cases) + '.')\n",
    "print('The max number of reported deaths in a day is ' + str(max_deaths) + '.')"
   ]
  },
  {
   "cell_type": "code",
   "execution_count": 32,
   "metadata": {},
   "outputs": [
    {
     "name": "stdout",
     "output_type": "stream",
     "text": [
      "[10]\n"
     ]
    }
   ],
   "source": [
    "# Find index to match cases date\n",
    "max_cases_index = df4[df4['Cases'] == df4.Cases.max()].index.values\n",
    "print(max_cases_index)"
   ]
  },
  {
   "cell_type": "code",
   "execution_count": 33,
   "metadata": {},
   "outputs": [
    {
     "name": "stdout",
     "output_type": "stream",
     "text": [
      "10   2020-03-28\n",
      "Name: Date, dtype: datetime64[ns]\n"
     ]
    }
   ],
   "source": [
    "# Find which day that was\n",
    "max_day_cases = df4.iloc[max_cases_index, 0]\n",
    "print(max_day_cases)"
   ]
  },
  {
   "cell_type": "code",
   "execution_count": 36,
   "metadata": {},
   "outputs": [
    {
     "data": {
      "image/png": "[encoded data removed]",
      "text/plain": [
       "<Figure size 2880x360 with 1 Axes>"
      ]
     },
     "metadata": {
      "needs_background": "light"
     },
     "output_type": "display_data"
    }
   ],
   "source": [
    "# Plots\n",
    "pd.plotting.register_matplotlib_converters()\n",
    "\n",
    "plt.plot(df4['Date'], df4['Cases'],label = 'Cases')\n",
    "plt.plot(df4['Date'], df4['Deaths'], label = 'Deaths')\n",
    "plt.title('Time Series of Number of Cases VS Deaths', fontsize='large', fontweight='bold')\n",
    "plt.xlim(pd.Timestamp('2020-02-25'), pd.Timestamp('2020-04-04'))\n",
    "plt.xticks(rotation= 70)\n",
    "plt.xlabel('Time (Day)');\n",
    "plt.ylabel('Number');\n",
    "plt.show()\n",
    "\n"
   ]
  },
  {
   "cell_type": "code",
   "execution_count": 37,
   "metadata": {},
   "outputs": [
    {
     "data": {
      "image/png": "[encoded data removed]",
      "text/plain": [
       "<Figure size 2880x360 with 1 Axes>"
      ]
     },
     "metadata": {
      "needs_background": "light"
     },
     "output_type": "display_data"
    }
   ],
   "source": [
    "# Or in bar format\n",
    "plt.bar(df4['Date'], df4['Cases'], width=20)\n",
    "plt.bar(df4['Date'], df4['Deaths'], width=20)\n",
    "plt.title('Time Series of Number of Cases VS Deaths',fontsize='large', fontweight='bold')\n",
    "plt.xlim(pd.Timestamp('2020-02-25'), pd.Timestamp('2020-04-04'))\n",
    "plt.xticks(rotation='vertical')\n",
    "plt.xlabel('Time (Day)');\n",
    "plt.ylabel('Number');\n",
    "plt.rc('figure',figsize = ('40,5'))\n",
    "plt.show()"
   ]
  },
  {
   "cell_type": "markdown",
   "metadata": {},
   "source": [
    "__Note:__ Many plots could be made using the matplotlib library but exporting the data onto PowerBI or Tableau definitely is a better choice as interactive dashboards can be made on those softwares, making them more practical."
   ]
  },
  {
   "cell_type": "markdown",
   "metadata": {},
   "source": [
    "## Conclusion:\n",
    "\n",
    "We saw the power of Pandas, Numpy, Matplotlib and the fun of using those libraries with some styling in Python. The visualization would definitely look better on PowerBI or Tableau. It is also more user/customer-friendly as you can create simple interactive dashboards (This is what many organizations do) for people who want to explore the data within the case study. This project doesn't really bring out much that isn't on the news. It just shows the fun in coding and finding those analytics. \n",
    "Potential improvement in this case study would be to benchmark countries just like my Master's thesis but there are too many variables missing. Forecasting models could be considered when/if there will be more data but as of now, there is no specific trend or seasonality, which would just end up giving an inaccurate result."
   ]
  }
 ],
 "metadata": {
  "kernelspec": {
   "display_name": "Python 3",
   "language": "python",
   "name": "python3"
  },
  "language_info": {
   "codemirror_mode": {
    "name": "ipython",
    "version": 3
   },
   "file_extension": ".py",
   "mimetype": "text/x-python",
   "name": "python",
   "nbconvert_exporter": "python",
   "pygments_lexer": "ipython3",
   "version": "3.7.3"
  }
 },
 "nbformat": 4,
 "nbformat_minor": 2
}
