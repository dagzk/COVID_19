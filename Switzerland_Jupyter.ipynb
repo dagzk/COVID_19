{
 "cells": [
  {
   "cell_type": "markdown",
   "metadata": {},
   "source": [
    "# COVID-19 PROJECT\n",
    "\n",
    "Using data updated daily from ECDC's website, we take a look at the number of cases and deaths for countries within the dataset. We then focus on Switzerland's data. Note that the data is updated daily.\n",
    "\n",
    "Link for the  data:\n",
    "https://www.ecdc.europa.eu/en/publications-data/download-todays-data-geographic-distribution-covid-19-cases-worldwide\n",
    "\n",
    "### What This Notebook Shows:\n",
    "1. General review and use of Pandas, Numpy, SciPy, Scikit-learn, Matplotlib, Seaborn and Styling\n",
    "2. Use of Markdown on Jupyter Notebook\n",
    "3. Analyzing COVID-19's spreading rate in Switzerland\n",
    "4. Possible ideas for future related projects\n"
   ]
  },
  {
   "cell_type": "markdown",
   "metadata": {},
   "source": [
    "## Importing World's COVID-19 Data\n",
    "\n",
    "We start off by importing the data as a csv file, which is updated daily."
   ]
  },
  {
   "cell_type": "code",
   "execution_count": 1,
   "metadata": {},
   "outputs": [],
   "source": [
    "import pandas as pd\n",
    "import numpy as np\n",
    "import scipy.stats as sp\n",
    "import matplotlib.pyplot as plt\n",
    "from sklearn.linear_model import LinearRegression\n",
    "from sklearn.metrics import mean_squared_error\n",
    "import seaborn as sns\n",
    "\n",
    "# Project updated 26th of April 2020\n",
    "\n",
    "# load the csv file\n",
    "df = pd.read_csv('https://opendata.ecdc.europa.eu/covid19/casedistribution/csv')\n",
    "# Dataset updates automatically every time you rerun"
   ]
  },
  {
   "cell_type": "code",
   "execution_count": 2,
   "metadata": {},
   "outputs": [],
   "source": [
    "# Set the width of the number of characters for the rows and columns\n",
    "pd.set_option('display.width', 320)\n",
    "pd.set_option('display.max_columns', None)\n",
    "pd.set_option('display.max_rows', None)"
   ]
  },
  {
   "cell_type": "code",
   "execution_count": 3,
   "metadata": {},
   "outputs": [
    {
     "name": "stdout",
     "output_type": "stream",
     "text": [
      "      dateRep  day  month  year  cases  deaths countriesAndTerritories geoId countryterritoryCode  popData2018 continentExp\n",
      "0  02/05/2020    2      5  2020    164       4             Afghanistan    AF                  AFG   37172386.0         Asia\n",
      "1  01/05/2020    1      5  2020    222       4             Afghanistan    AF                  AFG   37172386.0         Asia\n",
      "2  30/04/2020   30      4  2020    122       0             Afghanistan    AF                  AFG   37172386.0         Asia\n",
      "3  29/04/2020   29      4  2020    124       3             Afghanistan    AF                  AFG   37172386.0         Asia\n",
      "4  28/04/2020   28      4  2020    172       0             Afghanistan    AF                  AFG   37172386.0         Asia\n"
     ]
    }
   ],
   "source": [
    "# check first five rows to see how data and headers look\n",
    "print(df.head())"
   ]
  },
  {
   "cell_type": "markdown",
   "metadata": {},
   "source": [
    "__Note:__ Notice how there is no recovered cases column. What constitutes someone who has \"recovered\" is also being argued by many professionals in the field. For this analysis, we will just forget the number of recovered cases and assume someone lives on with this virus once they have it, in other terms is immune."
   ]
  },
  {
   "cell_type": "code",
   "execution_count": 4,
   "metadata": {},
   "outputs": [
    {
     "name": "stdout",
     "output_type": "stream",
     "text": [
      "          dateRep  day  month  year  cases  deaths countriesAndTerritories geoId countryterritoryCode  popData2018 continentExp\n",
      "14445  25/03/2020   25      3  2020      0       0                Zimbabwe    ZW                  ZWE   14439018.0       Africa\n",
      "14446  24/03/2020   24      3  2020      0       1                Zimbabwe    ZW                  ZWE   14439018.0       Africa\n",
      "14447  23/03/2020   23      3  2020      0       0                Zimbabwe    ZW                  ZWE   14439018.0       Africa\n",
      "14448  22/03/2020   22      3  2020      1       0                Zimbabwe    ZW                  ZWE   14439018.0       Africa\n",
      "14449  21/03/2020   21      3  2020      1       0                Zimbabwe    ZW                  ZWE   14439018.0       Africa\n"
     ]
    }
   ],
   "source": [
    "# check last five rows to see how many total rows\n",
    "print(df.tail())"
   ]
  },
  {
   "cell_type": "code",
   "execution_count": 5,
   "metadata": {},
   "outputs": [
    {
     "name": "stdout",
     "output_type": "stream",
     "text": [
      "dateRep                    14450\n",
      "day                        14450\n",
      "month                      14450\n",
      "year                       14450\n",
      "cases                      14450\n",
      "deaths                     14450\n",
      "countriesAndTerritories    14450\n",
      "geoId                      14401\n",
      "countryterritoryCode       14282\n",
      "popData2018                14304\n",
      "continentExp               14450\n",
      "dtype: int64\n"
     ]
    }
   ],
   "source": [
    "# Count how much data in each column\n",
    "print(df.count())"
   ]
  },
  {
   "cell_type": "code",
   "execution_count": 6,
   "metadata": {},
   "outputs": [
    {
     "name": "stdout",
     "output_type": "stream",
     "text": [
      "                day         month          year         cases        deaths   popData2018\n",
      "count  14450.000000  14450.000000  14450.000000  14450.000000  14450.000000  1.430400e+04\n",
      "mean      16.377509      3.101038   2019.995363    228.899654     16.500415  5.494123e+07\n",
      "std        9.000564      1.270264      0.067937   1596.065098    124.433050  1.831232e+08\n",
      "min        1.000000      1.000000   2019.000000  -1430.000000      0.000000  1.000000e+03\n",
      "25%        9.000000      2.000000   2020.000000      0.000000      0.000000  2.789533e+06\n",
      "50%       17.000000      3.000000   2020.000000      1.000000      0.000000  9.942334e+06\n",
      "75%       24.000000      4.000000   2020.000000     30.000000      1.000000  3.717239e+07\n",
      "max       31.000000     12.000000   2020.000000  48529.000000   4928.000000  1.392730e+09\n"
     ]
    }
   ],
   "source": [
    "# Statistical measures of all columns\n",
    "print(df.describe())"
   ]
  },
  {
   "cell_type": "markdown",
   "metadata": {},
   "source": [
    "__Note__: Notice a __*-9 cases*__ for the minimum for \"cases\", that's interesting (definitely a mistake). We will check the country that is indexed to it."
   ]
  },
  {
   "cell_type": "code",
   "execution_count": 7,
   "metadata": {},
   "outputs": [
    {
     "name": "stdout",
     "output_type": "stream",
     "text": [
      "                  day     month      year     cases    deaths  popData2018\n",
      "day          1.000000 -0.025776 -0.110887  0.001818 -0.000936    -0.018098\n",
      "month       -0.025776  1.000000 -0.478160  0.077773  0.080861    -0.085550\n",
      "year        -0.110887 -0.478160  1.000000  0.009771  0.009051    -0.011378\n",
      "cases        0.001818  0.077773  0.009771  1.000000  0.840874     0.115224\n",
      "deaths      -0.000936  0.080861  0.009051  0.840874  1.000000     0.081816\n",
      "popData2018 -0.018098 -0.085550 -0.011378  0.115224  0.081816     1.000000\n"
     ]
    }
   ],
   "source": [
    "# See correlation within data\n",
    "print(df.corr())"
   ]
  },
  {
   "cell_type": "markdown",
   "metadata": {},
   "source": [
    "__Note:__ It is good that the diagonal values in the matrix are all 1. We can also plot this in a heatmap to visualize it better."
   ]
  },
  {
   "cell_type": "code",
   "execution_count": 8,
   "metadata": {},
   "outputs": [
    {
     "name": "stdout",
     "output_type": "stream",
     "text": [
      "209\n"
     ]
    }
   ],
   "source": [
    "# How many countries are listed in the dataset\n",
    "print(df.countriesAndTerritories.nunique())\n",
    "# Comment by Dan: 202 on April 1st 2020"
   ]
  },
  {
   "cell_type": "markdown",
   "metadata": {},
   "source": [
    "#### Find which country has the highest cases and how many:"
   ]
  },
  {
   "cell_type": "code",
   "execution_count": 9,
   "metadata": {},
   "outputs": [
    {
     "name": "stdout",
     "output_type": "stream",
     "text": [
      "48529\n"
     ]
    }
   ],
   "source": [
    "# first find highest case number\n",
    "max_value = df.cases.max()\n",
    "print(max_value)"
   ]
  },
  {
   "cell_type": "code",
   "execution_count": 10,
   "metadata": {},
   "outputs": [
    {
     "name": "stdout",
     "output_type": "stream",
     "text": [
      "[13909]\n"
     ]
    }
   ],
   "source": [
    "# Then find its index to match country\n",
    "country_index = df[df['cases'] == df.cases.max()].index.values\n",
    "print(country_index)"
   ]
  },
  {
   "cell_type": "code",
   "execution_count": 11,
   "metadata": {},
   "outputs": [
    {
     "name": "stdout",
     "output_type": "stream",
     "text": [
      "13909    United_States_of_America\n",
      "Name: countriesAndTerritories, dtype: object\n"
     ]
    }
   ],
   "source": [
    "# max country based on index:\n",
    "max_country = df.iloc[country_index, 6]\n",
    "print(max_country)"
   ]
  },
  {
   "cell_type": "markdown",
   "metadata": {},
   "source": [
    "#### Find which country has the lowest cases and how many:"
   ]
  },
  {
   "cell_type": "code",
   "execution_count": 12,
   "metadata": {},
   "outputs": [
    {
     "name": "stdout",
     "output_type": "stream",
     "text": [
      "-1430\n"
     ]
    }
   ],
   "source": [
    "# first find lowest case number\n",
    "min_value = df.cases.min()\n",
    "print(min_value)"
   ]
  },
  {
   "cell_type": "code",
   "execution_count": 13,
   "metadata": {},
   "outputs": [
    {
     "name": "stdout",
     "output_type": "stream",
     "text": [
      "[12385]\n"
     ]
    }
   ],
   "source": [
    "# Then find its index to match country\n",
    "country_index2 = df[df['cases'] == df.cases.min()].index.values\n",
    "print(country_index2)"
   ]
  },
  {
   "cell_type": "code",
   "execution_count": 14,
   "metadata": {},
   "outputs": [
    {
     "name": "stdout",
     "output_type": "stream",
     "text": [
      "12385    Spain\n",
      "Name: countriesAndTerritories, dtype: object\n"
     ]
    }
   ],
   "source": [
    "# min country based on index:\n",
    "min_country = df.iloc[country_index2, 6]\n",
    "print(min_country)"
   ]
  },
  {
   "cell_type": "markdown",
   "metadata": {},
   "source": [
    "Let's drop down the \"Cases_on_an_international_conveyance_Japan\" from the countries' list."
   ]
  },
  {
   "cell_type": "code",
   "execution_count": 15,
   "metadata": {},
   "outputs": [],
   "source": [
    "# Drop the Cases on an international conveyance Japan\n",
    "df = df[df.countriesAndTerritories != 'Cases_on_an_international_conveyance_Japan']"
   ]
  },
  {
   "cell_type": "code",
   "execution_count": 16,
   "metadata": {},
   "outputs": [
    {
     "name": "stdout",
     "output_type": "stream",
     "text": [
      "dateRep                    5030\n",
      "day                        5030\n",
      "month                      5030\n",
      "year                       5030\n",
      "cases                      5030\n",
      "deaths                     5030\n",
      "countriesAndTerritories    5030\n",
      "geoId                      5030\n",
      "countryterritoryCode       5030\n",
      "popData2018                5030\n",
      "continentExp               5030\n",
      "dtype: int64\n"
     ]
    }
   ],
   "source": [
    "# How many instances where at least 10 cases FOR EVERY COUNTRY were reported in a single day\n",
    "df2 = df[df['cases']>= 10]\n",
    "print(df2.count())\n",
    "# Comment by Dan: 2907 instances"
   ]
  },
  {
   "cell_type": "code",
   "execution_count": 17,
   "metadata": {},
   "outputs": [
    {
     "name": "stdout",
     "output_type": "stream",
     "text": [
      "The total number of reported cases is 3306904.\n",
      "The total number of reported deaths is 238424.\n"
     ]
    }
   ],
   "source": [
    "# Total number of cases and deaths worldwide\n",
    "world_sum_cases = df['cases'].sum()\n",
    "world_sum_deaths = df['deaths'].sum()\n",
    "print('The total number of reported cases is ' + str(world_sum_cases) + '.')\n",
    "print('The total number of reported deaths is ' + str(world_sum_deaths) + '.')"
   ]
  },
  {
   "cell_type": "markdown",
   "metadata": {},
   "source": [
    "##### Population could be used to insert a new column (Total Cases per Population) and compare the ratios between countries, making the analysis between countries more interesting. We could then also apply ANOVA (Analysis of Variance) to see if there are any correlations between certain group of countries.\n"
   ]
  },
  {
   "cell_type": "markdown",
   "metadata": {},
   "source": [
    "# Case Study on Switzerland\n",
    "\n",
    "Here we focus on Switzerland and have some fun with the data. Explore some styling and visualization.\n",
    "\n",
    "### 1) New Dataframe + Data Cleaning"
   ]
  },
  {
   "cell_type": "code",
   "execution_count": 18,
   "metadata": {},
   "outputs": [],
   "source": [
    "# This shows all 2020 cases of Switzerland\n",
    "df4 = df[df['countriesAndTerritories']=='Switzerland']"
   ]
  },
  {
   "cell_type": "code",
   "execution_count": 19,
   "metadata": {},
   "outputs": [
    {
     "name": "stdout",
     "output_type": "stream",
     "text": [
      "dateRep                    58\n",
      "day                        58\n",
      "month                      58\n",
      "year                       58\n",
      "cases                      58\n",
      "deaths                     58\n",
      "countriesAndTerritories    58\n",
      "geoId                      58\n",
      "countryterritoryCode       58\n",
      "popData2018                58\n",
      "continentExp               58\n",
      "dtype: int64\n"
     ]
    }
   ],
   "source": [
    "# How many instances where at least 10 cases were reported in a single day\n",
    "df3 = df2[df2['countriesAndTerritories'] == 'Switzerland']\n",
    "Swiss_cases = df3.count()\n",
    "print(Swiss_cases)\n",
    "# Comment by Dan: 49 on April 23rd 2020, Note that the first case was on 25/02/2020"
   ]
  },
  {
   "cell_type": "code",
   "execution_count": 20,
   "metadata": {},
   "outputs": [],
   "source": [
    "# rename all columns\n",
    "df4.columns = ['Date', 'D', 'M', 'Y', 'Cases', 'Deaths', 'Countries', 'Geolocal', 'Country Code' , 'Population', 'Continent']"
   ]
  },
  {
   "cell_type": "markdown",
   "metadata": {},
   "source": [
    "Check data type of each column, notice \"Date\" is not in __datetime__ format. We can use the command print(df4.info()) to check the data type of each column. Date formatting also seems to be wrong since download (months and days format sometimes inversed). We will fix that."
   ]
  },
  {
   "cell_type": "code",
   "execution_count": 21,
   "metadata": {},
   "outputs": [],
   "source": [
    "# delete unrequired columns: Date, Countries, Geolocal, Country Code, Population & Continent (Added later)\n",
    "df4 = df4.drop(columns= ['Date','Countries','Geolocal', 'Country Code', 'Population', 'Continent'])"
   ]
  },
  {
   "cell_type": "code",
   "execution_count": 22,
   "metadata": {},
   "outputs": [],
   "source": [
    "# Create a New Date column based on the Day, Month and Year columns and delete the D, M and Y columns\n",
    "# Automatic data type change as well\n",
    "Date = pd.to_datetime((df4.Y*10000+df4.M*100+df4.D).apply(str), format='%Y%m%d')\n",
    "df4.insert(0,\"Date\", Date)\n",
    "df4 = df4.drop(columns= ['D','M','Y'])\n",
    "# print(df4.info())"
   ]
  },
  {
   "cell_type": "code",
   "execution_count": 23,
   "metadata": {},
   "outputs": [],
   "source": [
    "# Delete unrequired days of data (days where there were 0 cases and 0 deaths)\n",
    "\n",
    "unrequired_days = df4[(df4['Deaths'] == 0) & (df4['Cases'] == 0)].index\n",
    "df4.drop(unrequired_days, inplace = True)"
   ]
  },
  {
   "cell_type": "markdown",
   "metadata": {},
   "source": [
    "__Note:__ between 26-28/02/2020: one case disappeared within those 2 days. Also no cases between 16-18/03/2020."
   ]
  },
  {
   "cell_type": "code",
   "execution_count": 24,
   "metadata": {},
   "outputs": [],
   "source": [
    "# Reset the indexes\n",
    "df4 = df4.reset_index(drop=True)"
   ]
  },
  {
   "cell_type": "code",
   "execution_count": 25,
   "metadata": {},
   "outputs": [
    {
     "data": {
      "text/html": [
       "<div>\n",
       "<style scoped>\n",
       "    .dataframe tbody tr th:only-of-type {\n",
       "        vertical-align: middle;\n",
       "    }\n",
       "\n",
       "    .dataframe tbody tr th {\n",
       "        vertical-align: top;\n",
       "    }\n",
       "\n",
       "    .dataframe thead th {\n",
       "        text-align: right;\n",
       "    }\n",
       "</style>\n",
       "<table border=\"1\" class=\"dataframe\">\n",
       "  <thead>\n",
       "    <tr style=\"text-align: right;\">\n",
       "      <th></th>\n",
       "      <th>Date</th>\n",
       "      <th>Cases</th>\n",
       "      <th>Deaths</th>\n",
       "    </tr>\n",
       "  </thead>\n",
       "  <tbody>\n",
       "    <tr>\n",
       "      <th>0</th>\n",
       "      <td>2020-05-02</td>\n",
       "      <td>119</td>\n",
       "      <td>12</td>\n",
       "    </tr>\n",
       "    <tr>\n",
       "      <th>1</th>\n",
       "      <td>2020-05-01</td>\n",
       "      <td>179</td>\n",
       "      <td>15</td>\n",
       "    </tr>\n",
       "    <tr>\n",
       "      <th>2</th>\n",
       "      <td>2020-04-30</td>\n",
       "      <td>143</td>\n",
       "      <td>28</td>\n",
       "    </tr>\n",
       "    <tr>\n",
       "      <th>3</th>\n",
       "      <td>2020-04-29</td>\n",
       "      <td>100</td>\n",
       "      <td>27</td>\n",
       "    </tr>\n",
       "    <tr>\n",
       "      <th>4</th>\n",
       "      <td>2020-04-28</td>\n",
       "      <td>103</td>\n",
       "      <td>16</td>\n",
       "    </tr>\n",
       "    <tr>\n",
       "      <th>5</th>\n",
       "      <td>2020-04-27</td>\n",
       "      <td>167</td>\n",
       "      <td>8</td>\n",
       "    </tr>\n",
       "    <tr>\n",
       "      <th>6</th>\n",
       "      <td>2020-04-26</td>\n",
       "      <td>216</td>\n",
       "      <td>20</td>\n",
       "    </tr>\n",
       "    <tr>\n",
       "      <th>7</th>\n",
       "      <td>2020-04-25</td>\n",
       "      <td>181</td>\n",
       "      <td>41</td>\n",
       "    </tr>\n",
       "    <tr>\n",
       "      <th>8</th>\n",
       "      <td>2020-04-24</td>\n",
       "      <td>228</td>\n",
       "      <td>51</td>\n",
       "    </tr>\n",
       "    <tr>\n",
       "      <th>9</th>\n",
       "      <td>2020-04-23</td>\n",
       "      <td>205</td>\n",
       "      <td>30</td>\n",
       "    </tr>\n",
       "    <tr>\n",
       "      <th>10</th>\n",
       "      <td>2020-04-22</td>\n",
       "      <td>155</td>\n",
       "      <td>45</td>\n",
       "    </tr>\n",
       "    <tr>\n",
       "      <th>11</th>\n",
       "      <td>2020-04-21</td>\n",
       "      <td>168</td>\n",
       "      <td>7</td>\n",
       "    </tr>\n",
       "    <tr>\n",
       "      <th>12</th>\n",
       "      <td>2020-04-20</td>\n",
       "      <td>336</td>\n",
       "      <td>24</td>\n",
       "    </tr>\n",
       "    <tr>\n",
       "      <th>13</th>\n",
       "      <td>2020-04-19</td>\n",
       "      <td>325</td>\n",
       "      <td>52</td>\n",
       "    </tr>\n",
       "    <tr>\n",
       "      <th>14</th>\n",
       "      <td>2020-04-18</td>\n",
       "      <td>346</td>\n",
       "      <td>42</td>\n",
       "    </tr>\n",
       "    <tr>\n",
       "      <th>15</th>\n",
       "      <td>2020-04-17</td>\n",
       "      <td>315</td>\n",
       "      <td>43</td>\n",
       "    </tr>\n",
       "    <tr>\n",
       "      <th>16</th>\n",
       "      <td>2020-04-16</td>\n",
       "      <td>583</td>\n",
       "      <td>73</td>\n",
       "    </tr>\n",
       "    <tr>\n",
       "      <th>17</th>\n",
       "      <td>2020-04-15</td>\n",
       "      <td>254</td>\n",
       "      <td>42</td>\n",
       "    </tr>\n",
       "    <tr>\n",
       "      <th>18</th>\n",
       "      <td>2020-04-14</td>\n",
       "      <td>279</td>\n",
       "      <td>0</td>\n",
       "    </tr>\n",
       "    <tr>\n",
       "      <th>19</th>\n",
       "      <td>2020-04-13</td>\n",
       "      <td>400</td>\n",
       "      <td>27</td>\n",
       "    </tr>\n",
       "    <tr>\n",
       "      <th>20</th>\n",
       "      <td>2020-04-12</td>\n",
       "      <td>592</td>\n",
       "      <td>26</td>\n",
       "    </tr>\n",
       "    <tr>\n",
       "      <th>21</th>\n",
       "      <td>2020-04-11</td>\n",
       "      <td>733</td>\n",
       "      <td>49</td>\n",
       "    </tr>\n",
       "    <tr>\n",
       "      <th>22</th>\n",
       "      <td>2020-04-10</td>\n",
       "      <td>785</td>\n",
       "      <td>51</td>\n",
       "    </tr>\n",
       "    <tr>\n",
       "      <th>23</th>\n",
       "      <td>2020-04-09</td>\n",
       "      <td>546</td>\n",
       "      <td>64</td>\n",
       "    </tr>\n",
       "    <tr>\n",
       "      <th>24</th>\n",
       "      <td>2020-04-08</td>\n",
       "      <td>590</td>\n",
       "      <td>57</td>\n",
       "    </tr>\n",
       "    <tr>\n",
       "      <th>25</th>\n",
       "      <td>2020-04-07</td>\n",
       "      <td>552</td>\n",
       "      <td>25</td>\n",
       "    </tr>\n",
       "    <tr>\n",
       "      <th>26</th>\n",
       "      <td>2020-04-06</td>\n",
       "      <td>821</td>\n",
       "      <td>19</td>\n",
       "    </tr>\n",
       "    <tr>\n",
       "      <th>27</th>\n",
       "      <td>2020-04-05</td>\n",
       "      <td>974</td>\n",
       "      <td>56</td>\n",
       "    </tr>\n",
       "    <tr>\n",
       "      <th>28</th>\n",
       "      <td>2020-04-04</td>\n",
       "      <td>1033</td>\n",
       "      <td>52</td>\n",
       "    </tr>\n",
       "    <tr>\n",
       "      <th>29</th>\n",
       "      <td>2020-04-03</td>\n",
       "      <td>1124</td>\n",
       "      <td>54</td>\n",
       "    </tr>\n",
       "    <tr>\n",
       "      <th>30</th>\n",
       "      <td>2020-04-02</td>\n",
       "      <td>962</td>\n",
       "      <td>5</td>\n",
       "    </tr>\n",
       "    <tr>\n",
       "      <th>31</th>\n",
       "      <td>2020-04-01</td>\n",
       "      <td>696</td>\n",
       "      <td>78</td>\n",
       "    </tr>\n",
       "    <tr>\n",
       "      <th>32</th>\n",
       "      <td>2020-03-31</td>\n",
       "      <td>1138</td>\n",
       "      <td>38</td>\n",
       "    </tr>\n",
       "    <tr>\n",
       "      <th>33</th>\n",
       "      <td>2020-03-30</td>\n",
       "      <td>1122</td>\n",
       "      <td>22</td>\n",
       "    </tr>\n",
       "    <tr>\n",
       "      <th>34</th>\n",
       "      <td>2020-03-29</td>\n",
       "      <td>1048</td>\n",
       "      <td>38</td>\n",
       "    </tr>\n",
       "    <tr>\n",
       "      <th>35</th>\n",
       "      <td>2020-03-28</td>\n",
       "      <td>1390</td>\n",
       "      <td>36</td>\n",
       "    </tr>\n",
       "    <tr>\n",
       "      <th>36</th>\n",
       "      <td>2020-03-27</td>\n",
       "      <td>1000</td>\n",
       "      <td>58</td>\n",
       "    </tr>\n",
       "    <tr>\n",
       "      <th>37</th>\n",
       "      <td>2020-03-26</td>\n",
       "      <td>925</td>\n",
       "      <td>17</td>\n",
       "    </tr>\n",
       "    <tr>\n",
       "      <th>38</th>\n",
       "      <td>2020-03-25</td>\n",
       "      <td>774</td>\n",
       "      <td>20</td>\n",
       "    </tr>\n",
       "    <tr>\n",
       "      <th>39</th>\n",
       "      <td>2020-03-24</td>\n",
       "      <td>1044</td>\n",
       "      <td>6</td>\n",
       "    </tr>\n",
       "    <tr>\n",
       "      <th>40</th>\n",
       "      <td>2020-03-23</td>\n",
       "      <td>894</td>\n",
       "      <td>4</td>\n",
       "    </tr>\n",
       "    <tr>\n",
       "      <th>41</th>\n",
       "      <td>2020-03-22</td>\n",
       "      <td>1237</td>\n",
       "      <td>13</td>\n",
       "    </tr>\n",
       "    <tr>\n",
       "      <th>42</th>\n",
       "      <td>2020-03-21</td>\n",
       "      <td>952</td>\n",
       "      <td>10</td>\n",
       "    </tr>\n",
       "    <tr>\n",
       "      <th>43</th>\n",
       "      <td>2020-03-20</td>\n",
       "      <td>878</td>\n",
       "      <td>12</td>\n",
       "    </tr>\n",
       "    <tr>\n",
       "      <th>44</th>\n",
       "      <td>2020-03-19</td>\n",
       "      <td>360</td>\n",
       "      <td>2</td>\n",
       "    </tr>\n",
       "    <tr>\n",
       "      <th>45</th>\n",
       "      <td>2020-03-18</td>\n",
       "      <td>450</td>\n",
       "      <td>5</td>\n",
       "    </tr>\n",
       "    <tr>\n",
       "      <th>46</th>\n",
       "      <td>2020-03-17</td>\n",
       "      <td>0</td>\n",
       "      <td>1</td>\n",
       "    </tr>\n",
       "    <tr>\n",
       "      <th>47</th>\n",
       "      <td>2020-03-16</td>\n",
       "      <td>841</td>\n",
       "      <td>2</td>\n",
       "    </tr>\n",
       "    <tr>\n",
       "      <th>48</th>\n",
       "      <td>2020-03-15</td>\n",
       "      <td>238</td>\n",
       "      <td>4</td>\n",
       "    </tr>\n",
       "    <tr>\n",
       "      <th>49</th>\n",
       "      <td>2020-03-14</td>\n",
       "      <td>267</td>\n",
       "      <td>3</td>\n",
       "    </tr>\n",
       "    <tr>\n",
       "      <th>50</th>\n",
       "      <td>2020-03-13</td>\n",
       "      <td>212</td>\n",
       "      <td>0</td>\n",
       "    </tr>\n",
       "    <tr>\n",
       "      <th>51</th>\n",
       "      <td>2020-03-12</td>\n",
       "      <td>152</td>\n",
       "      <td>1</td>\n",
       "    </tr>\n",
       "    <tr>\n",
       "      <th>52</th>\n",
       "      <td>2020-03-11</td>\n",
       "      <td>116</td>\n",
       "      <td>1</td>\n",
       "    </tr>\n",
       "    <tr>\n",
       "      <th>53</th>\n",
       "      <td>2020-03-10</td>\n",
       "      <td>42</td>\n",
       "      <td>0</td>\n",
       "    </tr>\n",
       "    <tr>\n",
       "      <th>54</th>\n",
       "      <td>2020-03-09</td>\n",
       "      <td>68</td>\n",
       "      <td>1</td>\n",
       "    </tr>\n",
       "    <tr>\n",
       "      <th>55</th>\n",
       "      <td>2020-03-08</td>\n",
       "      <td>55</td>\n",
       "      <td>0</td>\n",
       "    </tr>\n",
       "    <tr>\n",
       "      <th>56</th>\n",
       "      <td>2020-03-07</td>\n",
       "      <td>122</td>\n",
       "      <td>0</td>\n",
       "    </tr>\n",
       "    <tr>\n",
       "      <th>57</th>\n",
       "      <td>2020-03-06</td>\n",
       "      <td>30</td>\n",
       "      <td>1</td>\n",
       "    </tr>\n",
       "    <tr>\n",
       "      <th>58</th>\n",
       "      <td>2020-03-05</td>\n",
       "      <td>20</td>\n",
       "      <td>0</td>\n",
       "    </tr>\n",
       "    <tr>\n",
       "      <th>59</th>\n",
       "      <td>2020-03-04</td>\n",
       "      <td>7</td>\n",
       "      <td>0</td>\n",
       "    </tr>\n",
       "    <tr>\n",
       "      <th>60</th>\n",
       "      <td>2020-03-03</td>\n",
       "      <td>6</td>\n",
       "      <td>0</td>\n",
       "    </tr>\n",
       "    <tr>\n",
       "      <th>61</th>\n",
       "      <td>2020-03-02</td>\n",
       "      <td>6</td>\n",
       "      <td>0</td>\n",
       "    </tr>\n",
       "    <tr>\n",
       "      <th>62</th>\n",
       "      <td>2020-03-01</td>\n",
       "      <td>6</td>\n",
       "      <td>0</td>\n",
       "    </tr>\n",
       "    <tr>\n",
       "      <th>63</th>\n",
       "      <td>2020-02-29</td>\n",
       "      <td>4</td>\n",
       "      <td>0</td>\n",
       "    </tr>\n",
       "    <tr>\n",
       "      <th>64</th>\n",
       "      <td>2020-02-28</td>\n",
       "      <td>7</td>\n",
       "      <td>0</td>\n",
       "    </tr>\n",
       "    <tr>\n",
       "      <th>65</th>\n",
       "      <td>2020-02-26</td>\n",
       "      <td>1</td>\n",
       "      <td>0</td>\n",
       "    </tr>\n",
       "  </tbody>\n",
       "</table>\n",
       "</div>"
      ],
      "text/plain": [
       "         Date  Cases  Deaths\n",
       "0  2020-05-02    119      12\n",
       "1  2020-05-01    179      15\n",
       "2  2020-04-30    143      28\n",
       "3  2020-04-29    100      27\n",
       "4  2020-04-28    103      16\n",
       "5  2020-04-27    167       8\n",
       "6  2020-04-26    216      20\n",
       "7  2020-04-25    181      41\n",
       "8  2020-04-24    228      51\n",
       "9  2020-04-23    205      30\n",
       "10 2020-04-22    155      45\n",
       "11 2020-04-21    168       7\n",
       "12 2020-04-20    336      24\n",
       "13 2020-04-19    325      52\n",
       "14 2020-04-18    346      42\n",
       "15 2020-04-17    315      43\n",
       "16 2020-04-16    583      73\n",
       "17 2020-04-15    254      42\n",
       "18 2020-04-14    279       0\n",
       "19 2020-04-13    400      27\n",
       "20 2020-04-12    592      26\n",
       "21 2020-04-11    733      49\n",
       "22 2020-04-10    785      51\n",
       "23 2020-04-09    546      64\n",
       "24 2020-04-08    590      57\n",
       "25 2020-04-07    552      25\n",
       "26 2020-04-06    821      19\n",
       "27 2020-04-05    974      56\n",
       "28 2020-04-04   1033      52\n",
       "29 2020-04-03   1124      54\n",
       "30 2020-04-02    962       5\n",
       "31 2020-04-01    696      78\n",
       "32 2020-03-31   1138      38\n",
       "33 2020-03-30   1122      22\n",
       "34 2020-03-29   1048      38\n",
       "35 2020-03-28   1390      36\n",
       "36 2020-03-27   1000      58\n",
       "37 2020-03-26    925      17\n",
       "38 2020-03-25    774      20\n",
       "39 2020-03-24   1044       6\n",
       "40 2020-03-23    894       4\n",
       "41 2020-03-22   1237      13\n",
       "42 2020-03-21    952      10\n",
       "43 2020-03-20    878      12\n",
       "44 2020-03-19    360       2\n",
       "45 2020-03-18    450       5\n",
       "46 2020-03-17      0       1\n",
       "47 2020-03-16    841       2\n",
       "48 2020-03-15    238       4\n",
       "49 2020-03-14    267       3\n",
       "50 2020-03-13    212       0\n",
       "51 2020-03-12    152       1\n",
       "52 2020-03-11    116       1\n",
       "53 2020-03-10     42       0\n",
       "54 2020-03-09     68       1\n",
       "55 2020-03-08     55       0\n",
       "56 2020-03-07    122       0\n",
       "57 2020-03-06     30       1\n",
       "58 2020-03-05     20       0\n",
       "59 2020-03-04      7       0\n",
       "60 2020-03-03      6       0\n",
       "61 2020-03-02      6       0\n",
       "62 2020-03-01      6       0\n",
       "63 2020-02-29      4       0\n",
       "64 2020-02-28      7       0\n",
       "65 2020-02-26      1       0"
      ]
     },
     "execution_count": 25,
     "metadata": {},
     "output_type": "execute_result"
    }
   ],
   "source": [
    "# save data to new csv\n",
    "# df4.to_csv('Covid_19_Switzerland_Data.csv')\n",
    "# check df4\n",
    "df4"
   ]
  },
  {
   "cell_type": "markdown",
   "metadata": {},
   "source": [
    "We could also apply some styling into the dataframe with __highlights__. I put some code in the cell below commented."
   ]
  },
  {
   "cell_type": "code",
   "execution_count": 26,
   "metadata": {},
   "outputs": [],
   "source": [
    "# Styling ideas for the dataframe\n",
    "\n",
    "# highlight max values in table in red\n",
    "# def highlight_max(s):\n",
    "#     '''\n",
    "#     highlight the maximum in a Series yellow.\n",
    "#     '''\n",
    "#     is_max = s == s.max()\n",
    "#     return ['background-color: red' if v else '' for v in is_max]\n",
    "\n",
    "# df4.style.apply(highlight_max)\n",
    "\n",
    "# Or for minimum:\n",
    "\n",
    "# def highlight_min(s):\n",
    "#     '''\n",
    "#     highlight the minimum in a Series blue.\n",
    "#     '''\n",
    "#     is_min = s == s.min()\n",
    "#     return ['background-color: blue' if v else '' for v in is_min]\n",
    "\n",
    "# df4.style.apply(highlight_min)"
   ]
  },
  {
   "cell_type": "code",
   "execution_count": 27,
   "metadata": {},
   "outputs": [
    {
     "data": {
      "text/html": [
       "<style  type=\"text/css\" >\n",
       "    #T_524bccd6_8c96_11ea_8d68_f45c89c033c9row0_col1 {\n",
       "            width:  10em;\n",
       "             height:  80%;\n",
       "            background:  linear-gradient(90deg,#d65f5f 8.6%, transparent 8.6%);\n",
       "        }    #T_524bccd6_8c96_11ea_8d68_f45c89c033c9row0_col2 {\n",
       "            width:  10em;\n",
       "             height:  80%;\n",
       "            background:  linear-gradient(90deg,#d65f5f 15.4%, transparent 15.4%);\n",
       "        }    #T_524bccd6_8c96_11ea_8d68_f45c89c033c9row1_col1 {\n",
       "            width:  10em;\n",
       "             height:  80%;\n",
       "            background:  linear-gradient(90deg,#d65f5f 12.9%, transparent 12.9%);\n",
       "        }    #T_524bccd6_8c96_11ea_8d68_f45c89c033c9row1_col2 {\n",
       "            width:  10em;\n",
       "             height:  80%;\n",
       "            background:  linear-gradient(90deg,#d65f5f 19.2%, transparent 19.2%);\n",
       "        }    #T_524bccd6_8c96_11ea_8d68_f45c89c033c9row2_col1 {\n",
       "            width:  10em;\n",
       "             height:  80%;\n",
       "            background:  linear-gradient(90deg,#d65f5f 10.3%, transparent 10.3%);\n",
       "        }    #T_524bccd6_8c96_11ea_8d68_f45c89c033c9row2_col2 {\n",
       "            width:  10em;\n",
       "             height:  80%;\n",
       "            background:  linear-gradient(90deg,#d65f5f 35.9%, transparent 35.9%);\n",
       "        }    #T_524bccd6_8c96_11ea_8d68_f45c89c033c9row3_col1 {\n",
       "            width:  10em;\n",
       "             height:  80%;\n",
       "            background:  linear-gradient(90deg,#d65f5f 7.2%, transparent 7.2%);\n",
       "        }    #T_524bccd6_8c96_11ea_8d68_f45c89c033c9row3_col2 {\n",
       "            width:  10em;\n",
       "             height:  80%;\n",
       "            background:  linear-gradient(90deg,#d65f5f 34.6%, transparent 34.6%);\n",
       "        }    #T_524bccd6_8c96_11ea_8d68_f45c89c033c9row4_col1 {\n",
       "            width:  10em;\n",
       "             height:  80%;\n",
       "            background:  linear-gradient(90deg,#d65f5f 7.4%, transparent 7.4%);\n",
       "        }    #T_524bccd6_8c96_11ea_8d68_f45c89c033c9row4_col2 {\n",
       "            width:  10em;\n",
       "             height:  80%;\n",
       "            background:  linear-gradient(90deg,#d65f5f 20.5%, transparent 20.5%);\n",
       "        }    #T_524bccd6_8c96_11ea_8d68_f45c89c033c9row5_col1 {\n",
       "            width:  10em;\n",
       "             height:  80%;\n",
       "            background:  linear-gradient(90deg,#d65f5f 12.0%, transparent 12.0%);\n",
       "        }    #T_524bccd6_8c96_11ea_8d68_f45c89c033c9row5_col2 {\n",
       "            width:  10em;\n",
       "             height:  80%;\n",
       "            background:  linear-gradient(90deg,#d65f5f 10.3%, transparent 10.3%);\n",
       "        }    #T_524bccd6_8c96_11ea_8d68_f45c89c033c9row6_col1 {\n",
       "            width:  10em;\n",
       "             height:  80%;\n",
       "            background:  linear-gradient(90deg,#d65f5f 15.5%, transparent 15.5%);\n",
       "        }    #T_524bccd6_8c96_11ea_8d68_f45c89c033c9row6_col2 {\n",
       "            width:  10em;\n",
       "             height:  80%;\n",
       "            background:  linear-gradient(90deg,#d65f5f 25.6%, transparent 25.6%);\n",
       "        }    #T_524bccd6_8c96_11ea_8d68_f45c89c033c9row7_col1 {\n",
       "            width:  10em;\n",
       "             height:  80%;\n",
       "            background:  linear-gradient(90deg,#d65f5f 13.0%, transparent 13.0%);\n",
       "        }    #T_524bccd6_8c96_11ea_8d68_f45c89c033c9row7_col2 {\n",
       "            width:  10em;\n",
       "             height:  80%;\n",
       "            background:  linear-gradient(90deg,#d65f5f 52.6%, transparent 52.6%);\n",
       "        }    #T_524bccd6_8c96_11ea_8d68_f45c89c033c9row8_col1 {\n",
       "            width:  10em;\n",
       "             height:  80%;\n",
       "            background:  linear-gradient(90deg,#d65f5f 16.4%, transparent 16.4%);\n",
       "        }    #T_524bccd6_8c96_11ea_8d68_f45c89c033c9row8_col2 {\n",
       "            width:  10em;\n",
       "             height:  80%;\n",
       "            background:  linear-gradient(90deg,#d65f5f 65.4%, transparent 65.4%);\n",
       "        }    #T_524bccd6_8c96_11ea_8d68_f45c89c033c9row9_col1 {\n",
       "            width:  10em;\n",
       "             height:  80%;\n",
       "            background:  linear-gradient(90deg,#d65f5f 14.7%, transparent 14.7%);\n",
       "        }    #T_524bccd6_8c96_11ea_8d68_f45c89c033c9row9_col2 {\n",
       "            width:  10em;\n",
       "             height:  80%;\n",
       "            background:  linear-gradient(90deg,#d65f5f 38.5%, transparent 38.5%);\n",
       "        }    #T_524bccd6_8c96_11ea_8d68_f45c89c033c9row10_col1 {\n",
       "            width:  10em;\n",
       "             height:  80%;\n",
       "            background:  linear-gradient(90deg,#d65f5f 11.2%, transparent 11.2%);\n",
       "        }    #T_524bccd6_8c96_11ea_8d68_f45c89c033c9row10_col2 {\n",
       "            width:  10em;\n",
       "             height:  80%;\n",
       "            background:  linear-gradient(90deg,#d65f5f 57.7%, transparent 57.7%);\n",
       "        }    #T_524bccd6_8c96_11ea_8d68_f45c89c033c9row11_col1 {\n",
       "            width:  10em;\n",
       "             height:  80%;\n",
       "            background:  linear-gradient(90deg,#d65f5f 12.1%, transparent 12.1%);\n",
       "        }    #T_524bccd6_8c96_11ea_8d68_f45c89c033c9row11_col2 {\n",
       "            width:  10em;\n",
       "             height:  80%;\n",
       "            background:  linear-gradient(90deg,#d65f5f 9.0%, transparent 9.0%);\n",
       "        }    #T_524bccd6_8c96_11ea_8d68_f45c89c033c9row12_col1 {\n",
       "            width:  10em;\n",
       "             height:  80%;\n",
       "            background:  linear-gradient(90deg,#d65f5f 24.2%, transparent 24.2%);\n",
       "        }    #T_524bccd6_8c96_11ea_8d68_f45c89c033c9row12_col2 {\n",
       "            width:  10em;\n",
       "             height:  80%;\n",
       "            background:  linear-gradient(90deg,#d65f5f 30.8%, transparent 30.8%);\n",
       "        }    #T_524bccd6_8c96_11ea_8d68_f45c89c033c9row13_col1 {\n",
       "            width:  10em;\n",
       "             height:  80%;\n",
       "            background:  linear-gradient(90deg,#d65f5f 23.4%, transparent 23.4%);\n",
       "        }    #T_524bccd6_8c96_11ea_8d68_f45c89c033c9row13_col2 {\n",
       "            width:  10em;\n",
       "             height:  80%;\n",
       "            background:  linear-gradient(90deg,#d65f5f 66.7%, transparent 66.7%);\n",
       "        }    #T_524bccd6_8c96_11ea_8d68_f45c89c033c9row14_col1 {\n",
       "            width:  10em;\n",
       "             height:  80%;\n",
       "            background:  linear-gradient(90deg,#d65f5f 24.9%, transparent 24.9%);\n",
       "        }    #T_524bccd6_8c96_11ea_8d68_f45c89c033c9row14_col2 {\n",
       "            width:  10em;\n",
       "             height:  80%;\n",
       "            background:  linear-gradient(90deg,#d65f5f 53.8%, transparent 53.8%);\n",
       "        }    #T_524bccd6_8c96_11ea_8d68_f45c89c033c9row15_col1 {\n",
       "            width:  10em;\n",
       "             height:  80%;\n",
       "            background:  linear-gradient(90deg,#d65f5f 22.7%, transparent 22.7%);\n",
       "        }    #T_524bccd6_8c96_11ea_8d68_f45c89c033c9row15_col2 {\n",
       "            width:  10em;\n",
       "             height:  80%;\n",
       "            background:  linear-gradient(90deg,#d65f5f 55.1%, transparent 55.1%);\n",
       "        }    #T_524bccd6_8c96_11ea_8d68_f45c89c033c9row16_col1 {\n",
       "            width:  10em;\n",
       "             height:  80%;\n",
       "            background:  linear-gradient(90deg,#d65f5f 41.9%, transparent 41.9%);\n",
       "        }    #T_524bccd6_8c96_11ea_8d68_f45c89c033c9row16_col2 {\n",
       "            width:  10em;\n",
       "             height:  80%;\n",
       "            background:  linear-gradient(90deg,#d65f5f 93.6%, transparent 93.6%);\n",
       "        }    #T_524bccd6_8c96_11ea_8d68_f45c89c033c9row17_col1 {\n",
       "            width:  10em;\n",
       "             height:  80%;\n",
       "            background:  linear-gradient(90deg,#d65f5f 18.3%, transparent 18.3%);\n",
       "        }    #T_524bccd6_8c96_11ea_8d68_f45c89c033c9row17_col2 {\n",
       "            width:  10em;\n",
       "             height:  80%;\n",
       "            background:  linear-gradient(90deg,#d65f5f 53.8%, transparent 53.8%);\n",
       "        }    #T_524bccd6_8c96_11ea_8d68_f45c89c033c9row18_col1 {\n",
       "            width:  10em;\n",
       "             height:  80%;\n",
       "            background:  linear-gradient(90deg,#d65f5f 20.1%, transparent 20.1%);\n",
       "        }    #T_524bccd6_8c96_11ea_8d68_f45c89c033c9row18_col2 {\n",
       "            width:  10em;\n",
       "             height:  80%;\n",
       "        }    #T_524bccd6_8c96_11ea_8d68_f45c89c033c9row19_col1 {\n",
       "            width:  10em;\n",
       "             height:  80%;\n",
       "            background:  linear-gradient(90deg,#d65f5f 28.8%, transparent 28.8%);\n",
       "        }    #T_524bccd6_8c96_11ea_8d68_f45c89c033c9row19_col2 {\n",
       "            width:  10em;\n",
       "             height:  80%;\n",
       "            background:  linear-gradient(90deg,#d65f5f 34.6%, transparent 34.6%);\n",
       "        }    #T_524bccd6_8c96_11ea_8d68_f45c89c033c9row20_col1 {\n",
       "            width:  10em;\n",
       "             height:  80%;\n",
       "            background:  linear-gradient(90deg,#d65f5f 42.6%, transparent 42.6%);\n",
       "        }    #T_524bccd6_8c96_11ea_8d68_f45c89c033c9row20_col2 {\n",
       "            width:  10em;\n",
       "             height:  80%;\n",
       "            background:  linear-gradient(90deg,#d65f5f 33.3%, transparent 33.3%);\n",
       "        }    #T_524bccd6_8c96_11ea_8d68_f45c89c033c9row21_col1 {\n",
       "            width:  10em;\n",
       "             height:  80%;\n",
       "            background:  linear-gradient(90deg,#d65f5f 52.7%, transparent 52.7%);\n",
       "        }    #T_524bccd6_8c96_11ea_8d68_f45c89c033c9row21_col2 {\n",
       "            width:  10em;\n",
       "             height:  80%;\n",
       "            background:  linear-gradient(90deg,#d65f5f 62.8%, transparent 62.8%);\n",
       "        }    #T_524bccd6_8c96_11ea_8d68_f45c89c033c9row22_col1 {\n",
       "            width:  10em;\n",
       "             height:  80%;\n",
       "            background:  linear-gradient(90deg,#d65f5f 56.5%, transparent 56.5%);\n",
       "        }    #T_524bccd6_8c96_11ea_8d68_f45c89c033c9row22_col2 {\n",
       "            width:  10em;\n",
       "             height:  80%;\n",
       "            background:  linear-gradient(90deg,#d65f5f 65.4%, transparent 65.4%);\n",
       "        }    #T_524bccd6_8c96_11ea_8d68_f45c89c033c9row23_col1 {\n",
       "            width:  10em;\n",
       "             height:  80%;\n",
       "            background:  linear-gradient(90deg,#d65f5f 39.3%, transparent 39.3%);\n",
       "        }    #T_524bccd6_8c96_11ea_8d68_f45c89c033c9row23_col2 {\n",
       "            width:  10em;\n",
       "             height:  80%;\n",
       "            background:  linear-gradient(90deg,#d65f5f 82.1%, transparent 82.1%);\n",
       "        }    #T_524bccd6_8c96_11ea_8d68_f45c89c033c9row24_col1 {\n",
       "            width:  10em;\n",
       "             height:  80%;\n",
       "            background:  linear-gradient(90deg,#d65f5f 42.4%, transparent 42.4%);\n",
       "        }    #T_524bccd6_8c96_11ea_8d68_f45c89c033c9row24_col2 {\n",
       "            width:  10em;\n",
       "             height:  80%;\n",
       "            background:  linear-gradient(90deg,#d65f5f 73.1%, transparent 73.1%);\n",
       "        }    #T_524bccd6_8c96_11ea_8d68_f45c89c033c9row25_col1 {\n",
       "            width:  10em;\n",
       "             height:  80%;\n",
       "            background:  linear-gradient(90deg,#d65f5f 39.7%, transparent 39.7%);\n",
       "        }    #T_524bccd6_8c96_11ea_8d68_f45c89c033c9row25_col2 {\n",
       "            width:  10em;\n",
       "             height:  80%;\n",
       "            background:  linear-gradient(90deg,#d65f5f 32.1%, transparent 32.1%);\n",
       "        }    #T_524bccd6_8c96_11ea_8d68_f45c89c033c9row26_col1 {\n",
       "            width:  10em;\n",
       "             height:  80%;\n",
       "            background:  linear-gradient(90deg,#d65f5f 59.1%, transparent 59.1%);\n",
       "        }    #T_524bccd6_8c96_11ea_8d68_f45c89c033c9row26_col2 {\n",
       "            width:  10em;\n",
       "             height:  80%;\n",
       "            background:  linear-gradient(90deg,#d65f5f 24.4%, transparent 24.4%);\n",
       "        }    #T_524bccd6_8c96_11ea_8d68_f45c89c033c9row27_col1 {\n",
       "            width:  10em;\n",
       "             height:  80%;\n",
       "            background:  linear-gradient(90deg,#d65f5f 70.1%, transparent 70.1%);\n",
       "        }    #T_524bccd6_8c96_11ea_8d68_f45c89c033c9row27_col2 {\n",
       "            width:  10em;\n",
       "             height:  80%;\n",
       "            background:  linear-gradient(90deg,#d65f5f 71.8%, transparent 71.8%);\n",
       "        }    #T_524bccd6_8c96_11ea_8d68_f45c89c033c9row28_col1 {\n",
       "            width:  10em;\n",
       "             height:  80%;\n",
       "            background:  linear-gradient(90deg,#d65f5f 74.3%, transparent 74.3%);\n",
       "        }    #T_524bccd6_8c96_11ea_8d68_f45c89c033c9row28_col2 {\n",
       "            width:  10em;\n",
       "             height:  80%;\n",
       "            background:  linear-gradient(90deg,#d65f5f 66.7%, transparent 66.7%);\n",
       "        }    #T_524bccd6_8c96_11ea_8d68_f45c89c033c9row29_col1 {\n",
       "            width:  10em;\n",
       "             height:  80%;\n",
       "            background:  linear-gradient(90deg,#d65f5f 80.9%, transparent 80.9%);\n",
       "        }    #T_524bccd6_8c96_11ea_8d68_f45c89c033c9row29_col2 {\n",
       "            width:  10em;\n",
       "             height:  80%;\n",
       "            background:  linear-gradient(90deg,#d65f5f 69.2%, transparent 69.2%);\n",
       "        }    #T_524bccd6_8c96_11ea_8d68_f45c89c033c9row30_col1 {\n",
       "            width:  10em;\n",
       "             height:  80%;\n",
       "            background:  linear-gradient(90deg,#d65f5f 69.2%, transparent 69.2%);\n",
       "        }    #T_524bccd6_8c96_11ea_8d68_f45c89c033c9row30_col2 {\n",
       "            width:  10em;\n",
       "             height:  80%;\n",
       "            background:  linear-gradient(90deg,#d65f5f 6.4%, transparent 6.4%);\n",
       "        }    #T_524bccd6_8c96_11ea_8d68_f45c89c033c9row31_col1 {\n",
       "            width:  10em;\n",
       "             height:  80%;\n",
       "            background:  linear-gradient(90deg,#d65f5f 50.1%, transparent 50.1%);\n",
       "        }    #T_524bccd6_8c96_11ea_8d68_f45c89c033c9row31_col2 {\n",
       "            width:  10em;\n",
       "             height:  80%;\n",
       "            background:  linear-gradient(90deg,#d65f5f 100.0%, transparent 100.0%);\n",
       "        }    #T_524bccd6_8c96_11ea_8d68_f45c89c033c9row32_col1 {\n",
       "            width:  10em;\n",
       "             height:  80%;\n",
       "            background:  linear-gradient(90deg,#d65f5f 81.9%, transparent 81.9%);\n",
       "        }    #T_524bccd6_8c96_11ea_8d68_f45c89c033c9row32_col2 {\n",
       "            width:  10em;\n",
       "             height:  80%;\n",
       "            background:  linear-gradient(90deg,#d65f5f 48.7%, transparent 48.7%);\n",
       "        }    #T_524bccd6_8c96_11ea_8d68_f45c89c033c9row33_col1 {\n",
       "            width:  10em;\n",
       "             height:  80%;\n",
       "            background:  linear-gradient(90deg,#d65f5f 80.7%, transparent 80.7%);\n",
       "        }    #T_524bccd6_8c96_11ea_8d68_f45c89c033c9row33_col2 {\n",
       "            width:  10em;\n",
       "             height:  80%;\n",
       "            background:  linear-gradient(90deg,#d65f5f 28.2%, transparent 28.2%);\n",
       "        }    #T_524bccd6_8c96_11ea_8d68_f45c89c033c9row34_col1 {\n",
       "            width:  10em;\n",
       "             height:  80%;\n",
       "            background:  linear-gradient(90deg,#d65f5f 75.4%, transparent 75.4%);\n",
       "        }    #T_524bccd6_8c96_11ea_8d68_f45c89c033c9row34_col2 {\n",
       "            width:  10em;\n",
       "             height:  80%;\n",
       "            background:  linear-gradient(90deg,#d65f5f 48.7%, transparent 48.7%);\n",
       "        }    #T_524bccd6_8c96_11ea_8d68_f45c89c033c9row35_col1 {\n",
       "            width:  10em;\n",
       "             height:  80%;\n",
       "            background:  linear-gradient(90deg,#d65f5f 100.0%, transparent 100.0%);\n",
       "        }    #T_524bccd6_8c96_11ea_8d68_f45c89c033c9row35_col2 {\n",
       "            width:  10em;\n",
       "             height:  80%;\n",
       "            background:  linear-gradient(90deg,#d65f5f 46.2%, transparent 46.2%);\n",
       "        }    #T_524bccd6_8c96_11ea_8d68_f45c89c033c9row36_col1 {\n",
       "            width:  10em;\n",
       "             height:  80%;\n",
       "            background:  linear-gradient(90deg,#d65f5f 71.9%, transparent 71.9%);\n",
       "        }    #T_524bccd6_8c96_11ea_8d68_f45c89c033c9row36_col2 {\n",
       "            width:  10em;\n",
       "             height:  80%;\n",
       "            background:  linear-gradient(90deg,#d65f5f 74.4%, transparent 74.4%);\n",
       "        }    #T_524bccd6_8c96_11ea_8d68_f45c89c033c9row37_col1 {\n",
       "            width:  10em;\n",
       "             height:  80%;\n",
       "            background:  linear-gradient(90deg,#d65f5f 66.5%, transparent 66.5%);\n",
       "        }    #T_524bccd6_8c96_11ea_8d68_f45c89c033c9row37_col2 {\n",
       "            width:  10em;\n",
       "             height:  80%;\n",
       "            background:  linear-gradient(90deg,#d65f5f 21.8%, transparent 21.8%);\n",
       "        }    #T_524bccd6_8c96_11ea_8d68_f45c89c033c9row38_col1 {\n",
       "            width:  10em;\n",
       "             height:  80%;\n",
       "            background:  linear-gradient(90deg,#d65f5f 55.7%, transparent 55.7%);\n",
       "        }    #T_524bccd6_8c96_11ea_8d68_f45c89c033c9row38_col2 {\n",
       "            width:  10em;\n",
       "             height:  80%;\n",
       "            background:  linear-gradient(90deg,#d65f5f 25.6%, transparent 25.6%);\n",
       "        }    #T_524bccd6_8c96_11ea_8d68_f45c89c033c9row39_col1 {\n",
       "            width:  10em;\n",
       "             height:  80%;\n",
       "            background:  linear-gradient(90deg,#d65f5f 75.1%, transparent 75.1%);\n",
       "        }    #T_524bccd6_8c96_11ea_8d68_f45c89c033c9row39_col2 {\n",
       "            width:  10em;\n",
       "             height:  80%;\n",
       "            background:  linear-gradient(90deg,#d65f5f 7.7%, transparent 7.7%);\n",
       "        }    #T_524bccd6_8c96_11ea_8d68_f45c89c033c9row40_col1 {\n",
       "            width:  10em;\n",
       "             height:  80%;\n",
       "            background:  linear-gradient(90deg,#d65f5f 64.3%, transparent 64.3%);\n",
       "        }    #T_524bccd6_8c96_11ea_8d68_f45c89c033c9row40_col2 {\n",
       "            width:  10em;\n",
       "             height:  80%;\n",
       "            background:  linear-gradient(90deg,#d65f5f 5.1%, transparent 5.1%);\n",
       "        }    #T_524bccd6_8c96_11ea_8d68_f45c89c033c9row41_col1 {\n",
       "            width:  10em;\n",
       "             height:  80%;\n",
       "            background:  linear-gradient(90deg,#d65f5f 89.0%, transparent 89.0%);\n",
       "        }    #T_524bccd6_8c96_11ea_8d68_f45c89c033c9row41_col2 {\n",
       "            width:  10em;\n",
       "             height:  80%;\n",
       "            background:  linear-gradient(90deg,#d65f5f 16.7%, transparent 16.7%);\n",
       "        }    #T_524bccd6_8c96_11ea_8d68_f45c89c033c9row42_col1 {\n",
       "            width:  10em;\n",
       "             height:  80%;\n",
       "            background:  linear-gradient(90deg,#d65f5f 68.5%, transparent 68.5%);\n",
       "        }    #T_524bccd6_8c96_11ea_8d68_f45c89c033c9row42_col2 {\n",
       "            width:  10em;\n",
       "             height:  80%;\n",
       "            background:  linear-gradient(90deg,#d65f5f 12.8%, transparent 12.8%);\n",
       "        }    #T_524bccd6_8c96_11ea_8d68_f45c89c033c9row43_col1 {\n",
       "            width:  10em;\n",
       "             height:  80%;\n",
       "            background:  linear-gradient(90deg,#d65f5f 63.2%, transparent 63.2%);\n",
       "        }    #T_524bccd6_8c96_11ea_8d68_f45c89c033c9row43_col2 {\n",
       "            width:  10em;\n",
       "             height:  80%;\n",
       "            background:  linear-gradient(90deg,#d65f5f 15.4%, transparent 15.4%);\n",
       "        }    #T_524bccd6_8c96_11ea_8d68_f45c89c033c9row44_col1 {\n",
       "            width:  10em;\n",
       "             height:  80%;\n",
       "            background:  linear-gradient(90deg,#d65f5f 25.9%, transparent 25.9%);\n",
       "        }    #T_524bccd6_8c96_11ea_8d68_f45c89c033c9row44_col2 {\n",
       "            width:  10em;\n",
       "             height:  80%;\n",
       "            background:  linear-gradient(90deg,#d65f5f 2.6%, transparent 2.6%);\n",
       "        }    #T_524bccd6_8c96_11ea_8d68_f45c89c033c9row45_col1 {\n",
       "            width:  10em;\n",
       "             height:  80%;\n",
       "            background:  linear-gradient(90deg,#d65f5f 32.4%, transparent 32.4%);\n",
       "        }    #T_524bccd6_8c96_11ea_8d68_f45c89c033c9row45_col2 {\n",
       "            width:  10em;\n",
       "             height:  80%;\n",
       "            background:  linear-gradient(90deg,#d65f5f 6.4%, transparent 6.4%);\n",
       "        }    #T_524bccd6_8c96_11ea_8d68_f45c89c033c9row46_col1 {\n",
       "            width:  10em;\n",
       "             height:  80%;\n",
       "        }    #T_524bccd6_8c96_11ea_8d68_f45c89c033c9row46_col2 {\n",
       "            width:  10em;\n",
       "             height:  80%;\n",
       "            background:  linear-gradient(90deg,#d65f5f 1.3%, transparent 1.3%);\n",
       "        }    #T_524bccd6_8c96_11ea_8d68_f45c89c033c9row47_col1 {\n",
       "            width:  10em;\n",
       "             height:  80%;\n",
       "            background:  linear-gradient(90deg,#d65f5f 60.5%, transparent 60.5%);\n",
       "        }    #T_524bccd6_8c96_11ea_8d68_f45c89c033c9row47_col2 {\n",
       "            width:  10em;\n",
       "             height:  80%;\n",
       "            background:  linear-gradient(90deg,#d65f5f 2.6%, transparent 2.6%);\n",
       "        }    #T_524bccd6_8c96_11ea_8d68_f45c89c033c9row48_col1 {\n",
       "            width:  10em;\n",
       "             height:  80%;\n",
       "            background:  linear-gradient(90deg,#d65f5f 17.1%, transparent 17.1%);\n",
       "        }    #T_524bccd6_8c96_11ea_8d68_f45c89c033c9row48_col2 {\n",
       "            width:  10em;\n",
       "             height:  80%;\n",
       "            background:  linear-gradient(90deg,#d65f5f 5.1%, transparent 5.1%);\n",
       "        }    #T_524bccd6_8c96_11ea_8d68_f45c89c033c9row49_col1 {\n",
       "            width:  10em;\n",
       "             height:  80%;\n",
       "            background:  linear-gradient(90deg,#d65f5f 19.2%, transparent 19.2%);\n",
       "        }    #T_524bccd6_8c96_11ea_8d68_f45c89c033c9row49_col2 {\n",
       "            width:  10em;\n",
       "             height:  80%;\n",
       "            background:  linear-gradient(90deg,#d65f5f 3.8%, transparent 3.8%);\n",
       "        }    #T_524bccd6_8c96_11ea_8d68_f45c89c033c9row50_col1 {\n",
       "            width:  10em;\n",
       "             height:  80%;\n",
       "            background:  linear-gradient(90deg,#d65f5f 15.3%, transparent 15.3%);\n",
       "        }    #T_524bccd6_8c96_11ea_8d68_f45c89c033c9row50_col2 {\n",
       "            width:  10em;\n",
       "             height:  80%;\n",
       "        }    #T_524bccd6_8c96_11ea_8d68_f45c89c033c9row51_col1 {\n",
       "            width:  10em;\n",
       "             height:  80%;\n",
       "            background:  linear-gradient(90deg,#d65f5f 10.9%, transparent 10.9%);\n",
       "        }    #T_524bccd6_8c96_11ea_8d68_f45c89c033c9row51_col2 {\n",
       "            width:  10em;\n",
       "             height:  80%;\n",
       "            background:  linear-gradient(90deg,#d65f5f 1.3%, transparent 1.3%);\n",
       "        }    #T_524bccd6_8c96_11ea_8d68_f45c89c033c9row52_col1 {\n",
       "            width:  10em;\n",
       "             height:  80%;\n",
       "            background:  linear-gradient(90deg,#d65f5f 8.3%, transparent 8.3%);\n",
       "        }    #T_524bccd6_8c96_11ea_8d68_f45c89c033c9row52_col2 {\n",
       "            width:  10em;\n",
       "             height:  80%;\n",
       "            background:  linear-gradient(90deg,#d65f5f 1.3%, transparent 1.3%);\n",
       "        }    #T_524bccd6_8c96_11ea_8d68_f45c89c033c9row53_col1 {\n",
       "            width:  10em;\n",
       "             height:  80%;\n",
       "            background:  linear-gradient(90deg,#d65f5f 3.0%, transparent 3.0%);\n",
       "        }    #T_524bccd6_8c96_11ea_8d68_f45c89c033c9row53_col2 {\n",
       "            width:  10em;\n",
       "             height:  80%;\n",
       "        }    #T_524bccd6_8c96_11ea_8d68_f45c89c033c9row54_col1 {\n",
       "            width:  10em;\n",
       "             height:  80%;\n",
       "            background:  linear-gradient(90deg,#d65f5f 4.9%, transparent 4.9%);\n",
       "        }    #T_524bccd6_8c96_11ea_8d68_f45c89c033c9row54_col2 {\n",
       "            width:  10em;\n",
       "             height:  80%;\n",
       "            background:  linear-gradient(90deg,#d65f5f 1.3%, transparent 1.3%);\n",
       "        }    #T_524bccd6_8c96_11ea_8d68_f45c89c033c9row55_col1 {\n",
       "            width:  10em;\n",
       "             height:  80%;\n",
       "            background:  linear-gradient(90deg,#d65f5f 4.0%, transparent 4.0%);\n",
       "        }    #T_524bccd6_8c96_11ea_8d68_f45c89c033c9row55_col2 {\n",
       "            width:  10em;\n",
       "             height:  80%;\n",
       "        }    #T_524bccd6_8c96_11ea_8d68_f45c89c033c9row56_col1 {\n",
       "            width:  10em;\n",
       "             height:  80%;\n",
       "            background:  linear-gradient(90deg,#d65f5f 8.8%, transparent 8.8%);\n",
       "        }    #T_524bccd6_8c96_11ea_8d68_f45c89c033c9row56_col2 {\n",
       "            width:  10em;\n",
       "             height:  80%;\n",
       "        }    #T_524bccd6_8c96_11ea_8d68_f45c89c033c9row57_col1 {\n",
       "            width:  10em;\n",
       "             height:  80%;\n",
       "            background:  linear-gradient(90deg,#d65f5f 2.2%, transparent 2.2%);\n",
       "        }    #T_524bccd6_8c96_11ea_8d68_f45c89c033c9row57_col2 {\n",
       "            width:  10em;\n",
       "             height:  80%;\n",
       "            background:  linear-gradient(90deg,#d65f5f 1.3%, transparent 1.3%);\n",
       "        }    #T_524bccd6_8c96_11ea_8d68_f45c89c033c9row58_col1 {\n",
       "            width:  10em;\n",
       "             height:  80%;\n",
       "            background:  linear-gradient(90deg,#d65f5f 1.4%, transparent 1.4%);\n",
       "        }    #T_524bccd6_8c96_11ea_8d68_f45c89c033c9row58_col2 {\n",
       "            width:  10em;\n",
       "             height:  80%;\n",
       "        }    #T_524bccd6_8c96_11ea_8d68_f45c89c033c9row59_col1 {\n",
       "            width:  10em;\n",
       "             height:  80%;\n",
       "            background:  linear-gradient(90deg,#d65f5f 0.5%, transparent 0.5%);\n",
       "        }    #T_524bccd6_8c96_11ea_8d68_f45c89c033c9row59_col2 {\n",
       "            width:  10em;\n",
       "             height:  80%;\n",
       "        }    #T_524bccd6_8c96_11ea_8d68_f45c89c033c9row60_col1 {\n",
       "            width:  10em;\n",
       "             height:  80%;\n",
       "            background:  linear-gradient(90deg,#d65f5f 0.4%, transparent 0.4%);\n",
       "        }    #T_524bccd6_8c96_11ea_8d68_f45c89c033c9row60_col2 {\n",
       "            width:  10em;\n",
       "             height:  80%;\n",
       "        }    #T_524bccd6_8c96_11ea_8d68_f45c89c033c9row61_col1 {\n",
       "            width:  10em;\n",
       "             height:  80%;\n",
       "            background:  linear-gradient(90deg,#d65f5f 0.4%, transparent 0.4%);\n",
       "        }    #T_524bccd6_8c96_11ea_8d68_f45c89c033c9row61_col2 {\n",
       "            width:  10em;\n",
       "             height:  80%;\n",
       "        }    #T_524bccd6_8c96_11ea_8d68_f45c89c033c9row62_col1 {\n",
       "            width:  10em;\n",
       "             height:  80%;\n",
       "            background:  linear-gradient(90deg,#d65f5f 0.4%, transparent 0.4%);\n",
       "        }    #T_524bccd6_8c96_11ea_8d68_f45c89c033c9row62_col2 {\n",
       "            width:  10em;\n",
       "             height:  80%;\n",
       "        }    #T_524bccd6_8c96_11ea_8d68_f45c89c033c9row63_col1 {\n",
       "            width:  10em;\n",
       "             height:  80%;\n",
       "            background:  linear-gradient(90deg,#d65f5f 0.3%, transparent 0.3%);\n",
       "        }    #T_524bccd6_8c96_11ea_8d68_f45c89c033c9row63_col2 {\n",
       "            width:  10em;\n",
       "             height:  80%;\n",
       "        }    #T_524bccd6_8c96_11ea_8d68_f45c89c033c9row64_col1 {\n",
       "            width:  10em;\n",
       "             height:  80%;\n",
       "            background:  linear-gradient(90deg,#d65f5f 0.5%, transparent 0.5%);\n",
       "        }    #T_524bccd6_8c96_11ea_8d68_f45c89c033c9row64_col2 {\n",
       "            width:  10em;\n",
       "             height:  80%;\n",
       "        }    #T_524bccd6_8c96_11ea_8d68_f45c89c033c9row65_col1 {\n",
       "            width:  10em;\n",
       "             height:  80%;\n",
       "            background:  linear-gradient(90deg,#d65f5f 0.1%, transparent 0.1%);\n",
       "        }    #T_524bccd6_8c96_11ea_8d68_f45c89c033c9row65_col2 {\n",
       "            width:  10em;\n",
       "             height:  80%;\n",
       "        }</style><table id=\"T_524bccd6_8c96_11ea_8d68_f45c89c033c9\" ><thead>    <tr>        <th class=\"blank level0\" ></th>        <th class=\"col_heading level0 col0\" >Date</th>        <th class=\"col_heading level0 col1\" >Cases</th>        <th class=\"col_heading level0 col2\" >Deaths</th>    </tr></thead><tbody>\n",
       "                <tr>\n",
       "                        <th id=\"T_524bccd6_8c96_11ea_8d68_f45c89c033c9level0_row0\" class=\"row_heading level0 row0\" >0</th>\n",
       "                        <td id=\"T_524bccd6_8c96_11ea_8d68_f45c89c033c9row0_col0\" class=\"data row0 col0\" >2020-05-02 00:00:00</td>\n",
       "                        <td id=\"T_524bccd6_8c96_11ea_8d68_f45c89c033c9row0_col1\" class=\"data row0 col1\" >119</td>\n",
       "                        <td id=\"T_524bccd6_8c96_11ea_8d68_f45c89c033c9row0_col2\" class=\"data row0 col2\" >12</td>\n",
       "            </tr>\n",
       "            <tr>\n",
       "                        <th id=\"T_524bccd6_8c96_11ea_8d68_f45c89c033c9level0_row1\" class=\"row_heading level0 row1\" >1</th>\n",
       "                        <td id=\"T_524bccd6_8c96_11ea_8d68_f45c89c033c9row1_col0\" class=\"data row1 col0\" >2020-05-01 00:00:00</td>\n",
       "                        <td id=\"T_524bccd6_8c96_11ea_8d68_f45c89c033c9row1_col1\" class=\"data row1 col1\" >179</td>\n",
       "                        <td id=\"T_524bccd6_8c96_11ea_8d68_f45c89c033c9row1_col2\" class=\"data row1 col2\" >15</td>\n",
       "            </tr>\n",
       "            <tr>\n",
       "                        <th id=\"T_524bccd6_8c96_11ea_8d68_f45c89c033c9level0_row2\" class=\"row_heading level0 row2\" >2</th>\n",
       "                        <td id=\"T_524bccd6_8c96_11ea_8d68_f45c89c033c9row2_col0\" class=\"data row2 col0\" >2020-04-30 00:00:00</td>\n",
       "                        <td id=\"T_524bccd6_8c96_11ea_8d68_f45c89c033c9row2_col1\" class=\"data row2 col1\" >143</td>\n",
       "                        <td id=\"T_524bccd6_8c96_11ea_8d68_f45c89c033c9row2_col2\" class=\"data row2 col2\" >28</td>\n",
       "            </tr>\n",
       "            <tr>\n",
       "                        <th id=\"T_524bccd6_8c96_11ea_8d68_f45c89c033c9level0_row3\" class=\"row_heading level0 row3\" >3</th>\n",
       "                        <td id=\"T_524bccd6_8c96_11ea_8d68_f45c89c033c9row3_col0\" class=\"data row3 col0\" >2020-04-29 00:00:00</td>\n",
       "                        <td id=\"T_524bccd6_8c96_11ea_8d68_f45c89c033c9row3_col1\" class=\"data row3 col1\" >100</td>\n",
       "                        <td id=\"T_524bccd6_8c96_11ea_8d68_f45c89c033c9row3_col2\" class=\"data row3 col2\" >27</td>\n",
       "            </tr>\n",
       "            <tr>\n",
       "                        <th id=\"T_524bccd6_8c96_11ea_8d68_f45c89c033c9level0_row4\" class=\"row_heading level0 row4\" >4</th>\n",
       "                        <td id=\"T_524bccd6_8c96_11ea_8d68_f45c89c033c9row4_col0\" class=\"data row4 col0\" >2020-04-28 00:00:00</td>\n",
       "                        <td id=\"T_524bccd6_8c96_11ea_8d68_f45c89c033c9row4_col1\" class=\"data row4 col1\" >103</td>\n",
       "                        <td id=\"T_524bccd6_8c96_11ea_8d68_f45c89c033c9row4_col2\" class=\"data row4 col2\" >16</td>\n",
       "            </tr>\n",
       "            <tr>\n",
       "                        <th id=\"T_524bccd6_8c96_11ea_8d68_f45c89c033c9level0_row5\" class=\"row_heading level0 row5\" >5</th>\n",
       "                        <td id=\"T_524bccd6_8c96_11ea_8d68_f45c89c033c9row5_col0\" class=\"data row5 col0\" >2020-04-27 00:00:00</td>\n",
       "                        <td id=\"T_524bccd6_8c96_11ea_8d68_f45c89c033c9row5_col1\" class=\"data row5 col1\" >167</td>\n",
       "                        <td id=\"T_524bccd6_8c96_11ea_8d68_f45c89c033c9row5_col2\" class=\"data row5 col2\" >8</td>\n",
       "            </tr>\n",
       "            <tr>\n",
       "                        <th id=\"T_524bccd6_8c96_11ea_8d68_f45c89c033c9level0_row6\" class=\"row_heading level0 row6\" >6</th>\n",
       "                        <td id=\"T_524bccd6_8c96_11ea_8d68_f45c89c033c9row6_col0\" class=\"data row6 col0\" >2020-04-26 00:00:00</td>\n",
       "                        <td id=\"T_524bccd6_8c96_11ea_8d68_f45c89c033c9row6_col1\" class=\"data row6 col1\" >216</td>\n",
       "                        <td id=\"T_524bccd6_8c96_11ea_8d68_f45c89c033c9row6_col2\" class=\"data row6 col2\" >20</td>\n",
       "            </tr>\n",
       "            <tr>\n",
       "                        <th id=\"T_524bccd6_8c96_11ea_8d68_f45c89c033c9level0_row7\" class=\"row_heading level0 row7\" >7</th>\n",
       "                        <td id=\"T_524bccd6_8c96_11ea_8d68_f45c89c033c9row7_col0\" class=\"data row7 col0\" >2020-04-25 00:00:00</td>\n",
       "                        <td id=\"T_524bccd6_8c96_11ea_8d68_f45c89c033c9row7_col1\" class=\"data row7 col1\" >181</td>\n",
       "                        <td id=\"T_524bccd6_8c96_11ea_8d68_f45c89c033c9row7_col2\" class=\"data row7 col2\" >41</td>\n",
       "            </tr>\n",
       "            <tr>\n",
       "                        <th id=\"T_524bccd6_8c96_11ea_8d68_f45c89c033c9level0_row8\" class=\"row_heading level0 row8\" >8</th>\n",
       "                        <td id=\"T_524bccd6_8c96_11ea_8d68_f45c89c033c9row8_col0\" class=\"data row8 col0\" >2020-04-24 00:00:00</td>\n",
       "                        <td id=\"T_524bccd6_8c96_11ea_8d68_f45c89c033c9row8_col1\" class=\"data row8 col1\" >228</td>\n",
       "                        <td id=\"T_524bccd6_8c96_11ea_8d68_f45c89c033c9row8_col2\" class=\"data row8 col2\" >51</td>\n",
       "            </tr>\n",
       "            <tr>\n",
       "                        <th id=\"T_524bccd6_8c96_11ea_8d68_f45c89c033c9level0_row9\" class=\"row_heading level0 row9\" >9</th>\n",
       "                        <td id=\"T_524bccd6_8c96_11ea_8d68_f45c89c033c9row9_col0\" class=\"data row9 col0\" >2020-04-23 00:00:00</td>\n",
       "                        <td id=\"T_524bccd6_8c96_11ea_8d68_f45c89c033c9row9_col1\" class=\"data row9 col1\" >205</td>\n",
       "                        <td id=\"T_524bccd6_8c96_11ea_8d68_f45c89c033c9row9_col2\" class=\"data row9 col2\" >30</td>\n",
       "            </tr>\n",
       "            <tr>\n",
       "                        <th id=\"T_524bccd6_8c96_11ea_8d68_f45c89c033c9level0_row10\" class=\"row_heading level0 row10\" >10</th>\n",
       "                        <td id=\"T_524bccd6_8c96_11ea_8d68_f45c89c033c9row10_col0\" class=\"data row10 col0\" >2020-04-22 00:00:00</td>\n",
       "                        <td id=\"T_524bccd6_8c96_11ea_8d68_f45c89c033c9row10_col1\" class=\"data row10 col1\" >155</td>\n",
       "                        <td id=\"T_524bccd6_8c96_11ea_8d68_f45c89c033c9row10_col2\" class=\"data row10 col2\" >45</td>\n",
       "            </tr>\n",
       "            <tr>\n",
       "                        <th id=\"T_524bccd6_8c96_11ea_8d68_f45c89c033c9level0_row11\" class=\"row_heading level0 row11\" >11</th>\n",
       "                        <td id=\"T_524bccd6_8c96_11ea_8d68_f45c89c033c9row11_col0\" class=\"data row11 col0\" >2020-04-21 00:00:00</td>\n",
       "                        <td id=\"T_524bccd6_8c96_11ea_8d68_f45c89c033c9row11_col1\" class=\"data row11 col1\" >168</td>\n",
       "                        <td id=\"T_524bccd6_8c96_11ea_8d68_f45c89c033c9row11_col2\" class=\"data row11 col2\" >7</td>\n",
       "            </tr>\n",
       "            <tr>\n",
       "                        <th id=\"T_524bccd6_8c96_11ea_8d68_f45c89c033c9level0_row12\" class=\"row_heading level0 row12\" >12</th>\n",
       "                        <td id=\"T_524bccd6_8c96_11ea_8d68_f45c89c033c9row12_col0\" class=\"data row12 col0\" >2020-04-20 00:00:00</td>\n",
       "                        <td id=\"T_524bccd6_8c96_11ea_8d68_f45c89c033c9row12_col1\" class=\"data row12 col1\" >336</td>\n",
       "                        <td id=\"T_524bccd6_8c96_11ea_8d68_f45c89c033c9row12_col2\" class=\"data row12 col2\" >24</td>\n",
       "            </tr>\n",
       "            <tr>\n",
       "                        <th id=\"T_524bccd6_8c96_11ea_8d68_f45c89c033c9level0_row13\" class=\"row_heading level0 row13\" >13</th>\n",
       "                        <td id=\"T_524bccd6_8c96_11ea_8d68_f45c89c033c9row13_col0\" class=\"data row13 col0\" >2020-04-19 00:00:00</td>\n",
       "                        <td id=\"T_524bccd6_8c96_11ea_8d68_f45c89c033c9row13_col1\" class=\"data row13 col1\" >325</td>\n",
       "                        <td id=\"T_524bccd6_8c96_11ea_8d68_f45c89c033c9row13_col2\" class=\"data row13 col2\" >52</td>\n",
       "            </tr>\n",
       "            <tr>\n",
       "                        <th id=\"T_524bccd6_8c96_11ea_8d68_f45c89c033c9level0_row14\" class=\"row_heading level0 row14\" >14</th>\n",
       "                        <td id=\"T_524bccd6_8c96_11ea_8d68_f45c89c033c9row14_col0\" class=\"data row14 col0\" >2020-04-18 00:00:00</td>\n",
       "                        <td id=\"T_524bccd6_8c96_11ea_8d68_f45c89c033c9row14_col1\" class=\"data row14 col1\" >346</td>\n",
       "                        <td id=\"T_524bccd6_8c96_11ea_8d68_f45c89c033c9row14_col2\" class=\"data row14 col2\" >42</td>\n",
       "            </tr>\n",
       "            <tr>\n",
       "                        <th id=\"T_524bccd6_8c96_11ea_8d68_f45c89c033c9level0_row15\" class=\"row_heading level0 row15\" >15</th>\n",
       "                        <td id=\"T_524bccd6_8c96_11ea_8d68_f45c89c033c9row15_col0\" class=\"data row15 col0\" >2020-04-17 00:00:00</td>\n",
       "                        <td id=\"T_524bccd6_8c96_11ea_8d68_f45c89c033c9row15_col1\" class=\"data row15 col1\" >315</td>\n",
       "                        <td id=\"T_524bccd6_8c96_11ea_8d68_f45c89c033c9row15_col2\" class=\"data row15 col2\" >43</td>\n",
       "            </tr>\n",
       "            <tr>\n",
       "                        <th id=\"T_524bccd6_8c96_11ea_8d68_f45c89c033c9level0_row16\" class=\"row_heading level0 row16\" >16</th>\n",
       "                        <td id=\"T_524bccd6_8c96_11ea_8d68_f45c89c033c9row16_col0\" class=\"data row16 col0\" >2020-04-16 00:00:00</td>\n",
       "                        <td id=\"T_524bccd6_8c96_11ea_8d68_f45c89c033c9row16_col1\" class=\"data row16 col1\" >583</td>\n",
       "                        <td id=\"T_524bccd6_8c96_11ea_8d68_f45c89c033c9row16_col2\" class=\"data row16 col2\" >73</td>\n",
       "            </tr>\n",
       "            <tr>\n",
       "                        <th id=\"T_524bccd6_8c96_11ea_8d68_f45c89c033c9level0_row17\" class=\"row_heading level0 row17\" >17</th>\n",
       "                        <td id=\"T_524bccd6_8c96_11ea_8d68_f45c89c033c9row17_col0\" class=\"data row17 col0\" >2020-04-15 00:00:00</td>\n",
       "                        <td id=\"T_524bccd6_8c96_11ea_8d68_f45c89c033c9row17_col1\" class=\"data row17 col1\" >254</td>\n",
       "                        <td id=\"T_524bccd6_8c96_11ea_8d68_f45c89c033c9row17_col2\" class=\"data row17 col2\" >42</td>\n",
       "            </tr>\n",
       "            <tr>\n",
       "                        <th id=\"T_524bccd6_8c96_11ea_8d68_f45c89c033c9level0_row18\" class=\"row_heading level0 row18\" >18</th>\n",
       "                        <td id=\"T_524bccd6_8c96_11ea_8d68_f45c89c033c9row18_col0\" class=\"data row18 col0\" >2020-04-14 00:00:00</td>\n",
       "                        <td id=\"T_524bccd6_8c96_11ea_8d68_f45c89c033c9row18_col1\" class=\"data row18 col1\" >279</td>\n",
       "                        <td id=\"T_524bccd6_8c96_11ea_8d68_f45c89c033c9row18_col2\" class=\"data row18 col2\" >0</td>\n",
       "            </tr>\n",
       "            <tr>\n",
       "                        <th id=\"T_524bccd6_8c96_11ea_8d68_f45c89c033c9level0_row19\" class=\"row_heading level0 row19\" >19</th>\n",
       "                        <td id=\"T_524bccd6_8c96_11ea_8d68_f45c89c033c9row19_col0\" class=\"data row19 col0\" >2020-04-13 00:00:00</td>\n",
       "                        <td id=\"T_524bccd6_8c96_11ea_8d68_f45c89c033c9row19_col1\" class=\"data row19 col1\" >400</td>\n",
       "                        <td id=\"T_524bccd6_8c96_11ea_8d68_f45c89c033c9row19_col2\" class=\"data row19 col2\" >27</td>\n",
       "            </tr>\n",
       "            <tr>\n",
       "                        <th id=\"T_524bccd6_8c96_11ea_8d68_f45c89c033c9level0_row20\" class=\"row_heading level0 row20\" >20</th>\n",
       "                        <td id=\"T_524bccd6_8c96_11ea_8d68_f45c89c033c9row20_col0\" class=\"data row20 col0\" >2020-04-12 00:00:00</td>\n",
       "                        <td id=\"T_524bccd6_8c96_11ea_8d68_f45c89c033c9row20_col1\" class=\"data row20 col1\" >592</td>\n",
       "                        <td id=\"T_524bccd6_8c96_11ea_8d68_f45c89c033c9row20_col2\" class=\"data row20 col2\" >26</td>\n",
       "            </tr>\n",
       "            <tr>\n",
       "                        <th id=\"T_524bccd6_8c96_11ea_8d68_f45c89c033c9level0_row21\" class=\"row_heading level0 row21\" >21</th>\n",
       "                        <td id=\"T_524bccd6_8c96_11ea_8d68_f45c89c033c9row21_col0\" class=\"data row21 col0\" >2020-04-11 00:00:00</td>\n",
       "                        <td id=\"T_524bccd6_8c96_11ea_8d68_f45c89c033c9row21_col1\" class=\"data row21 col1\" >733</td>\n",
       "                        <td id=\"T_524bccd6_8c96_11ea_8d68_f45c89c033c9row21_col2\" class=\"data row21 col2\" >49</td>\n",
       "            </tr>\n",
       "            <tr>\n",
       "                        <th id=\"T_524bccd6_8c96_11ea_8d68_f45c89c033c9level0_row22\" class=\"row_heading level0 row22\" >22</th>\n",
       "                        <td id=\"T_524bccd6_8c96_11ea_8d68_f45c89c033c9row22_col0\" class=\"data row22 col0\" >2020-04-10 00:00:00</td>\n",
       "                        <td id=\"T_524bccd6_8c96_11ea_8d68_f45c89c033c9row22_col1\" class=\"data row22 col1\" >785</td>\n",
       "                        <td id=\"T_524bccd6_8c96_11ea_8d68_f45c89c033c9row22_col2\" class=\"data row22 col2\" >51</td>\n",
       "            </tr>\n",
       "            <tr>\n",
       "                        <th id=\"T_524bccd6_8c96_11ea_8d68_f45c89c033c9level0_row23\" class=\"row_heading level0 row23\" >23</th>\n",
       "                        <td id=\"T_524bccd6_8c96_11ea_8d68_f45c89c033c9row23_col0\" class=\"data row23 col0\" >2020-04-09 00:00:00</td>\n",
       "                        <td id=\"T_524bccd6_8c96_11ea_8d68_f45c89c033c9row23_col1\" class=\"data row23 col1\" >546</td>\n",
       "                        <td id=\"T_524bccd6_8c96_11ea_8d68_f45c89c033c9row23_col2\" class=\"data row23 col2\" >64</td>\n",
       "            </tr>\n",
       "            <tr>\n",
       "                        <th id=\"T_524bccd6_8c96_11ea_8d68_f45c89c033c9level0_row24\" class=\"row_heading level0 row24\" >24</th>\n",
       "                        <td id=\"T_524bccd6_8c96_11ea_8d68_f45c89c033c9row24_col0\" class=\"data row24 col0\" >2020-04-08 00:00:00</td>\n",
       "                        <td id=\"T_524bccd6_8c96_11ea_8d68_f45c89c033c9row24_col1\" class=\"data row24 col1\" >590</td>\n",
       "                        <td id=\"T_524bccd6_8c96_11ea_8d68_f45c89c033c9row24_col2\" class=\"data row24 col2\" >57</td>\n",
       "            </tr>\n",
       "            <tr>\n",
       "                        <th id=\"T_524bccd6_8c96_11ea_8d68_f45c89c033c9level0_row25\" class=\"row_heading level0 row25\" >25</th>\n",
       "                        <td id=\"T_524bccd6_8c96_11ea_8d68_f45c89c033c9row25_col0\" class=\"data row25 col0\" >2020-04-07 00:00:00</td>\n",
       "                        <td id=\"T_524bccd6_8c96_11ea_8d68_f45c89c033c9row25_col1\" class=\"data row25 col1\" >552</td>\n",
       "                        <td id=\"T_524bccd6_8c96_11ea_8d68_f45c89c033c9row25_col2\" class=\"data row25 col2\" >25</td>\n",
       "            </tr>\n",
       "            <tr>\n",
       "                        <th id=\"T_524bccd6_8c96_11ea_8d68_f45c89c033c9level0_row26\" class=\"row_heading level0 row26\" >26</th>\n",
       "                        <td id=\"T_524bccd6_8c96_11ea_8d68_f45c89c033c9row26_col0\" class=\"data row26 col0\" >2020-04-06 00:00:00</td>\n",
       "                        <td id=\"T_524bccd6_8c96_11ea_8d68_f45c89c033c9row26_col1\" class=\"data row26 col1\" >821</td>\n",
       "                        <td id=\"T_524bccd6_8c96_11ea_8d68_f45c89c033c9row26_col2\" class=\"data row26 col2\" >19</td>\n",
       "            </tr>\n",
       "            <tr>\n",
       "                        <th id=\"T_524bccd6_8c96_11ea_8d68_f45c89c033c9level0_row27\" class=\"row_heading level0 row27\" >27</th>\n",
       "                        <td id=\"T_524bccd6_8c96_11ea_8d68_f45c89c033c9row27_col0\" class=\"data row27 col0\" >2020-04-05 00:00:00</td>\n",
       "                        <td id=\"T_524bccd6_8c96_11ea_8d68_f45c89c033c9row27_col1\" class=\"data row27 col1\" >974</td>\n",
       "                        <td id=\"T_524bccd6_8c96_11ea_8d68_f45c89c033c9row27_col2\" class=\"data row27 col2\" >56</td>\n",
       "            </tr>\n",
       "            <tr>\n",
       "                        <th id=\"T_524bccd6_8c96_11ea_8d68_f45c89c033c9level0_row28\" class=\"row_heading level0 row28\" >28</th>\n",
       "                        <td id=\"T_524bccd6_8c96_11ea_8d68_f45c89c033c9row28_col0\" class=\"data row28 col0\" >2020-04-04 00:00:00</td>\n",
       "                        <td id=\"T_524bccd6_8c96_11ea_8d68_f45c89c033c9row28_col1\" class=\"data row28 col1\" >1033</td>\n",
       "                        <td id=\"T_524bccd6_8c96_11ea_8d68_f45c89c033c9row28_col2\" class=\"data row28 col2\" >52</td>\n",
       "            </tr>\n",
       "            <tr>\n",
       "                        <th id=\"T_524bccd6_8c96_11ea_8d68_f45c89c033c9level0_row29\" class=\"row_heading level0 row29\" >29</th>\n",
       "                        <td id=\"T_524bccd6_8c96_11ea_8d68_f45c89c033c9row29_col0\" class=\"data row29 col0\" >2020-04-03 00:00:00</td>\n",
       "                        <td id=\"T_524bccd6_8c96_11ea_8d68_f45c89c033c9row29_col1\" class=\"data row29 col1\" >1124</td>\n",
       "                        <td id=\"T_524bccd6_8c96_11ea_8d68_f45c89c033c9row29_col2\" class=\"data row29 col2\" >54</td>\n",
       "            </tr>\n",
       "            <tr>\n",
       "                        <th id=\"T_524bccd6_8c96_11ea_8d68_f45c89c033c9level0_row30\" class=\"row_heading level0 row30\" >30</th>\n",
       "                        <td id=\"T_524bccd6_8c96_11ea_8d68_f45c89c033c9row30_col0\" class=\"data row30 col0\" >2020-04-02 00:00:00</td>\n",
       "                        <td id=\"T_524bccd6_8c96_11ea_8d68_f45c89c033c9row30_col1\" class=\"data row30 col1\" >962</td>\n",
       "                        <td id=\"T_524bccd6_8c96_11ea_8d68_f45c89c033c9row30_col2\" class=\"data row30 col2\" >5</td>\n",
       "            </tr>\n",
       "            <tr>\n",
       "                        <th id=\"T_524bccd6_8c96_11ea_8d68_f45c89c033c9level0_row31\" class=\"row_heading level0 row31\" >31</th>\n",
       "                        <td id=\"T_524bccd6_8c96_11ea_8d68_f45c89c033c9row31_col0\" class=\"data row31 col0\" >2020-04-01 00:00:00</td>\n",
       "                        <td id=\"T_524bccd6_8c96_11ea_8d68_f45c89c033c9row31_col1\" class=\"data row31 col1\" >696</td>\n",
       "                        <td id=\"T_524bccd6_8c96_11ea_8d68_f45c89c033c9row31_col2\" class=\"data row31 col2\" >78</td>\n",
       "            </tr>\n",
       "            <tr>\n",
       "                        <th id=\"T_524bccd6_8c96_11ea_8d68_f45c89c033c9level0_row32\" class=\"row_heading level0 row32\" >32</th>\n",
       "                        <td id=\"T_524bccd6_8c96_11ea_8d68_f45c89c033c9row32_col0\" class=\"data row32 col0\" >2020-03-31 00:00:00</td>\n",
       "                        <td id=\"T_524bccd6_8c96_11ea_8d68_f45c89c033c9row32_col1\" class=\"data row32 col1\" >1138</td>\n",
       "                        <td id=\"T_524bccd6_8c96_11ea_8d68_f45c89c033c9row32_col2\" class=\"data row32 col2\" >38</td>\n",
       "            </tr>\n",
       "            <tr>\n",
       "                        <th id=\"T_524bccd6_8c96_11ea_8d68_f45c89c033c9level0_row33\" class=\"row_heading level0 row33\" >33</th>\n",
       "                        <td id=\"T_524bccd6_8c96_11ea_8d68_f45c89c033c9row33_col0\" class=\"data row33 col0\" >2020-03-30 00:00:00</td>\n",
       "                        <td id=\"T_524bccd6_8c96_11ea_8d68_f45c89c033c9row33_col1\" class=\"data row33 col1\" >1122</td>\n",
       "                        <td id=\"T_524bccd6_8c96_11ea_8d68_f45c89c033c9row33_col2\" class=\"data row33 col2\" >22</td>\n",
       "            </tr>\n",
       "            <tr>\n",
       "                        <th id=\"T_524bccd6_8c96_11ea_8d68_f45c89c033c9level0_row34\" class=\"row_heading level0 row34\" >34</th>\n",
       "                        <td id=\"T_524bccd6_8c96_11ea_8d68_f45c89c033c9row34_col0\" class=\"data row34 col0\" >2020-03-29 00:00:00</td>\n",
       "                        <td id=\"T_524bccd6_8c96_11ea_8d68_f45c89c033c9row34_col1\" class=\"data row34 col1\" >1048</td>\n",
       "                        <td id=\"T_524bccd6_8c96_11ea_8d68_f45c89c033c9row34_col2\" class=\"data row34 col2\" >38</td>\n",
       "            </tr>\n",
       "            <tr>\n",
       "                        <th id=\"T_524bccd6_8c96_11ea_8d68_f45c89c033c9level0_row35\" class=\"row_heading level0 row35\" >35</th>\n",
       "                        <td id=\"T_524bccd6_8c96_11ea_8d68_f45c89c033c9row35_col0\" class=\"data row35 col0\" >2020-03-28 00:00:00</td>\n",
       "                        <td id=\"T_524bccd6_8c96_11ea_8d68_f45c89c033c9row35_col1\" class=\"data row35 col1\" >1390</td>\n",
       "                        <td id=\"T_524bccd6_8c96_11ea_8d68_f45c89c033c9row35_col2\" class=\"data row35 col2\" >36</td>\n",
       "            </tr>\n",
       "            <tr>\n",
       "                        <th id=\"T_524bccd6_8c96_11ea_8d68_f45c89c033c9level0_row36\" class=\"row_heading level0 row36\" >36</th>\n",
       "                        <td id=\"T_524bccd6_8c96_11ea_8d68_f45c89c033c9row36_col0\" class=\"data row36 col0\" >2020-03-27 00:00:00</td>\n",
       "                        <td id=\"T_524bccd6_8c96_11ea_8d68_f45c89c033c9row36_col1\" class=\"data row36 col1\" >1000</td>\n",
       "                        <td id=\"T_524bccd6_8c96_11ea_8d68_f45c89c033c9row36_col2\" class=\"data row36 col2\" >58</td>\n",
       "            </tr>\n",
       "            <tr>\n",
       "                        <th id=\"T_524bccd6_8c96_11ea_8d68_f45c89c033c9level0_row37\" class=\"row_heading level0 row37\" >37</th>\n",
       "                        <td id=\"T_524bccd6_8c96_11ea_8d68_f45c89c033c9row37_col0\" class=\"data row37 col0\" >2020-03-26 00:00:00</td>\n",
       "                        <td id=\"T_524bccd6_8c96_11ea_8d68_f45c89c033c9row37_col1\" class=\"data row37 col1\" >925</td>\n",
       "                        <td id=\"T_524bccd6_8c96_11ea_8d68_f45c89c033c9row37_col2\" class=\"data row37 col2\" >17</td>\n",
       "            </tr>\n",
       "            <tr>\n",
       "                        <th id=\"T_524bccd6_8c96_11ea_8d68_f45c89c033c9level0_row38\" class=\"row_heading level0 row38\" >38</th>\n",
       "                        <td id=\"T_524bccd6_8c96_11ea_8d68_f45c89c033c9row38_col0\" class=\"data row38 col0\" >2020-03-25 00:00:00</td>\n",
       "                        <td id=\"T_524bccd6_8c96_11ea_8d68_f45c89c033c9row38_col1\" class=\"data row38 col1\" >774</td>\n",
       "                        <td id=\"T_524bccd6_8c96_11ea_8d68_f45c89c033c9row38_col2\" class=\"data row38 col2\" >20</td>\n",
       "            </tr>\n",
       "            <tr>\n",
       "                        <th id=\"T_524bccd6_8c96_11ea_8d68_f45c89c033c9level0_row39\" class=\"row_heading level0 row39\" >39</th>\n",
       "                        <td id=\"T_524bccd6_8c96_11ea_8d68_f45c89c033c9row39_col0\" class=\"data row39 col0\" >2020-03-24 00:00:00</td>\n",
       "                        <td id=\"T_524bccd6_8c96_11ea_8d68_f45c89c033c9row39_col1\" class=\"data row39 col1\" >1044</td>\n",
       "                        <td id=\"T_524bccd6_8c96_11ea_8d68_f45c89c033c9row39_col2\" class=\"data row39 col2\" >6</td>\n",
       "            </tr>\n",
       "            <tr>\n",
       "                        <th id=\"T_524bccd6_8c96_11ea_8d68_f45c89c033c9level0_row40\" class=\"row_heading level0 row40\" >40</th>\n",
       "                        <td id=\"T_524bccd6_8c96_11ea_8d68_f45c89c033c9row40_col0\" class=\"data row40 col0\" >2020-03-23 00:00:00</td>\n",
       "                        <td id=\"T_524bccd6_8c96_11ea_8d68_f45c89c033c9row40_col1\" class=\"data row40 col1\" >894</td>\n",
       "                        <td id=\"T_524bccd6_8c96_11ea_8d68_f45c89c033c9row40_col2\" class=\"data row40 col2\" >4</td>\n",
       "            </tr>\n",
       "            <tr>\n",
       "                        <th id=\"T_524bccd6_8c96_11ea_8d68_f45c89c033c9level0_row41\" class=\"row_heading level0 row41\" >41</th>\n",
       "                        <td id=\"T_524bccd6_8c96_11ea_8d68_f45c89c033c9row41_col0\" class=\"data row41 col0\" >2020-03-22 00:00:00</td>\n",
       "                        <td id=\"T_524bccd6_8c96_11ea_8d68_f45c89c033c9row41_col1\" class=\"data row41 col1\" >1237</td>\n",
       "                        <td id=\"T_524bccd6_8c96_11ea_8d68_f45c89c033c9row41_col2\" class=\"data row41 col2\" >13</td>\n",
       "            </tr>\n",
       "            <tr>\n",
       "                        <th id=\"T_524bccd6_8c96_11ea_8d68_f45c89c033c9level0_row42\" class=\"row_heading level0 row42\" >42</th>\n",
       "                        <td id=\"T_524bccd6_8c96_11ea_8d68_f45c89c033c9row42_col0\" class=\"data row42 col0\" >2020-03-21 00:00:00</td>\n",
       "                        <td id=\"T_524bccd6_8c96_11ea_8d68_f45c89c033c9row42_col1\" class=\"data row42 col1\" >952</td>\n",
       "                        <td id=\"T_524bccd6_8c96_11ea_8d68_f45c89c033c9row42_col2\" class=\"data row42 col2\" >10</td>\n",
       "            </tr>\n",
       "            <tr>\n",
       "                        <th id=\"T_524bccd6_8c96_11ea_8d68_f45c89c033c9level0_row43\" class=\"row_heading level0 row43\" >43</th>\n",
       "                        <td id=\"T_524bccd6_8c96_11ea_8d68_f45c89c033c9row43_col0\" class=\"data row43 col0\" >2020-03-20 00:00:00</td>\n",
       "                        <td id=\"T_524bccd6_8c96_11ea_8d68_f45c89c033c9row43_col1\" class=\"data row43 col1\" >878</td>\n",
       "                        <td id=\"T_524bccd6_8c96_11ea_8d68_f45c89c033c9row43_col2\" class=\"data row43 col2\" >12</td>\n",
       "            </tr>\n",
       "            <tr>\n",
       "                        <th id=\"T_524bccd6_8c96_11ea_8d68_f45c89c033c9level0_row44\" class=\"row_heading level0 row44\" >44</th>\n",
       "                        <td id=\"T_524bccd6_8c96_11ea_8d68_f45c89c033c9row44_col0\" class=\"data row44 col0\" >2020-03-19 00:00:00</td>\n",
       "                        <td id=\"T_524bccd6_8c96_11ea_8d68_f45c89c033c9row44_col1\" class=\"data row44 col1\" >360</td>\n",
       "                        <td id=\"T_524bccd6_8c96_11ea_8d68_f45c89c033c9row44_col2\" class=\"data row44 col2\" >2</td>\n",
       "            </tr>\n",
       "            <tr>\n",
       "                        <th id=\"T_524bccd6_8c96_11ea_8d68_f45c89c033c9level0_row45\" class=\"row_heading level0 row45\" >45</th>\n",
       "                        <td id=\"T_524bccd6_8c96_11ea_8d68_f45c89c033c9row45_col0\" class=\"data row45 col0\" >2020-03-18 00:00:00</td>\n",
       "                        <td id=\"T_524bccd6_8c96_11ea_8d68_f45c89c033c9row45_col1\" class=\"data row45 col1\" >450</td>\n",
       "                        <td id=\"T_524bccd6_8c96_11ea_8d68_f45c89c033c9row45_col2\" class=\"data row45 col2\" >5</td>\n",
       "            </tr>\n",
       "            <tr>\n",
       "                        <th id=\"T_524bccd6_8c96_11ea_8d68_f45c89c033c9level0_row46\" class=\"row_heading level0 row46\" >46</th>\n",
       "                        <td id=\"T_524bccd6_8c96_11ea_8d68_f45c89c033c9row46_col0\" class=\"data row46 col0\" >2020-03-17 00:00:00</td>\n",
       "                        <td id=\"T_524bccd6_8c96_11ea_8d68_f45c89c033c9row46_col1\" class=\"data row46 col1\" >0</td>\n",
       "                        <td id=\"T_524bccd6_8c96_11ea_8d68_f45c89c033c9row46_col2\" class=\"data row46 col2\" >1</td>\n",
       "            </tr>\n",
       "            <tr>\n",
       "                        <th id=\"T_524bccd6_8c96_11ea_8d68_f45c89c033c9level0_row47\" class=\"row_heading level0 row47\" >47</th>\n",
       "                        <td id=\"T_524bccd6_8c96_11ea_8d68_f45c89c033c9row47_col0\" class=\"data row47 col0\" >2020-03-16 00:00:00</td>\n",
       "                        <td id=\"T_524bccd6_8c96_11ea_8d68_f45c89c033c9row47_col1\" class=\"data row47 col1\" >841</td>\n",
       "                        <td id=\"T_524bccd6_8c96_11ea_8d68_f45c89c033c9row47_col2\" class=\"data row47 col2\" >2</td>\n",
       "            </tr>\n",
       "            <tr>\n",
       "                        <th id=\"T_524bccd6_8c96_11ea_8d68_f45c89c033c9level0_row48\" class=\"row_heading level0 row48\" >48</th>\n",
       "                        <td id=\"T_524bccd6_8c96_11ea_8d68_f45c89c033c9row48_col0\" class=\"data row48 col0\" >2020-03-15 00:00:00</td>\n",
       "                        <td id=\"T_524bccd6_8c96_11ea_8d68_f45c89c033c9row48_col1\" class=\"data row48 col1\" >238</td>\n",
       "                        <td id=\"T_524bccd6_8c96_11ea_8d68_f45c89c033c9row48_col2\" class=\"data row48 col2\" >4</td>\n",
       "            </tr>\n",
       "            <tr>\n",
       "                        <th id=\"T_524bccd6_8c96_11ea_8d68_f45c89c033c9level0_row49\" class=\"row_heading level0 row49\" >49</th>\n",
       "                        <td id=\"T_524bccd6_8c96_11ea_8d68_f45c89c033c9row49_col0\" class=\"data row49 col0\" >2020-03-14 00:00:00</td>\n",
       "                        <td id=\"T_524bccd6_8c96_11ea_8d68_f45c89c033c9row49_col1\" class=\"data row49 col1\" >267</td>\n",
       "                        <td id=\"T_524bccd6_8c96_11ea_8d68_f45c89c033c9row49_col2\" class=\"data row49 col2\" >3</td>\n",
       "            </tr>\n",
       "            <tr>\n",
       "                        <th id=\"T_524bccd6_8c96_11ea_8d68_f45c89c033c9level0_row50\" class=\"row_heading level0 row50\" >50</th>\n",
       "                        <td id=\"T_524bccd6_8c96_11ea_8d68_f45c89c033c9row50_col0\" class=\"data row50 col0\" >2020-03-13 00:00:00</td>\n",
       "                        <td id=\"T_524bccd6_8c96_11ea_8d68_f45c89c033c9row50_col1\" class=\"data row50 col1\" >212</td>\n",
       "                        <td id=\"T_524bccd6_8c96_11ea_8d68_f45c89c033c9row50_col2\" class=\"data row50 col2\" >0</td>\n",
       "            </tr>\n",
       "            <tr>\n",
       "                        <th id=\"T_524bccd6_8c96_11ea_8d68_f45c89c033c9level0_row51\" class=\"row_heading level0 row51\" >51</th>\n",
       "                        <td id=\"T_524bccd6_8c96_11ea_8d68_f45c89c033c9row51_col0\" class=\"data row51 col0\" >2020-03-12 00:00:00</td>\n",
       "                        <td id=\"T_524bccd6_8c96_11ea_8d68_f45c89c033c9row51_col1\" class=\"data row51 col1\" >152</td>\n",
       "                        <td id=\"T_524bccd6_8c96_11ea_8d68_f45c89c033c9row51_col2\" class=\"data row51 col2\" >1</td>\n",
       "            </tr>\n",
       "            <tr>\n",
       "                        <th id=\"T_524bccd6_8c96_11ea_8d68_f45c89c033c9level0_row52\" class=\"row_heading level0 row52\" >52</th>\n",
       "                        <td id=\"T_524bccd6_8c96_11ea_8d68_f45c89c033c9row52_col0\" class=\"data row52 col0\" >2020-03-11 00:00:00</td>\n",
       "                        <td id=\"T_524bccd6_8c96_11ea_8d68_f45c89c033c9row52_col1\" class=\"data row52 col1\" >116</td>\n",
       "                        <td id=\"T_524bccd6_8c96_11ea_8d68_f45c89c033c9row52_col2\" class=\"data row52 col2\" >1</td>\n",
       "            </tr>\n",
       "            <tr>\n",
       "                        <th id=\"T_524bccd6_8c96_11ea_8d68_f45c89c033c9level0_row53\" class=\"row_heading level0 row53\" >53</th>\n",
       "                        <td id=\"T_524bccd6_8c96_11ea_8d68_f45c89c033c9row53_col0\" class=\"data row53 col0\" >2020-03-10 00:00:00</td>\n",
       "                        <td id=\"T_524bccd6_8c96_11ea_8d68_f45c89c033c9row53_col1\" class=\"data row53 col1\" >42</td>\n",
       "                        <td id=\"T_524bccd6_8c96_11ea_8d68_f45c89c033c9row53_col2\" class=\"data row53 col2\" >0</td>\n",
       "            </tr>\n",
       "            <tr>\n",
       "                        <th id=\"T_524bccd6_8c96_11ea_8d68_f45c89c033c9level0_row54\" class=\"row_heading level0 row54\" >54</th>\n",
       "                        <td id=\"T_524bccd6_8c96_11ea_8d68_f45c89c033c9row54_col0\" class=\"data row54 col0\" >2020-03-09 00:00:00</td>\n",
       "                        <td id=\"T_524bccd6_8c96_11ea_8d68_f45c89c033c9row54_col1\" class=\"data row54 col1\" >68</td>\n",
       "                        <td id=\"T_524bccd6_8c96_11ea_8d68_f45c89c033c9row54_col2\" class=\"data row54 col2\" >1</td>\n",
       "            </tr>\n",
       "            <tr>\n",
       "                        <th id=\"T_524bccd6_8c96_11ea_8d68_f45c89c033c9level0_row55\" class=\"row_heading level0 row55\" >55</th>\n",
       "                        <td id=\"T_524bccd6_8c96_11ea_8d68_f45c89c033c9row55_col0\" class=\"data row55 col0\" >2020-03-08 00:00:00</td>\n",
       "                        <td id=\"T_524bccd6_8c96_11ea_8d68_f45c89c033c9row55_col1\" class=\"data row55 col1\" >55</td>\n",
       "                        <td id=\"T_524bccd6_8c96_11ea_8d68_f45c89c033c9row55_col2\" class=\"data row55 col2\" >0</td>\n",
       "            </tr>\n",
       "            <tr>\n",
       "                        <th id=\"T_524bccd6_8c96_11ea_8d68_f45c89c033c9level0_row56\" class=\"row_heading level0 row56\" >56</th>\n",
       "                        <td id=\"T_524bccd6_8c96_11ea_8d68_f45c89c033c9row56_col0\" class=\"data row56 col0\" >2020-03-07 00:00:00</td>\n",
       "                        <td id=\"T_524bccd6_8c96_11ea_8d68_f45c89c033c9row56_col1\" class=\"data row56 col1\" >122</td>\n",
       "                        <td id=\"T_524bccd6_8c96_11ea_8d68_f45c89c033c9row56_col2\" class=\"data row56 col2\" >0</td>\n",
       "            </tr>\n",
       "            <tr>\n",
       "                        <th id=\"T_524bccd6_8c96_11ea_8d68_f45c89c033c9level0_row57\" class=\"row_heading level0 row57\" >57</th>\n",
       "                        <td id=\"T_524bccd6_8c96_11ea_8d68_f45c89c033c9row57_col0\" class=\"data row57 col0\" >2020-03-06 00:00:00</td>\n",
       "                        <td id=\"T_524bccd6_8c96_11ea_8d68_f45c89c033c9row57_col1\" class=\"data row57 col1\" >30</td>\n",
       "                        <td id=\"T_524bccd6_8c96_11ea_8d68_f45c89c033c9row57_col2\" class=\"data row57 col2\" >1</td>\n",
       "            </tr>\n",
       "            <tr>\n",
       "                        <th id=\"T_524bccd6_8c96_11ea_8d68_f45c89c033c9level0_row58\" class=\"row_heading level0 row58\" >58</th>\n",
       "                        <td id=\"T_524bccd6_8c96_11ea_8d68_f45c89c033c9row58_col0\" class=\"data row58 col0\" >2020-03-05 00:00:00</td>\n",
       "                        <td id=\"T_524bccd6_8c96_11ea_8d68_f45c89c033c9row58_col1\" class=\"data row58 col1\" >20</td>\n",
       "                        <td id=\"T_524bccd6_8c96_11ea_8d68_f45c89c033c9row58_col2\" class=\"data row58 col2\" >0</td>\n",
       "            </tr>\n",
       "            <tr>\n",
       "                        <th id=\"T_524bccd6_8c96_11ea_8d68_f45c89c033c9level0_row59\" class=\"row_heading level0 row59\" >59</th>\n",
       "                        <td id=\"T_524bccd6_8c96_11ea_8d68_f45c89c033c9row59_col0\" class=\"data row59 col0\" >2020-03-04 00:00:00</td>\n",
       "                        <td id=\"T_524bccd6_8c96_11ea_8d68_f45c89c033c9row59_col1\" class=\"data row59 col1\" >7</td>\n",
       "                        <td id=\"T_524bccd6_8c96_11ea_8d68_f45c89c033c9row59_col2\" class=\"data row59 col2\" >0</td>\n",
       "            </tr>\n",
       "            <tr>\n",
       "                        <th id=\"T_524bccd6_8c96_11ea_8d68_f45c89c033c9level0_row60\" class=\"row_heading level0 row60\" >60</th>\n",
       "                        <td id=\"T_524bccd6_8c96_11ea_8d68_f45c89c033c9row60_col0\" class=\"data row60 col0\" >2020-03-03 00:00:00</td>\n",
       "                        <td id=\"T_524bccd6_8c96_11ea_8d68_f45c89c033c9row60_col1\" class=\"data row60 col1\" >6</td>\n",
       "                        <td id=\"T_524bccd6_8c96_11ea_8d68_f45c89c033c9row60_col2\" class=\"data row60 col2\" >0</td>\n",
       "            </tr>\n",
       "            <tr>\n",
       "                        <th id=\"T_524bccd6_8c96_11ea_8d68_f45c89c033c9level0_row61\" class=\"row_heading level0 row61\" >61</th>\n",
       "                        <td id=\"T_524bccd6_8c96_11ea_8d68_f45c89c033c9row61_col0\" class=\"data row61 col0\" >2020-03-02 00:00:00</td>\n",
       "                        <td id=\"T_524bccd6_8c96_11ea_8d68_f45c89c033c9row61_col1\" class=\"data row61 col1\" >6</td>\n",
       "                        <td id=\"T_524bccd6_8c96_11ea_8d68_f45c89c033c9row61_col2\" class=\"data row61 col2\" >0</td>\n",
       "            </tr>\n",
       "            <tr>\n",
       "                        <th id=\"T_524bccd6_8c96_11ea_8d68_f45c89c033c9level0_row62\" class=\"row_heading level0 row62\" >62</th>\n",
       "                        <td id=\"T_524bccd6_8c96_11ea_8d68_f45c89c033c9row62_col0\" class=\"data row62 col0\" >2020-03-01 00:00:00</td>\n",
       "                        <td id=\"T_524bccd6_8c96_11ea_8d68_f45c89c033c9row62_col1\" class=\"data row62 col1\" >6</td>\n",
       "                        <td id=\"T_524bccd6_8c96_11ea_8d68_f45c89c033c9row62_col2\" class=\"data row62 col2\" >0</td>\n",
       "            </tr>\n",
       "            <tr>\n",
       "                        <th id=\"T_524bccd6_8c96_11ea_8d68_f45c89c033c9level0_row63\" class=\"row_heading level0 row63\" >63</th>\n",
       "                        <td id=\"T_524bccd6_8c96_11ea_8d68_f45c89c033c9row63_col0\" class=\"data row63 col0\" >2020-02-29 00:00:00</td>\n",
       "                        <td id=\"T_524bccd6_8c96_11ea_8d68_f45c89c033c9row63_col1\" class=\"data row63 col1\" >4</td>\n",
       "                        <td id=\"T_524bccd6_8c96_11ea_8d68_f45c89c033c9row63_col2\" class=\"data row63 col2\" >0</td>\n",
       "            </tr>\n",
       "            <tr>\n",
       "                        <th id=\"T_524bccd6_8c96_11ea_8d68_f45c89c033c9level0_row64\" class=\"row_heading level0 row64\" >64</th>\n",
       "                        <td id=\"T_524bccd6_8c96_11ea_8d68_f45c89c033c9row64_col0\" class=\"data row64 col0\" >2020-02-28 00:00:00</td>\n",
       "                        <td id=\"T_524bccd6_8c96_11ea_8d68_f45c89c033c9row64_col1\" class=\"data row64 col1\" >7</td>\n",
       "                        <td id=\"T_524bccd6_8c96_11ea_8d68_f45c89c033c9row64_col2\" class=\"data row64 col2\" >0</td>\n",
       "            </tr>\n",
       "            <tr>\n",
       "                        <th id=\"T_524bccd6_8c96_11ea_8d68_f45c89c033c9level0_row65\" class=\"row_heading level0 row65\" >65</th>\n",
       "                        <td id=\"T_524bccd6_8c96_11ea_8d68_f45c89c033c9row65_col0\" class=\"data row65 col0\" >2020-02-26 00:00:00</td>\n",
       "                        <td id=\"T_524bccd6_8c96_11ea_8d68_f45c89c033c9row65_col1\" class=\"data row65 col1\" >1</td>\n",
       "                        <td id=\"T_524bccd6_8c96_11ea_8d68_f45c89c033c9row65_col2\" class=\"data row65 col2\" >0</td>\n",
       "            </tr>\n",
       "    </tbody></table>"
      ],
      "text/plain": [
       "<pandas.io.formats.style.Styler at 0x1a1d8547f0>"
      ]
     },
     "execution_count": 27,
     "metadata": {},
     "output_type": "execute_result"
    }
   ],
   "source": [
    "# Highlight Deaths and Cases values with bars\n",
    "df4.style.bar(subset=['Cases', 'Deaths'], color='#d65f5f')"
   ]
  },
  {
   "cell_type": "markdown",
   "metadata": {},
   "source": [
    "The highlighting provides a simple and nice way of visualizing the values within the dataframe."
   ]
  },
  {
   "cell_type": "markdown",
   "metadata": {},
   "source": [
    "## 2) Statistics & Visualizations"
   ]
  },
  {
   "cell_type": "code",
   "execution_count": 28,
   "metadata": {},
   "outputs": [
    {
     "name": "stdout",
     "output_type": "stream",
     "text": [
      "Date      66\n",
      "Cases     66\n",
      "Deaths    66\n",
      "dtype: int64\n"
     ]
    }
   ],
   "source": [
    "# Count how much data in each column\n",
    "print(df4.count())"
   ]
  },
  {
   "cell_type": "code",
   "execution_count": 29,
   "metadata": {},
   "outputs": [
    {
     "name": "stdout",
     "output_type": "stream",
     "text": [
      "        Cases  Deaths\n",
      "count    66.0    66.0\n",
      "mean    449.0    22.0\n",
      "std     399.0    22.0\n",
      "min       0.0     0.0\n",
      "25%     120.0     1.0\n",
      "50%     297.0    16.0\n",
      "75%     812.0    40.0\n",
      "max    1390.0    78.0\n"
     ]
    }
   ],
   "source": [
    "# Statistical measures of all columns\n",
    "print(df4.describe().round())"
   ]
  },
  {
   "cell_type": "code",
   "execution_count": 30,
   "metadata": {},
   "outputs": [
    {
     "name": "stdout",
     "output_type": "stream",
     "text": [
      "           Cases    Deaths\n",
      "Cases   1.000000  0.423575\n",
      "Deaths  0.423575  1.000000\n"
     ]
    }
   ],
   "source": [
    "# See correlation within data\n",
    "print(df4.corr())"
   ]
  },
  {
   "cell_type": "markdown",
   "metadata": {},
   "source": [
    "__Another way to observe the correlation:__ We look at the Pearson Correlation between cases and deaths using the SciPy library. A coefficient of 1 shows positive correlation and -1 shows negative correlation. a coefficient of 0 shows no correlation. A p-value below 0.001 shows strong certainty in our result. A p-value above 0.1 shows no certainty. A p-value between 0.05 to 0.1 shows moderate to weak certainty."
   ]
  },
  {
   "cell_type": "code",
   "execution_count": 31,
   "metadata": {},
   "outputs": [
    {
     "name": "stdout",
     "output_type": "stream",
     "text": [
      "The Pearson Correlation Coefficient is 0.42357522441577783  with a P-value of P =  0.0003944205639595494\n"
     ]
    }
   ],
   "source": [
    "# Pearson Correlation\n",
    "pearson_coef, p_value = sp.pearsonr(df4['Cases'],df4['Deaths'])\n",
    "print( \"The Pearson Correlation Coefficient is\", pearson_coef, \" with a P-value of P = \", p_value ) "
   ]
  },
  {
   "cell_type": "code",
   "execution_count": 32,
   "metadata": {},
   "outputs": [
    {
     "name": "stdout",
     "output_type": "stream",
     "text": [
      "The total number of reported cases is 29622.\n",
      "The total number of reported deaths is 1434.\n"
     ]
    }
   ],
   "source": [
    "# Total number of cases and deaths\n",
    "sum_cases = df4['Cases'].sum()\n",
    "sum_deaths = df4['Deaths'].sum()\n",
    "print('The total number of reported cases is ' + str(sum_cases) + '.')\n",
    "print('The total number of reported deaths is ' + str(sum_deaths) + '.')"
   ]
  },
  {
   "cell_type": "code",
   "execution_count": 33,
   "metadata": {},
   "outputs": [
    {
     "name": "stdout",
     "output_type": "stream",
     "text": [
      "The average number of reported cases daily is 449.0.\n",
      "The average number of reported deaths daily is 22.0.\n"
     ]
    }
   ],
   "source": [
    "# Average number of cases and deaths\n",
    "ave_cases = df4['Cases'].mean()\n",
    "ave_deaths = df4['Deaths'].mean()\n",
    "print('The average number of reported cases daily is ' + str(round(ave_cases, 0)) + '.')\n",
    "print('The average number of reported deaths daily is ' + str(round(ave_deaths, 0)) + '.')"
   ]
  },
  {
   "cell_type": "code",
   "execution_count": 34,
   "metadata": {},
   "outputs": [
    {
     "name": "stdout",
     "output_type": "stream",
     "text": [
      "The average mortality rate is 4.84%\n"
     ]
    }
   ],
   "source": [
    "# Average Mortality Rate\n",
    "ave_mortality_rate = (ave_deaths/ave_cases)*100\n",
    "round(ave_mortality_rate, 2)\n",
    "print('The average mortality rate is ' + str(round(ave_mortality_rate, 2)) + '%')"
   ]
  },
  {
   "cell_type": "code",
   "execution_count": 35,
   "metadata": {},
   "outputs": [
    {
     "name": "stdout",
     "output_type": "stream",
     "text": [
      "This mortality rate is quite high if you compare it to other countries. If you applied this mortality rate to the whole world population, we would observe approximately 363.1 million deaths worldwide!\n",
      "Another thing to note, the number of deaths is more precise than the number of cases. This would mean that the real mortality rate should normally be lower.\n"
     ]
    }
   ],
   "source": [
    "world_pop = 7500000000\n",
    "print(\"This mortality rate is quite high if you compare it to other countries. If you applied this mortality rate to the whole world population, we would observe approximately \" + str(round((ave_mortality_rate*world_pop)/100000000, 1)) + \" million deaths worldwide!\")\n",
    "\n",
    "print(\"Another thing to note, the number of deaths is more precise than the number of cases. This would mean that the real mortality rate should normally be lower.\")"
   ]
  },
  {
   "cell_type": "code",
   "execution_count": 36,
   "metadata": {},
   "outputs": [
    {
     "name": "stdout",
     "output_type": "stream",
     "text": [
      "The max number of reported cases in a day is 1390.\n",
      "The max number of reported deaths in a day is 78.\n"
     ]
    }
   ],
   "source": [
    "# Highest reported days for cases and deaths\n",
    "max_cases = df4['Cases'].max()\n",
    "max_deaths = df4['Deaths'].max()\n",
    "print('The max number of reported cases in a day is ' + str(max_cases) + '.')\n",
    "print('The max number of reported deaths in a day is ' + str(max_deaths) + '.')"
   ]
  },
  {
   "cell_type": "code",
   "execution_count": 37,
   "metadata": {},
   "outputs": [
    {
     "name": "stdout",
     "output_type": "stream",
     "text": [
      "[35]\n"
     ]
    }
   ],
   "source": [
    "# Find index to match cases date\n",
    "max_cases_index = df4[df4['Cases'] == df4.Cases.max()].index.values\n",
    "print(max_cases_index)"
   ]
  },
  {
   "cell_type": "code",
   "execution_count": 38,
   "metadata": {},
   "outputs": [
    {
     "name": "stdout",
     "output_type": "stream",
     "text": [
      "35   2020-03-28\n",
      "Name: Date, dtype: datetime64[ns]\n"
     ]
    }
   ],
   "source": [
    "# Find which day most cases were\n",
    "max_day_cases = df4.iloc[max_cases_index, 0]\n",
    "print(max_day_cases)"
   ]
  },
  {
   "cell_type": "code",
   "execution_count": 39,
   "metadata": {},
   "outputs": [
    {
     "name": "stdout",
     "output_type": "stream",
     "text": [
      "[31]\n"
     ]
    }
   ],
   "source": [
    "# Find index to match deaths date\n",
    "max_deaths_index = df4[df4['Deaths'] == df4.Deaths.max()].index.values\n",
    "print(max_deaths_index)"
   ]
  },
  {
   "cell_type": "code",
   "execution_count": 40,
   "metadata": {},
   "outputs": [
    {
     "name": "stdout",
     "output_type": "stream",
     "text": [
      "31   2020-04-01\n",
      "Name: Date, dtype: datetime64[ns]\n"
     ]
    }
   ],
   "source": [
    "# Find which day most deaths were\n",
    "max_day_deaths = df4.iloc[max_deaths_index, 0]\n",
    "print(max_day_deaths)"
   ]
  },
  {
   "cell_type": "markdown",
   "metadata": {},
   "source": [
    "We now look at some visualisation:"
   ]
  },
  {
   "cell_type": "code",
   "execution_count": 41,
   "metadata": {},
   "outputs": [
    {
     "data": {
      "image/png": "[encoded data removed]",
      "text/plain": [
       "<Figure size 432x288 with 1 Axes>"
      ]
     },
     "metadata": {
      "needs_background": "light"
     },
     "output_type": "display_data"
    }
   ],
   "source": [
    "# Plots\n",
    "pd.plotting.register_matplotlib_converters()\n",
    "\n",
    "plt.plot(df4['Date'], df4['Cases'],label = 'Cases')\n",
    "plt.plot(df4['Date'], df4['Deaths'], label = 'Deaths')\n",
    "plt.title('Time Series of Number of Cases VS Deaths', fontsize='large', fontweight='bold')\n",
    "plt.xlim(pd.Timestamp('2020-02-25'), pd.Timestamp('2020-05-02'))\n",
    "plt.xticks(rotation= 70)\n",
    "plt.xlabel('Time (Day)');\n",
    "plt.ylabel('Number');\n",
    "plt.show()"
   ]
  },
  {
   "cell_type": "code",
   "execution_count": 42,
   "metadata": {},
   "outputs": [
    {
     "data": {
      "image/png": "[encoded data removed]",
      "text/plain": [
       "<Figure size 432x288 with 1 Axes>"
      ]
     },
     "metadata": {
      "needs_background": "light"
     },
     "output_type": "display_data"
    }
   ],
   "source": [
    "# Or in bar format\n",
    "plt.bar(df4['Date'], df4['Cases'], width= 20)\n",
    "plt.bar(df4['Date'], df4['Deaths'], width= 20)\n",
    "plt.title('Time Series of Number of Cases VS Deaths',fontsize='large', fontweight='bold')\n",
    "plt.xlim(pd.Timestamp('2020-02-25'), pd.Timestamp('2020-05-02'))\n",
    "plt.xticks(rotation='vertical')\n",
    "plt.xlabel('Time (Day)');\n",
    "plt.ylabel('Number');\n",
    "plt.rc('figure',figsize = ('40,5'))\n",
    "plt.show()"
   ]
  },
  {
   "cell_type": "code",
   "execution_count": 43,
   "metadata": {},
   "outputs": [
    {
     "data": {
      "image/png": "[encoded data removed]",
      "text/plain": [
       "<Figure size 2880x360 with 1 Axes>"
      ]
     },
     "metadata": {
      "needs_background": "light"
     },
     "output_type": "display_data"
    }
   ],
   "source": [
    "plt.scatter(df4['Date'], df4['Cases'])\n",
    "plt.title('Time Series of Number of Cases',fontsize='large', fontweight='bold')\n",
    "plt.xticks(rotation='vertical')\n",
    "plt.xlabel('Time (Day)');\n",
    "plt.ylabel('Number');\n",
    "plt.rc('figure',figsize = ('40,5')) # changes figure's width and height\n",
    "plt.show()"
   ]
  },
  {
   "cell_type": "code",
   "execution_count": 44,
   "metadata": {},
   "outputs": [
    {
     "data": {
      "image/png": "[encoded data removed]",
      "text/plain": [
       "<Figure size 2880x360 with 1 Axes>"
      ]
     },
     "metadata": {
      "needs_background": "light"
     },
     "output_type": "display_data"
    }
   ],
   "source": [
    "plt.scatter(df4['Date'], df4['Deaths'])\n",
    "plt.title('Time Series of Number of Deaths',fontsize='large', fontweight='bold')\n",
    "plt.xticks(rotation='vertical')\n",
    "plt.xlabel('Time (Day)');\n",
    "plt.ylabel('Number');\n",
    "plt.rc('figure',figsize = ('40,5')) # changes figure's width and height\n",
    "plt.show()"
   ]
  },
  {
   "cell_type": "markdown",
   "metadata": {},
   "source": [
    "Let's plot some graphs using the seaborn library. We will look into the correlation between cases and deaths and plot a regression line and its residual plot. This is done to understand the relationship between the two variables. This can also be used to predict the number of deaths as a model. However, the model won't forecast very accurately as it will be seen below."
   ]
  },
  {
   "cell_type": "code",
   "execution_count": 45,
   "metadata": {},
   "outputs": [
    {
     "data": {
      "text/plain": [
       "Text(0.5, 1.0, 'Simple Linear Regression')"
      ]
     },
     "execution_count": 45,
     "metadata": {},
     "output_type": "execute_result"
    },
    {
     "data": {
      "image/png": "[encoded data removed]",
      "text/plain": [
       "<Figure size 2880x360 with 1 Axes>"
      ]
     },
     "metadata": {
      "needs_background": "light"
     },
     "output_type": "display_data"
    }
   ],
   "source": [
    "# Simple Linear Regression\n",
    "chart = sns.regplot(x = 'Cases', y = 'Deaths', data = df4, color = 'blue', marker = '+')\n",
    "plt.title('Simple Linear Regression',fontsize='large', fontweight='bold')"
   ]
  },
  {
   "cell_type": "markdown",
   "metadata": {},
   "source": [
    "A good way to visualize the variance of the data is to use a residual plot. The residual is the distance from the data point to the fitted regression line. If the points in a residual plot are randomly spread out around the x-axis, then a linear model is appropriate for the data. This is because randomly spread out residuals means that the variance is constant, and hence the linear model is a good fit for this data."
   ]
  },
  {
   "cell_type": "code",
   "execution_count": 46,
   "metadata": {},
   "outputs": [
    {
     "data": {
      "text/plain": [
       "Text(0.5, 1.0, 'Residual Plot')"
      ]
     },
     "execution_count": 46,
     "metadata": {},
     "output_type": "execute_result"
    },
    {
     "data": {
      "image/png": "[encoded data removed]",
      "text/plain": [
       "<Figure size 2880x360 with 1 Axes>"
      ]
     },
     "metadata": {
      "needs_background": "light"
     },
     "output_type": "display_data"
    }
   ],
   "source": [
    "# Residual Plot\n",
    "chart2 = sns.residplot(df4['Cases'], df4['Deaths'])\n",
    "plt.title('Residual Plot',fontsize='large', fontweight='bold')"
   ]
  },
  {
   "cell_type": "markdown",
   "metadata": {},
   "source": [
    "We could argue if a non-linear model would be more suitable or if we simply just need more data."
   ]
  },
  {
   "cell_type": "markdown",
   "metadata": {},
   "source": [
    "__Note:__ Many plots could be made using the matplotlib and seaborn libraries but exporting the data onto PowerBI or Tableau definitely is a better choice as interactive dashboards can be made on those softwares, making them more practical from a business standpoint."
   ]
  },
  {
   "cell_type": "markdown",
   "metadata": {},
   "source": [
    "First, let's check the __accuracy__ of our model. Two important measures are often used in statistics to compare models and/or to determine the accuracy of a model:\n",
    "\n",
    "- R^2 (R squared)\n",
    "\n",
    "R squared, also known as the coefficient of determination, is a measure to indicate how close the data is to the fitted regression line. The value of the R-squared is the percentage of variation of the response variable (y) that is explained by a linear model. The higher the value, the better the fit. \n",
    "\n",
    "- MSE (Mean Squared Error)\n",
    "\n",
    "The Mean Squared Error measures the average of the squares of errors, that is, the difference between actual value (y) and the estimated value (ŷ). A larger MSE means that the data values are dispersed widely around its mean. The lower the MSE (closest to 0), the higher the accuracy. MSE is better used when comparing models. This does not mean that the one with lowest MSE is necessarily the best model.\n",
    "\n",
    "__Note:__ There are also other metrics: MAE, RMSE, RAE, RSE, ..."
   ]
  },
  {
   "cell_type": "code",
   "execution_count": 47,
   "metadata": {},
   "outputs": [
    {
     "name": "stdout",
     "output_type": "stream",
     "text": [
      "The R-square is 17.94%. We can say that approximately 17.94% of the variation of deaths is explained by this simple linear model.\n"
     ]
    }
   ],
   "source": [
    "# Find the R^2\n",
    "lm = LinearRegression()\n",
    "X = df4[['Cases']]\n",
    "Y = df4['Deaths']\n",
    "lm.fit(X,Y)\n",
    "score = lm.score(X, Y)\n",
    "print('The R-square is ' + str(round(score, 4)*100) + '%.' + ' We can say that approximately ' + str(round(score, 4)*100) + '%'  + ' of the variation of deaths is explained by this simple linear model.')"
   ]
  },
  {
   "cell_type": "code",
   "execution_count": 48,
   "metadata": {},
   "outputs": [
    {
     "name": "stdout",
     "output_type": "stream",
     "text": [
      "The output of the first five predicted value is:  [14.01681313 15.4194877  14.57788296 13.57263285 13.64276658]\n"
     ]
    }
   ],
   "source": [
    "# Predict the output to then compare to actual results\n",
    "Yhat=lm.predict(X)\n",
    "print('The output of the first five predicted value is: ', Yhat[0:5])"
   ]
  },
  {
   "cell_type": "code",
   "execution_count": 49,
   "metadata": {},
   "outputs": [
    {
     "name": "stdout",
     "output_type": "stream",
     "text": [
      "The mean square error of Deaths and predicted value is 392.128\n"
     ]
    }
   ],
   "source": [
    "# Find MSE\n",
    "mse = mean_squared_error(df4['Deaths'], Yhat)\n",
    "print('The mean square error of Deaths and predicted value is', str(round(mse, 3)))"
   ]
  },
  {
   "cell_type": "markdown",
   "metadata": {},
   "source": [
    "__Note:__ It is understandable that __predicting__ or __estimating__ the amount of deaths from such a small data sample (using only the number of cases as the main predicting variable) is not going to be accurate. Most of the time, the more variables we have, the better our model is at predicting. However, having too many variables could also cause noise."
   ]
  },
  {
   "cell_type": "markdown",
   "metadata": {},
   "source": [
    "## Conclusion:\n",
    "\n",
    "We saw the power of Pandas, Numpy, SciPy, Scikit-Learn, Matplotlib, Seaborn and the fun of using those libraries with some styling in Python. In my personal opinion, the visualization section would definitely look better on PowerBI or Tableau. It is also more user/business customer-friendly as you can create simple interactive dashboards (This is what many organizations do) for people who want to explore the data within the case study. This project doesn't really bring out much that isn't on the news. It just shows the fun in coding and finding those analytics."
   ]
  }
 ],
 "metadata": {
  "kernelspec": {
   "display_name": "Python 3",
   "language": "python",
   "name": "python3"
  },
  "language_info": {
   "codemirror_mode": {
    "name": "ipython",
    "version": 3
   },
   "file_extension": ".py",
   "mimetype": "text/x-python",
   "name": "python",
   "nbconvert_exporter": "python",
   "pygments_lexer": "ipython3",
   "version": "3.7.3"
  }
 },
 "nbformat": 4,
 "nbformat_minor": 2
}
